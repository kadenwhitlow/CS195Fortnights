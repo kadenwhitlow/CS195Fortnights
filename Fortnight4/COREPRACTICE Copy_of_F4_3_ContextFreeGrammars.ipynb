{
  "cells": [
    {
      "cell_type": "markdown",
      "metadata": {
        "id": "C192SOmJS6lw"
      },
      "source": [
        "# CS 195: Natural Language Processing\n",
        "## Context-Free Grammars\n",
        "\n",
        "[![Open In Colab](https://colab.research.google.com/assets/colab-badge.svg)](https://colab.research.google.com/github/ericmanley/f23-CS195NLP/blob/main/F4_3_ContextFreeGrammars.ipynb)\n"
      ]
    },
    {
      "cell_type": "markdown",
      "metadata": {
        "id": "o22UmDk9pPUe"
      },
      "source": [
        "## References\n",
        "\n",
        "SLP: Context-Free Grammars and Constituency Parsing, Chapter 17 of *Speech and Language Processing* by Daniel Jurafsky & James H. Martin: https://web.stanford.edu/~jurafsky/slp3/17.pdf\n",
        "\n",
        "NLTK Book Chapter 8: Analyzing Sentence Structure: https://www.nltk.org/book/ch08.html"
      ]
    },
    {
      "cell_type": "code",
      "execution_count": 1,
      "metadata": {
        "id": "L7hbtkfbpPUf",
        "outputId": "f72ac33e-bfe8-4b25-ffdc-2c3f414f1f76",
        "colab": {
          "base_uri": "https://localhost:8080/"
        }
      },
      "outputs": [
        {
          "output_type": "stream",
          "name": "stdout",
          "text": [
            "Requirement already satisfied: nltk in /usr/local/lib/python3.10/dist-packages (3.8.1)\n",
            "Collecting svgling\n",
            "  Downloading svgling-0.4.0-py3-none-any.whl (23 kB)\n",
            "Requirement already satisfied: click in /usr/local/lib/python3.10/dist-packages (from nltk) (8.1.7)\n",
            "Requirement already satisfied: joblib in /usr/local/lib/python3.10/dist-packages (from nltk) (1.3.2)\n",
            "Requirement already satisfied: regex>=2021.8.3 in /usr/local/lib/python3.10/dist-packages (from nltk) (2023.6.3)\n",
            "Requirement already satisfied: tqdm in /usr/local/lib/python3.10/dist-packages (from nltk) (4.66.1)\n",
            "Collecting svgwrite (from svgling)\n",
            "  Downloading svgwrite-1.4.3-py3-none-any.whl (67 kB)\n",
            "\u001b[2K     \u001b[90m━━━━━━━━━━━━━━━━━━━━━━━━━━━━━━━━━━━━━━━━\u001b[0m \u001b[32m67.1/67.1 kB\u001b[0m \u001b[31m2.2 MB/s\u001b[0m eta \u001b[36m0:00:00\u001b[0m\n",
            "\u001b[?25hInstalling collected packages: svgwrite, svgling\n",
            "Successfully installed svgling-0.4.0 svgwrite-1.4.3\n"
          ]
        }
      ],
      "source": [
        "import sys\n",
        "!{sys.executable} -m pip install nltk svgling"
      ]
    },
    {
      "cell_type": "code",
      "execution_count": 2,
      "metadata": {
        "id": "KTK9nO_UpPUg"
      },
      "outputs": [],
      "source": [
        "#you shouldn't need to do this in Colab, but I had to do it on my own machine\n",
        "#in order to connect to the nltk service\n",
        "import nltk\n",
        "import ssl\n",
        "\n",
        "try:\n",
        "    _create_unverified_https_context = ssl._create_unverified_context\n",
        "except AttributeError:\n",
        "    pass\n",
        "else:\n",
        "    ssl._create_default_https_context = _create_unverified_https_context\n"
      ]
    },
    {
      "cell_type": "markdown",
      "metadata": {
        "id": "MJLcEDZdpPUg"
      },
      "source": [
        "## Syntax\n",
        "\n",
        "**Syntax** of natural language: the study of language *structure*, or how words combine to form phrases and sentences\n",
        "\n",
        "Like programming language syntax - what are the rules for making a valid program?\n",
        "\n",
        "In linguistics, syntax can be described using a **grammar**\n",
        "\n",
        "A **context-free grammar** is one kind of *formal* grammar that can describe most structural aspects of natural languages\n",
        "\n"
      ]
    },
    {
      "cell_type": "markdown",
      "metadata": {
        "id": "BCFQKyVhpPUh"
      },
      "source": [
        "## Programming Language Context-Free Grammar\n",
        "\n",
        "Here's an example of some **grammar rules** or **productions** that you might find in a C-like programming language (a real programming language will have *a lot more* productions than this)\n",
        "\n",
        "<table>\n",
        "    <tr>\n",
        "        <td style=\"text-align: right;\">\n",
        "            <i>IfStatement</i>\n",
        "        </td>\n",
        "        <td style=\"text-align: center;\">\n",
        "            &rarr;\n",
        "        </td>\n",
        "        <td style=\"text-align: left;\">\n",
        "            <code>if</code> <code>(</code> <i>Expression</i> <code>)</code> <i>Statement</i> <code>;</code>\n",
        "        </td>\n",
        "    </tr>\n",
        "    <tr>\n",
        "        <td style=\"text-align: right;\">\n",
        "            <i>Statement</i>\n",
        "        </td>\n",
        "        <td style=\"text-align: center;\">\n",
        "            &rarr;\n",
        "        </td>\n",
        "        <td style=\"text-align: left;\">\n",
        "            <i>IfStatement</i>\n",
        "        </td>\n",
        "    </tr>\n",
        "  <tr>\n",
        "    <td style=\"text-align: right;\"><em>Statement</em></td>\n",
        "    <td style=\"text-align: center;\">&rarr;</td>\n",
        "    <td style=\"text-align: left;\"><em>IfElseStatement</em></td>\n",
        "  </tr>\n",
        "  <tr>\n",
        "    <td style=\"text-align: right;\"><em>Statement</em></td>\n",
        "    <td style=\"text-align: center;\">&rarr;</td>\n",
        "    <td style=\"text-align: left;\"><em>WhileStatement</em></td>\n",
        "  </tr>\n",
        "  <tr>\n",
        "    <td style=\"text-align: right;\"><em>Statement</em></td>\n",
        "    <td style=\"text-align: center;\">&rarr;</td>\n",
        "    <td style=\"text-align: left;\"><em>AssignmentStatement</em></td>\n",
        "  </tr>\n",
        "  <tr>\n",
        "    <td style=\"text-align: right;\"><em>Expression</em></td>\n",
        "    <td style=\"text-align: center;\">&rarr;</td>\n",
        "    <td style=\"text-align: left;\"><em>Expression</em> <code>+</code> <em>Expression</em></td>\n",
        "  </tr>\n",
        "  <tr>\n",
        "    <td style=\"text-align: right;\"><em>Expression</em></td>\n",
        "    <td style=\"text-align: center;\">&rarr;</td>\n",
        "    <td style=\"text-align: left;\"><em>Expression</em> <code>-</code> <em>Expression</em></td>\n",
        "  </tr>\n",
        "  <tr>\n",
        "    <td style=\"text-align: right;\"><em>Expression</em></td>\n",
        "    <td style=\"text-align: center;\">&rarr;</td>\n",
        "    <td style=\"text-align: left;\"><em>Expression</em> <code>&lt;</code> <em>Expression</em></td>\n",
        "  </tr>\n",
        "  <tr>\n",
        "    <td style=\"text-align: right;\"><em>Expression</em></td>\n",
        "    <td style=\"text-align: center;\">&rarr;</td>\n",
        "    <td style=\"text-align: left;\"><em>Expression</em> <code>==</code> <em>Expression</em></td>\n",
        "  </tr>\n",
        "  <tr>\n",
        "    <td style=\"text-align: right;\"><em>Expression</em></td>\n",
        "    <td style=\"text-align: center;\">&rarr;</td>\n",
        "    <td style=\"text-align: left;\"><em>Number</em></td>\n",
        "  </tr>\n",
        "    \n",
        "</table>\n",
        "\n"
      ]
    },
    {
      "cell_type": "markdown",
      "metadata": {
        "id": "24CvDZ_epPUh"
      },
      "source": [
        "### Notes\n",
        "\n",
        "The $\\rightarrow$ symbol means *can have the form*\n",
        "\n",
        "tokens like `if`, `(`, `;`, and `+` are **terminal symbols** - they represent actual text\n",
        "\n",
        "symbols like *IfStatement*, *Expression*, and *Statement* are **non-terminal** symbols - they need to be described with other productions"
      ]
    },
    {
      "cell_type": "markdown",
      "metadata": {
        "id": "YH2dI6dTpPUh"
      },
      "source": [
        "## Abbreviated notation\n",
        "\n",
        "You can use the `|` symbol to mean \"or\" when giving a list of possible forms.\n",
        "\n",
        "<table>\n",
        "    <tr>\n",
        "        <td style=\"text-align: right;\">\n",
        "            <i>IfStatement</i>\n",
        "        </td>\n",
        "        <td style=\"text-align: center;\">\n",
        "            &rarr;\n",
        "        </td>\n",
        "        <td style=\"text-align: left;\">\n",
        "            <code>if</code> <code>(</code> <i>Expression</i> <code>)</code> <i>Statement</i> <code>;</code>\n",
        "        </td>\n",
        "    </tr>\n",
        "  <tr>\n",
        "    <td style=\"text-align: right;\"><em>Statement</em></td>\n",
        "    <td style=\"text-align: center;\">&rarr;</td>\n",
        "    <td style=\"text-align: left;\"><em>IfStatement</em> | <em>IfElseStatement</em> | <em>WhileStatement</em> | <em>AssignmentStatement</em></td>\n",
        "  </tr>\n",
        "    <td style=\"text-align: right;\"><em>Expression</em></td>\n",
        "    <td style=\"text-align: center;\">&rarr;</td>\n",
        "    <td style=\"text-align: left;\"><em>Expression</em> <code>+</code> <em>Expression</em> | <em>Expression</em> <code>-</code> <em>Expression</em> </td>\n",
        "  </tr>\n",
        "  <tr>\n",
        "    <td style=\"text-align: right;\"></td>\n",
        "    <td style=\"text-align: center;\"></td>\n",
        "    <td style=\"text-align: left;\">| <em>Expression</em> <code>&lt;</code> <em>Expression</em> | <em>Expression</em> <code>==</code> <em>Expression</em> </td>\n",
        "  </tr>\n",
        "  <tr>\n",
        "    <td style=\"text-align: right;\"><em></em></td>\n",
        "    <td style=\"text-align: center;\"></td>\n",
        "    <td style=\"text-align: left;\">| <em>Number</em></td>\n",
        "  </tr>\n",
        "    \n",
        "</table>"
      ]
    },
    {
      "cell_type": "markdown",
      "metadata": {
        "id": "V0CBUY0FpPUi"
      },
      "source": [
        "## A small English context-free grammar\n",
        "\n",
        "Here's a variation of a small subset of English from SLP 17.2\n",
        "\n",
        "\n",
        "<table>\n",
        "  <tr>\n",
        "    <td style=\"text-align: right;\"><em>Sentence</em></td>\n",
        "    <td style=\"text-align: center;\">&rarr;</td>\n",
        "    <td style=\"text-align: left;\"><em>NounPhrase</em> <em>VerbPhrase</em></td>\n",
        "  </tr>\n",
        "  <tr>\n",
        "    <td style=\"text-align: right;\"><em>NounPhrase</em></td>\n",
        "    <td style=\"text-align: center;\">&rarr;</td>\n",
        "    <td style=\"text-align: left;\"><em>Pronoun</em> | <em>Determiner</em> <em>Noun</em></td>\n",
        "  </tr>\n",
        "  <tr>\n",
        "    <td style=\"text-align: right;\"><em>VerbPhrase</em></td>\n",
        "    <td style=\"text-align: center;\">&rarr;</td>\n",
        "    <td style=\"text-align: left;\"><em>Verb</em> <em>NounPhrase</em> | <em>Verb</em> <em>NounPhrase</em> <em>PropositionalPhrase</em> | <em>Verb</em> <em>PrepositionalPhrase</em></td>\n",
        "  </tr>\n",
        "  <tr>\n",
        "    <td style=\"text-align: right;\"><em>PrepositionalPhrase</em></td>\n",
        "    <td style=\"text-align: center;\">&rarr;</td>\n",
        "    <td style=\"text-align: left;\"><em>Preposition</em> <em>NounPhrase</em></td>\n",
        "  </tr>\n",
        "  <tr>\n",
        "    <td style=\"text-align: right;\"><em>Determiner</em></td>\n",
        "    <td style=\"text-align: center;\">&rarr;</td>\n",
        "    <td style=\"text-align: left;\"><code>a</code> | <code>an</code> | <code>the</code> | <code>this</code> | <code>that</code> | <code>my</code> | ...</td>\n",
        "  </tr>\n",
        "  <tr>\n",
        "    <td style=\"text-align: right;\"><em>Pronoun</em></td>\n",
        "    <td style=\"text-align: center;\">&rarr;</td>\n",
        "    <td style=\"text-align: left;\"><code>me</code> | <code>I</code> | <code>you</code> | <code>it</code> | ...</td>\n",
        "  </tr>\n",
        "  <tr>\n",
        "    <td style=\"text-align: right;\"><em>Noun</em></td>\n",
        "    <td style=\"text-align: center;\">&rarr;</td>\n",
        "    <td style=\"text-align: left;\"><code>flights</code> | <code>flight</code> | <code>breeze</code> | <code>trip</code> | <code>morning</code> | <code>elephant</code> | <code>pajamas</code> | ...</td>\n",
        "  </tr>\n",
        "  <tr>\n",
        "    <td style=\"text-align: right;\"><em>Verb</em></td>\n",
        "    <td style=\"text-align: center;\">&rarr;</td>\n",
        "    <td style=\"text-align: left;\"><code>is</code> | <code>prefer</code> | <code>like</code> | <code>need</code> | <code>want</code> | <code>fly</code> | <code>do</code> | <code>shot</code> | ...</td>\n",
        "  </tr>\n",
        "  <tr>\n",
        "    <td style=\"text-align: right;\"><em>Preposition</em></td>\n",
        "    <td style=\"text-align: center;\">&rarr;</td>\n",
        "    <td style=\"text-align: left;\"><code>from</code> | <code>to</code> | <code>on</code> | <code>near</code> | <code>in</code> | ...</td>\n",
        "  </tr>\n",
        "</table>\n"
      ]
    },
    {
      "cell_type": "markdown",
      "metadata": {
        "id": "aLLW2KGqpPUi"
      },
      "source": [
        "## Derivations\n",
        "\n",
        "A **Derivation** is a sequence of steps in which you replace non-terminals with one of the options on the right side of a production until you end up with only terminals.\n",
        "\n",
        "For example\n",
        "\n",
        "*Sentence* $\\Rightarrow$ *NounPhrase* *VerbPhrase* $\\Rightarrow$ *Pronoun* *VerbPhrase* $\\Rightarrow$ *Pronoun* *Verb* *NounPhrase* $\\Rightarrow$ `I` *Verb* *NounPhrase* $\\Rightarrow$ `I` *Verb* *Determiner* *Noun* $\\Rightarrow$ `I` *Verb* *Determiner* `flight`\n",
        "$\\Rightarrow$ `I` *Verb* *Determiner* `flight` $\\Rightarrow$ `I` *Verb* `a` `flight` $\\Rightarrow$ `I` `need` `a` `flight`\n",
        "\n",
        "This shows that `I need a flight` can be derived from *Sentence*, so it is a valid sentence in the language."
      ]
    },
    {
      "cell_type": "markdown",
      "metadata": {
        "id": "8S1XgvgupPUi"
      },
      "source": [
        "## Parse Trees\n",
        "\n",
        "A **parse tree** is a graphical representation of a derivation sequence.\n",
        "\n",
        "Here's a parse tree for `I need a flight`\n",
        "\n",
        "\n",
        "<div>\n",
        "<img src=\"https://github.com/ericmanley/f23-CS195NLP/blob/main/images/parse_tree.png?raw=1\" width = 500/>\n",
        "</div>"
      ]
    },
    {
      "cell_type": "markdown",
      "metadata": {
        "id": "ZKAy20dLpPUj"
      },
      "source": [
        "## Group Exercise\n",
        "\n",
        "Find another sentence that can generated from *Sentence* but whose parse tree looks different.\n",
        "\n",
        "Draw the parse tree.\n",
        "\n",
        "              SENTENCE\n",
        "         |                |\n",
        "      NounPhrase       VerbPhrase\n",
        "         |           |          |\n",
        "      Pronoun      Verb     PrepositionalPhrase\n",
        "         |           |       |           |\n",
        "        You        like    Preposition   NounPhrase\n",
        "                            |            |         |\n",
        "                           to         Determiner  Noun\n",
        "                                      |              |\n",
        "                                     a              trip\n",
        "    "
      ]
    },
    {
      "cell_type": "markdown",
      "metadata": {
        "id": "crgLoLH6pPUj"
      },
      "source": [
        "## CFGs in NLTK\n",
        "\n",
        "The following examples show how you can define context-free grammars using the nltk library."
      ]
    },
    {
      "cell_type": "code",
      "execution_count": 4,
      "metadata": {
        "id": "y107l_sDpPUj",
        "outputId": "fcf290d0-b4d9-44f3-ff68-97eae841b984",
        "colab": {
          "base_uri": "https://localhost:8080/",
          "height": 311
        }
      },
      "outputs": [
        {
          "output_type": "stream",
          "name": "stdout",
          "text": [
            "Here's what the internal structure looks like:\n",
            "[Tree('NounPhrase', [Tree('Pronoun', ['I'])]), Tree('VerbPhrase', [Tree('Verb', ['need']), Tree('NounPhrase', [Tree('Determiner', ['a']), Tree('Noun', ['flight'])])])]\n",
            "\n",
            "Here's what the parse tree looks like graphically:\n"
          ]
        },
        {
          "output_type": "display_data",
          "data": {
            "text/plain": [
              "Tree('Sentence', [Tree('NounPhrase', [Tree('Pronoun', ['I'])]), Tree('VerbPhrase', [Tree('Verb', ['need']), Tree('NounPhrase', [Tree('Determiner', ['a']), Tree('Noun', ['flight'])])])])"
            ],
            "image/svg+xml": "<svg baseProfile=\"full\" height=\"216px\" preserveAspectRatio=\"xMidYMid meet\" style=\"font-family: times, serif; font-weight: normal; font-style: normal; font-size: 16px;\" version=\"1.1\" viewBox=\"0,0,304.0,216.0\" width=\"304px\" xmlns=\"http://www.w3.org/2000/svg\" xmlns:ev=\"http://www.w3.org/2001/xml-events\" xmlns:xlink=\"http://www.w3.org/1999/xlink\"><defs /><svg width=\"100%\" x=\"0\" y=\"0px\"><defs /><text text-anchor=\"middle\" x=\"50%\" y=\"16px\">Sentence</text></svg><svg width=\"31.5789%\" x=\"0%\" y=\"48px\"><defs /><svg width=\"100%\" x=\"0\" y=\"0px\"><defs /><text text-anchor=\"middle\" x=\"50%\" y=\"16px\">NounPhrase</text></svg><svg width=\"100%\" x=\"0%\" y=\"48px\"><defs /><svg width=\"100%\" x=\"0\" y=\"0px\"><defs /><text text-anchor=\"middle\" x=\"50%\" y=\"16px\">Pronoun</text></svg><svg width=\"100%\" x=\"0%\" y=\"48px\"><defs /><svg width=\"100%\" x=\"0\" y=\"0px\"><defs /><text text-anchor=\"middle\" x=\"50%\" y=\"16px\">I</text></svg></svg><line stroke=\"black\" x1=\"50%\" x2=\"50%\" y1=\"19.2px\" y2=\"48px\" /></svg><line stroke=\"black\" x1=\"50%\" x2=\"50%\" y1=\"19.2px\" y2=\"48px\" /></svg><line stroke=\"black\" x1=\"50%\" x2=\"15.7895%\" y1=\"19.2px\" y2=\"48px\" /><svg width=\"68.4211%\" x=\"31.5789%\" y=\"48px\"><defs /><svg width=\"100%\" x=\"0\" y=\"0px\"><defs /><text text-anchor=\"middle\" x=\"50%\" y=\"16px\">VerbPhrase</text></svg><svg width=\"23.0769%\" x=\"0%\" y=\"48px\"><defs /><svg width=\"100%\" x=\"0\" y=\"0px\"><defs /><text text-anchor=\"middle\" x=\"50%\" y=\"16px\">Verb</text></svg><svg width=\"100%\" x=\"0%\" y=\"48px\"><defs /><svg width=\"100%\" x=\"0\" y=\"0px\"><defs /><text text-anchor=\"middle\" x=\"50%\" y=\"16px\">need</text></svg></svg><line stroke=\"black\" x1=\"50%\" x2=\"50%\" y1=\"19.2px\" y2=\"48px\" /></svg><line stroke=\"black\" x1=\"50%\" x2=\"11.5385%\" y1=\"19.2px\" y2=\"48px\" /><svg width=\"76.9231%\" x=\"23.0769%\" y=\"48px\"><defs /><svg width=\"100%\" x=\"0\" y=\"0px\"><defs /><text text-anchor=\"middle\" x=\"50%\" y=\"16px\">NounPhrase</text></svg><svg width=\"60%\" x=\"0%\" y=\"48px\"><defs /><svg width=\"100%\" x=\"0\" y=\"0px\"><defs /><text text-anchor=\"middle\" x=\"50%\" y=\"16px\">Determiner</text></svg><svg width=\"100%\" x=\"0%\" y=\"48px\"><defs /><svg width=\"100%\" x=\"0\" y=\"0px\"><defs /><text text-anchor=\"middle\" x=\"50%\" y=\"16px\">a</text></svg></svg><line stroke=\"black\" x1=\"50%\" x2=\"50%\" y1=\"19.2px\" y2=\"48px\" /></svg><line stroke=\"black\" x1=\"50%\" x2=\"30%\" y1=\"19.2px\" y2=\"48px\" /><svg width=\"40%\" x=\"60%\" y=\"48px\"><defs /><svg width=\"100%\" x=\"0\" y=\"0px\"><defs /><text text-anchor=\"middle\" x=\"50%\" y=\"16px\">Noun</text></svg><svg width=\"100%\" x=\"0%\" y=\"48px\"><defs /><svg width=\"100%\" x=\"0\" y=\"0px\"><defs /><text text-anchor=\"middle\" x=\"50%\" y=\"16px\">flight</text></svg></svg><line stroke=\"black\" x1=\"50%\" x2=\"50%\" y1=\"19.2px\" y2=\"48px\" /></svg><line stroke=\"black\" x1=\"50%\" x2=\"80%\" y1=\"19.2px\" y2=\"48px\" /></svg><line stroke=\"black\" x1=\"50%\" x2=\"61.5385%\" y1=\"19.2px\" y2=\"48px\" /></svg><line stroke=\"black\" x1=\"50%\" x2=\"65.7895%\" y1=\"19.2px\" y2=\"48px\" /></svg>"
          },
          "metadata": {}
        }
      ],
      "source": [
        "import nltk\n",
        "\n",
        "\n",
        "productions = [\n",
        "    nltk.Production(nltk.Nonterminal('Sentence'), [nltk.Nonterminal('NounPhrase'), nltk.Nonterminal('VerbPhrase')]),\n",
        "    nltk.Production(nltk.Nonterminal('NounPhrase'), [nltk.Nonterminal('Pronoun')]),\n",
        "    nltk.Production(nltk.Nonterminal('NounPhrase'), [nltk.Nonterminal('Determiner'), nltk.Nonterminal('Noun')]),\n",
        "    nltk.Production(nltk.Nonterminal('NounPhrase'), [nltk.Nonterminal('Noun')]),\n",
        "    nltk.Production(nltk.Nonterminal('VerbPhrase'), [nltk.Nonterminal('Verb'), nltk.Nonterminal('NounPhrase')]),\n",
        "    nltk.Production(nltk.Nonterminal('VerbPhrase'), [nltk.Nonterminal('Verb'), nltk.Nonterminal('NounPhrase'), nltk.Nonterminal('PrepositionalPhrase')]),\n",
        "    nltk.Production(nltk.Nonterminal('VerbPhrase'), [nltk.Nonterminal('Verb'), nltk.Nonterminal('PrepositionalPhrase')]),\n",
        "    nltk.Production(nltk.Nonterminal('PrepositionalPhrase'), [nltk.Nonterminal('Preposition'), nltk.Nonterminal('NounPhrase')]),\n",
        "\n",
        "    # Productions for Determiner\n",
        "    nltk.Production(nltk.Nonterminal('Determiner'), ['a']),\n",
        "    nltk.Production(nltk.Nonterminal('Determiner'), ['an']),\n",
        "    nltk.Production(nltk.Nonterminal('Determiner'), ['the']),\n",
        "    nltk.Production(nltk.Nonterminal('Determiner'), ['this']),\n",
        "    nltk.Production(nltk.Nonterminal('Determiner'), ['that']),\n",
        "    nltk.Production(nltk.Nonterminal('Determiner'), ['my']),\n",
        "    # Add more Determiner productions as needed\n",
        "\n",
        "    # Productions for Pronoun\n",
        "    nltk.Production(nltk.Nonterminal('Pronoun'), ['me']),\n",
        "    nltk.Production(nltk.Nonterminal('Pronoun'), ['I']),\n",
        "    nltk.Production(nltk.Nonterminal('Pronoun'), ['you']),\n",
        "    nltk.Production(nltk.Nonterminal('Pronoun'), ['it']),\n",
        "    # Add more Pronoun productions as needed\n",
        "\n",
        "    # Productions for Noun\n",
        "    nltk.Production(nltk.Nonterminal('Noun'), ['flights']),\n",
        "    nltk.Production(nltk.Nonterminal('Noun'), ['flight']),\n",
        "    nltk.Production(nltk.Nonterminal('Noun'), ['breeze']),\n",
        "    nltk.Production(nltk.Nonterminal('Noun'), ['trip']),\n",
        "    nltk.Production(nltk.Nonterminal('Noun'), ['morning']),\n",
        "    nltk.Production(nltk.Nonterminal('Noun'), ['elephant']),\n",
        "    nltk.Production(nltk.Nonterminal('Noun'), ['pajamas']),\n",
        "    # Add more Noun productions as needed\n",
        "\n",
        "    # Productions for Verb\n",
        "    nltk.Production(nltk.Nonterminal('Verb'), ['is']),\n",
        "    nltk.Production(nltk.Nonterminal('Verb'), ['prefer']),\n",
        "    nltk.Production(nltk.Nonterminal('Verb'), ['like']),\n",
        "    nltk.Production(nltk.Nonterminal('Verb'), ['need']),\n",
        "    nltk.Production(nltk.Nonterminal('Verb'), ['want']),\n",
        "    nltk.Production(nltk.Nonterminal('Verb'), ['fly']),\n",
        "    nltk.Production(nltk.Nonterminal('Verb'), ['do']),\n",
        "    nltk.Production(nltk.Nonterminal('Verb'), ['shot']),\n",
        "    # Add more Verb productions as needed\n",
        "\n",
        "    # Productions for Preposition\n",
        "    nltk.Production(nltk.Nonterminal('Preposition'), ['from']),\n",
        "    nltk.Production(nltk.Nonterminal('Preposition'), ['to']),\n",
        "    nltk.Production(nltk.Nonterminal('Preposition'), ['on']),\n",
        "    nltk.Production(nltk.Nonterminal('Preposition'), ['near']),\n",
        "    nltk.Production(nltk.Nonterminal('Preposition'), ['in']),\n",
        "    # Add more Preposition productions as needed\n",
        "]\n",
        "\n",
        "#Sentence is top-level symbol\n",
        "custom_grammar = nltk.CFG(nltk.Nonterminal('Sentence'), productions)\n",
        "\n",
        "#we'll talk about parsers later\n",
        "parser = nltk.ChartParser(custom_grammar)\n",
        "\n",
        "#an example tokenized sentence\n",
        "sentence = \"I need a flight\".split()\n",
        "\n",
        "#there could be many trees\n",
        "for tree in parser.parse(sentence):\n",
        "    # Visualize the parse tree\n",
        "    print(\"Here's what the internal structure looks like:\")\n",
        "    print(list(tree))\n",
        "    #nltk.draw.tree.draw_trees(tree) #uncomment to get an image\n",
        "    print(\"\\nHere's what the parse tree looks like graphically:\")\n",
        "    display(tree)"
      ]
    },
    {
      "cell_type": "markdown",
      "metadata": {
        "id": "qu1bcQicpPUj"
      },
      "source": [
        "## Group Exercise\n",
        "\n",
        "Run this code and try parsing the sentences you came up with on the previous exercise. Compare your parse trees with those produced with the parser."
      ]
    },
    {
      "cell_type": "code",
      "source": [
        "sentence = \"you like to a trip\".split()\n",
        "for tree in parser.parse(sentence):\n",
        "    # Visualize the parse tree\n",
        "    print(\"Here's what the internal structure looks like:\")\n",
        "    print(list(tree))\n",
        "    #nltk.draw.tree.draw_trees(tree) #uncomment to get an image\n",
        "    print(\"\\nHere's what the parse tree looks like graphically:\")\n",
        "    display(tree)"
      ],
      "metadata": {
        "colab": {
          "base_uri": "https://localhost:8080/",
          "height": 379
        },
        "id": "tksD1oJwxt8P",
        "outputId": "f125bf9d-97da-4b81-f449-090b2f56dcb5"
      },
      "execution_count": 6,
      "outputs": [
        {
          "output_type": "stream",
          "name": "stdout",
          "text": [
            "Here's what the internal structure looks like:\n",
            "[Tree('NounPhrase', [Tree('Pronoun', ['you'])]), Tree('VerbPhrase', [Tree('Verb', ['like']), Tree('PrepositionalPhrase', [Tree('Preposition', ['to']), Tree('NounPhrase', [Tree('Determiner', ['a']), Tree('Noun', ['trip'])])])])]\n",
            "\n",
            "Here's what the parse tree looks like graphically:\n"
          ]
        },
        {
          "output_type": "display_data",
          "data": {
            "text/plain": [
              "Tree('Sentence', [Tree('NounPhrase', [Tree('Pronoun', ['you'])]), Tree('VerbPhrase', [Tree('Verb', ['like']), Tree('PrepositionalPhrase', [Tree('Preposition', ['to']), Tree('NounPhrase', [Tree('Determiner', ['a']), Tree('Noun', ['trip'])])])])])"
            ],
            "image/svg+xml": "<svg baseProfile=\"full\" height=\"264px\" preserveAspectRatio=\"xMidYMid meet\" style=\"font-family: times, serif; font-weight: normal; font-style: normal; font-size: 16px;\" version=\"1.1\" viewBox=\"0,0,392.0,264.0\" width=\"392px\" xmlns=\"http://www.w3.org/2000/svg\" xmlns:ev=\"http://www.w3.org/2001/xml-events\" xmlns:xlink=\"http://www.w3.org/1999/xlink\"><defs /><svg width=\"100%\" x=\"0\" y=\"0px\"><defs /><text text-anchor=\"middle\" x=\"50%\" y=\"16px\">Sentence</text></svg><svg width=\"24.4898%\" x=\"0%\" y=\"48px\"><defs /><svg width=\"100%\" x=\"0\" y=\"0px\"><defs /><text text-anchor=\"middle\" x=\"50%\" y=\"16px\">NounPhrase</text></svg><svg width=\"100%\" x=\"0%\" y=\"48px\"><defs /><svg width=\"100%\" x=\"0\" y=\"0px\"><defs /><text text-anchor=\"middle\" x=\"50%\" y=\"16px\">Pronoun</text></svg><svg width=\"100%\" x=\"0%\" y=\"48px\"><defs /><svg width=\"100%\" x=\"0\" y=\"0px\"><defs /><text text-anchor=\"middle\" x=\"50%\" y=\"16px\">you</text></svg></svg><line stroke=\"black\" x1=\"50%\" x2=\"50%\" y1=\"19.2px\" y2=\"48px\" /></svg><line stroke=\"black\" x1=\"50%\" x2=\"50%\" y1=\"19.2px\" y2=\"48px\" /></svg><line stroke=\"black\" x1=\"50%\" x2=\"12.2449%\" y1=\"19.2px\" y2=\"48px\" /><svg width=\"75.5102%\" x=\"24.4898%\" y=\"48px\"><defs /><svg width=\"100%\" x=\"0\" y=\"0px\"><defs /><text text-anchor=\"middle\" x=\"50%\" y=\"16px\">VerbPhrase</text></svg><svg width=\"16.2162%\" x=\"0%\" y=\"48px\"><defs /><svg width=\"100%\" x=\"0\" y=\"0px\"><defs /><text text-anchor=\"middle\" x=\"50%\" y=\"16px\">Verb</text></svg><svg width=\"100%\" x=\"0%\" y=\"48px\"><defs /><svg width=\"100%\" x=\"0\" y=\"0px\"><defs /><text text-anchor=\"middle\" x=\"50%\" y=\"16px\">like</text></svg></svg><line stroke=\"black\" x1=\"50%\" x2=\"50%\" y1=\"19.2px\" y2=\"48px\" /></svg><line stroke=\"black\" x1=\"50%\" x2=\"8.10811%\" y1=\"19.2px\" y2=\"48px\" /><svg width=\"83.7838%\" x=\"16.2162%\" y=\"48px\"><defs /><svg width=\"100%\" x=\"0\" y=\"0px\"><defs /><text text-anchor=\"middle\" x=\"50%\" y=\"16px\">PrepositionalPhrase</text></svg><svg width=\"41.9355%\" x=\"0%\" y=\"48px\"><defs /><svg width=\"100%\" x=\"0\" y=\"0px\"><defs /><text text-anchor=\"middle\" x=\"50%\" y=\"16px\">Preposition</text></svg><svg width=\"100%\" x=\"0%\" y=\"48px\"><defs /><svg width=\"100%\" x=\"0\" y=\"0px\"><defs /><text text-anchor=\"middle\" x=\"50%\" y=\"16px\">to</text></svg></svg><line stroke=\"black\" x1=\"50%\" x2=\"50%\" y1=\"19.2px\" y2=\"48px\" /></svg><line stroke=\"black\" x1=\"50%\" x2=\"20.9677%\" y1=\"19.2px\" y2=\"48px\" /><svg width=\"58.0645%\" x=\"41.9355%\" y=\"48px\"><defs /><svg width=\"100%\" x=\"0\" y=\"0px\"><defs /><text text-anchor=\"middle\" x=\"50%\" y=\"16px\">NounPhrase</text></svg><svg width=\"66.6667%\" x=\"0%\" y=\"48px\"><defs /><svg width=\"100%\" x=\"0\" y=\"0px\"><defs /><text text-anchor=\"middle\" x=\"50%\" y=\"16px\">Determiner</text></svg><svg width=\"100%\" x=\"0%\" y=\"48px\"><defs /><svg width=\"100%\" x=\"0\" y=\"0px\"><defs /><text text-anchor=\"middle\" x=\"50%\" y=\"16px\">a</text></svg></svg><line stroke=\"black\" x1=\"50%\" x2=\"50%\" y1=\"19.2px\" y2=\"48px\" /></svg><line stroke=\"black\" x1=\"50%\" x2=\"33.3333%\" y1=\"19.2px\" y2=\"48px\" /><svg width=\"33.3333%\" x=\"66.6667%\" y=\"48px\"><defs /><svg width=\"100%\" x=\"0\" y=\"0px\"><defs /><text text-anchor=\"middle\" x=\"50%\" y=\"16px\">Noun</text></svg><svg width=\"100%\" x=\"0%\" y=\"48px\"><defs /><svg width=\"100%\" x=\"0\" y=\"0px\"><defs /><text text-anchor=\"middle\" x=\"50%\" y=\"16px\">trip</text></svg></svg><line stroke=\"black\" x1=\"50%\" x2=\"50%\" y1=\"19.2px\" y2=\"48px\" /></svg><line stroke=\"black\" x1=\"50%\" x2=\"83.3333%\" y1=\"19.2px\" y2=\"48px\" /></svg><line stroke=\"black\" x1=\"50%\" x2=\"70.9677%\" y1=\"19.2px\" y2=\"48px\" /></svg><line stroke=\"black\" x1=\"50%\" x2=\"58.1081%\" y1=\"19.2px\" y2=\"48px\" /></svg><line stroke=\"black\" x1=\"50%\" x2=\"62.2449%\" y1=\"19.2px\" y2=\"48px\" /></svg>"
          },
          "metadata": {}
        }
      ]
    },
    {
      "cell_type": "markdown",
      "metadata": {
        "id": "7nQB3KkHpPUj"
      },
      "source": [
        "## Recursive Productions\n",
        "\n",
        "Grammars can contain recursion. For example, let's change our definition of a *NounPhrase*\n",
        "\n",
        "<table>\n",
        "  <tr>\n",
        "    <td style=\"text-align: right;\"><em>NounPhrase</em></td>\n",
        "    <td style=\"text-align: center;\">&rarr;</td>\n",
        "    <td style=\"text-align: left;\"><em>Pronoun</em> | <em>Determiner</em> <em>Nominal</em> | <em>Nominal</em></td>\n",
        "  </tr>\n",
        "  <tr>\n",
        "    <td style=\"text-align: right;\"><em>Nominal</em></td>\n",
        "    <td style=\"text-align: center;\">&rarr;</td>\n",
        "      <td style=\"text-align: left;\"><em>Nominal</em> <em>Noun</em> | <em>Nominal</em> | <em>Noun</em> </td>\n",
        "  </tr>\n",
        "</table>\n",
        "\n",
        "This allows for trees like\n",
        "\n",
        "\n",
        "<div>\n",
        "<img src=\"https://github.com/ericmanley/f23-CS195NLP/blob/main/images/recursive_parse_tree1.png?raw=1\" width=400 /><img src=\"https://github.com/ericmanley/f23-CS195NLP/blob/main/images/recursive_parse_tree2.png?raw=1\" width=400/>\n",
        "</div>"
      ]
    },
    {
      "cell_type": "markdown",
      "metadata": {
        "id": "W69d46W7pPUj"
      },
      "source": [
        "## Group Exercise\n",
        "\n",
        "Add productions to the grammar that allows for multiple prepositional phrases like `I fly in the morning on a flight`\n",
        "\n",
        "<div>\n",
        "<img src=\"https://github.com/ericmanley/f23-CS195NLP/blob/main/images/preposition_parse_tree1.png?raw=1\" width=500/>\n",
        "</div>"
      ]
    },
    {
      "cell_type": "markdown",
      "metadata": {
        "id": "9JP5rKHQpPUj"
      },
      "source": [
        "## Group Exercise\n",
        "\n",
        "Include the new definition of *NounPhrase* and *Nominal* as well as your recursive prepositional phrases in the nltk grammar. Test it out."
      ]
    },
    {
      "cell_type": "code",
      "source": [
        "import nltk\n",
        "\n",
        "\n",
        "productions = [\n",
        "    nltk.Production(nltk.Nonterminal('Sentence'), [nltk.Nonterminal('NounPhrase'), nltk.Nonterminal('VerbPhrase')]),\n",
        "    nltk.Production(nltk.Nonterminal('NounPhrase'), [nltk.Nonterminal('Pronoun')]),\n",
        "    nltk.Production(nltk.Nonterminal('NounPhrase'), [nltk.Nonterminal('Determiner'), nltk.Nonterminal('Nominal')]),\n",
        "    nltk.Production(nltk.Nonterminal('NounPhrase'), [nltk.Nonterminal('Nominal')]),\n",
        "    nltk.Production(nltk.Nonterminal('Nominal'), [nltk.Nonterminal('Nominal'), nltk.Nonterminal('Noun')]),\n",
        "    nltk.Production(nltk.Nonterminal('Nominal'), [nltk.Nonterminal('Nominal')]),\n",
        "    nltk.Production(nltk.Nonterminal('Nominal'), [nltk.Nonterminal('Noun')]),\n",
        "    nltk.Production(nltk.Nonterminal('VerbPhrase'), [nltk.Nonterminal('Verb'), nltk.Nonterminal('NounPhrase')]),\n",
        "    nltk.Production(nltk.Nonterminal('VerbPhrase'), [nltk.Nonterminal('Verb'), nltk.Nonterminal('NounPhrase'), nltk.Nonterminal('PrepositionalPhrase')]),\n",
        "    nltk.Production(nltk.Nonterminal('VerbPhrase'), [nltk.Nonterminal('Verb'), nltk.Nonterminal('PrepositionalPhrase')]),\n",
        "    nltk.Production(nltk.Nonterminal('PrepositionalPhrase'), [nltk.Nonterminal('Preposition'), nltk.Nonterminal('NounPhrase')]),\n",
        "    nltk.Production(nltk.Nonterminal('PrepositionalPhrase'), [nltk.Nonterminal('Preposition'), nltk.Nonterminal('NounPhrase'), nltk.Nonterminal('PrepositionalPhrase')]),\n",
        "\n",
        "    # Productions for Determiner\n",
        "    nltk.Production(nltk.Nonterminal('Determiner'), ['a']),\n",
        "    nltk.Production(nltk.Nonterminal('Determiner'), ['an']),\n",
        "    nltk.Production(nltk.Nonterminal('Determiner'), ['the']),\n",
        "    nltk.Production(nltk.Nonterminal('Determiner'), ['this']),\n",
        "    nltk.Production(nltk.Nonterminal('Determiner'), ['that']),\n",
        "    nltk.Production(nltk.Nonterminal('Determiner'), ['my']),\n",
        "    # Add more Determiner productions as needed\n",
        "\n",
        "    # Productions for Pronoun\n",
        "    nltk.Production(nltk.Nonterminal('Pronoun'), ['me']),\n",
        "    nltk.Production(nltk.Nonterminal('Pronoun'), ['I']),\n",
        "    nltk.Production(nltk.Nonterminal('Pronoun'), ['you']),\n",
        "    nltk.Production(nltk.Nonterminal('Pronoun'), ['it']),\n",
        "    # Add more Pronoun productions as needed\n",
        "\n",
        "    # Productions for Noun\n",
        "    nltk.Production(nltk.Nonterminal('Noun'), ['flights']),\n",
        "    nltk.Production(nltk.Nonterminal('Noun'), ['flight']),\n",
        "    nltk.Production(nltk.Nonterminal('Noun'), ['breeze']),\n",
        "    nltk.Production(nltk.Nonterminal('Noun'), ['trip']),\n",
        "    nltk.Production(nltk.Nonterminal('Noun'), ['morning']),\n",
        "    nltk.Production(nltk.Nonterminal('Noun'), ['elephant']),\n",
        "    nltk.Production(nltk.Nonterminal('Noun'), ['pajamas']),\n",
        "    # Add more Noun productions as needed\n",
        "\n",
        "    # Productions for Verb\n",
        "    nltk.Production(nltk.Nonterminal('Verb'), ['is']),\n",
        "    nltk.Production(nltk.Nonterminal('Verb'), ['prefer']),\n",
        "    nltk.Production(nltk.Nonterminal('Verb'), ['like']),\n",
        "    nltk.Production(nltk.Nonterminal('Verb'), ['need']),\n",
        "    nltk.Production(nltk.Nonterminal('Verb'), ['want']),\n",
        "    nltk.Production(nltk.Nonterminal('Verb'), ['fly']),\n",
        "    nltk.Production(nltk.Nonterminal('Verb'), ['do']),\n",
        "    nltk.Production(nltk.Nonterminal('Verb'), ['shot']),\n",
        "    # Add more Verb productions as needed\n",
        "\n",
        "    # Productions for Preposition\n",
        "    nltk.Production(nltk.Nonterminal('Preposition'), ['from']),\n",
        "    nltk.Production(nltk.Nonterminal('Preposition'), ['to']),\n",
        "    nltk.Production(nltk.Nonterminal('Preposition'), ['on']),\n",
        "    nltk.Production(nltk.Nonterminal('Preposition'), ['near']),\n",
        "    nltk.Production(nltk.Nonterminal('Preposition'), ['in']),\n",
        "    # Add more Preposition productions as needed\n",
        "]\n",
        "\n",
        "#Sentence is top-level symbol\n",
        "custom_grammar = nltk.CFG(nltk.Nonterminal('Sentence'), productions)\n",
        "\n",
        "#we'll talk about parsers later\n",
        "parser = nltk.ChartParser(custom_grammar)\n",
        "\n",
        "#an example tokenized sentence\n",
        "sentence = \"I fly in the morning\".split()\n",
        "\n",
        "#there could be many trees\n",
        "for tree in parser.parse(sentence):\n",
        "    # Visualize the parse tree\n",
        "    print(\"Here's what the internal structure looks like:\")\n",
        "    print(list(tree))\n",
        "    #nltk.draw.tree.draw_trees(tree) #uncomment to get an image\n",
        "    print(\"\\nHere's what the parse tree looks like graphically:\")\n",
        "    display(tree)"
      ],
      "metadata": {
        "colab": {
          "base_uri": "https://localhost:8080/",
          "height": 865
        },
        "id": "T-dbz1Na0_zu",
        "outputId": "fc963261-0914-4056-8467-7923b68bce68"
      },
      "execution_count": 9,
      "outputs": [
        {
          "output_type": "stream",
          "name": "stdout",
          "text": [
            "Here's what the internal structure looks like:\n",
            "[Tree('NounPhrase', [Tree('Pronoun', ['I'])]), Tree('VerbPhrase', [Tree('Verb', ['fly']), Tree('PrepositionalPhrase', [Tree('Preposition', ['in']), Tree('NounPhrase', [Tree('Determiner', ['the']), Tree('Nominal', [Tree('Noun', ['morning'])])])])])]\n",
            "\n",
            "Here's what the parse tree looks like graphically:\n"
          ]
        },
        {
          "output_type": "display_data",
          "data": {
            "text/plain": [
              "Tree('Sentence', [Tree('NounPhrase', [Tree('Pronoun', ['I'])]), Tree('VerbPhrase', [Tree('Verb', ['fly']), Tree('PrepositionalPhrase', [Tree('Preposition', ['in']), Tree('NounPhrase', [Tree('Determiner', ['the']), Tree('Nominal', [Tree('Noun', ['morning'])])])])])])"
            ],
            "image/svg+xml": "<svg baseProfile=\"full\" height=\"312px\" preserveAspectRatio=\"xMidYMid meet\" style=\"font-family: times, serif; font-weight: normal; font-style: normal; font-size: 16px;\" version=\"1.1\" viewBox=\"0,0,416.0,312.0\" width=\"416px\" xmlns=\"http://www.w3.org/2000/svg\" xmlns:ev=\"http://www.w3.org/2001/xml-events\" xmlns:xlink=\"http://www.w3.org/1999/xlink\"><defs /><svg width=\"100%\" x=\"0\" y=\"0px\"><defs /><text text-anchor=\"middle\" x=\"50%\" y=\"16px\">Sentence</text></svg><svg width=\"23.0769%\" x=\"0%\" y=\"48px\"><defs /><svg width=\"100%\" x=\"0\" y=\"0px\"><defs /><text text-anchor=\"middle\" x=\"50%\" y=\"16px\">NounPhrase</text></svg><svg width=\"100%\" x=\"0%\" y=\"48px\"><defs /><svg width=\"100%\" x=\"0\" y=\"0px\"><defs /><text text-anchor=\"middle\" x=\"50%\" y=\"16px\">Pronoun</text></svg><svg width=\"100%\" x=\"0%\" y=\"48px\"><defs /><svg width=\"100%\" x=\"0\" y=\"0px\"><defs /><text text-anchor=\"middle\" x=\"50%\" y=\"16px\">I</text></svg></svg><line stroke=\"black\" x1=\"50%\" x2=\"50%\" y1=\"19.2px\" y2=\"48px\" /></svg><line stroke=\"black\" x1=\"50%\" x2=\"50%\" y1=\"19.2px\" y2=\"48px\" /></svg><line stroke=\"black\" x1=\"50%\" x2=\"11.5385%\" y1=\"19.2px\" y2=\"48px\" /><svg width=\"76.9231%\" x=\"23.0769%\" y=\"48px\"><defs /><svg width=\"100%\" x=\"0\" y=\"0px\"><defs /><text text-anchor=\"middle\" x=\"50%\" y=\"16px\">VerbPhrase</text></svg><svg width=\"15%\" x=\"0%\" y=\"48px\"><defs /><svg width=\"100%\" x=\"0\" y=\"0px\"><defs /><text text-anchor=\"middle\" x=\"50%\" y=\"16px\">Verb</text></svg><svg width=\"100%\" x=\"0%\" y=\"48px\"><defs /><svg width=\"100%\" x=\"0\" y=\"0px\"><defs /><text text-anchor=\"middle\" x=\"50%\" y=\"16px\">fly</text></svg></svg><line stroke=\"black\" x1=\"50%\" x2=\"50%\" y1=\"19.2px\" y2=\"48px\" /></svg><line stroke=\"black\" x1=\"50%\" x2=\"7.5%\" y1=\"19.2px\" y2=\"48px\" /><svg width=\"85%\" x=\"15%\" y=\"48px\"><defs /><svg width=\"100%\" x=\"0\" y=\"0px\"><defs /><text text-anchor=\"middle\" x=\"50%\" y=\"16px\">PrepositionalPhrase</text></svg><svg width=\"38.2353%\" x=\"0%\" y=\"48px\"><defs /><svg width=\"100%\" x=\"0\" y=\"0px\"><defs /><text text-anchor=\"middle\" x=\"50%\" y=\"16px\">Preposition</text></svg><svg width=\"100%\" x=\"0%\" y=\"48px\"><defs /><svg width=\"100%\" x=\"0\" y=\"0px\"><defs /><text text-anchor=\"middle\" x=\"50%\" y=\"16px\">in</text></svg></svg><line stroke=\"black\" x1=\"50%\" x2=\"50%\" y1=\"19.2px\" y2=\"48px\" /></svg><line stroke=\"black\" x1=\"50%\" x2=\"19.1176%\" y1=\"19.2px\" y2=\"48px\" /><svg width=\"61.7647%\" x=\"38.2353%\" y=\"48px\"><defs /><svg width=\"100%\" x=\"0\" y=\"0px\"><defs /><text text-anchor=\"middle\" x=\"50%\" y=\"16px\">NounPhrase</text></svg><svg width=\"57.1429%\" x=\"0%\" y=\"48px\"><defs /><svg width=\"100%\" x=\"0\" y=\"0px\"><defs /><text text-anchor=\"middle\" x=\"50%\" y=\"16px\">Determiner</text></svg><svg width=\"100%\" x=\"0%\" y=\"48px\"><defs /><svg width=\"100%\" x=\"0\" y=\"0px\"><defs /><text text-anchor=\"middle\" x=\"50%\" y=\"16px\">the</text></svg></svg><line stroke=\"black\" x1=\"50%\" x2=\"50%\" y1=\"19.2px\" y2=\"48px\" /></svg><line stroke=\"black\" x1=\"50%\" x2=\"28.5714%\" y1=\"19.2px\" y2=\"48px\" /><svg width=\"42.8571%\" x=\"57.1429%\" y=\"48px\"><defs /><svg width=\"100%\" x=\"0\" y=\"0px\"><defs /><text text-anchor=\"middle\" x=\"50%\" y=\"16px\">Nominal</text></svg><svg width=\"100%\" x=\"0%\" y=\"48px\"><defs /><svg width=\"100%\" x=\"0\" y=\"0px\"><defs /><text text-anchor=\"middle\" x=\"50%\" y=\"16px\">Noun</text></svg><svg width=\"100%\" x=\"0%\" y=\"48px\"><defs /><svg width=\"100%\" x=\"0\" y=\"0px\"><defs /><text text-anchor=\"middle\" x=\"50%\" y=\"16px\">morning</text></svg></svg><line stroke=\"black\" x1=\"50%\" x2=\"50%\" y1=\"19.2px\" y2=\"48px\" /></svg><line stroke=\"black\" x1=\"50%\" x2=\"50%\" y1=\"19.2px\" y2=\"48px\" /></svg><line stroke=\"black\" x1=\"50%\" x2=\"78.5714%\" y1=\"19.2px\" y2=\"48px\" /></svg><line stroke=\"black\" x1=\"50%\" x2=\"69.1176%\" y1=\"19.2px\" y2=\"48px\" /></svg><line stroke=\"black\" x1=\"50%\" x2=\"57.5%\" y1=\"19.2px\" y2=\"48px\" /></svg><line stroke=\"black\" x1=\"50%\" x2=\"61.5385%\" y1=\"19.2px\" y2=\"48px\" /></svg>"
          },
          "metadata": {}
        },
        {
          "output_type": "stream",
          "name": "stdout",
          "text": [
            "Here's what the internal structure looks like:\n",
            "[Tree('NounPhrase', [Tree('Pronoun', ['I'])]), Tree('VerbPhrase', [Tree('Verb', ['fly']), Tree('PrepositionalPhrase', [Tree('Preposition', ['in']), Tree('NounPhrase', [Tree('Determiner', ['the']), Tree('Nominal', [Tree('Nominal', [Tree('Noun', ['morning'])])])])])])]\n",
            "\n",
            "Here's what the parse tree looks like graphically:\n"
          ]
        },
        {
          "output_type": "display_data",
          "data": {
            "text/plain": [
              "Tree('Sentence', [Tree('NounPhrase', [Tree('Pronoun', ['I'])]), Tree('VerbPhrase', [Tree('Verb', ['fly']), Tree('PrepositionalPhrase', [Tree('Preposition', ['in']), Tree('NounPhrase', [Tree('Determiner', ['the']), Tree('Nominal', [Tree('Nominal', [Tree('Noun', ['morning'])])])])])])])"
            ],
            "image/svg+xml": "<svg baseProfile=\"full\" height=\"360px\" preserveAspectRatio=\"xMidYMid meet\" style=\"font-family: times, serif; font-weight: normal; font-style: normal; font-size: 16px;\" version=\"1.1\" viewBox=\"0,0,416.0,360.0\" width=\"416px\" xmlns=\"http://www.w3.org/2000/svg\" xmlns:ev=\"http://www.w3.org/2001/xml-events\" xmlns:xlink=\"http://www.w3.org/1999/xlink\"><defs /><svg width=\"100%\" x=\"0\" y=\"0px\"><defs /><text text-anchor=\"middle\" x=\"50%\" y=\"16px\">Sentence</text></svg><svg width=\"23.0769%\" x=\"0%\" y=\"48px\"><defs /><svg width=\"100%\" x=\"0\" y=\"0px\"><defs /><text text-anchor=\"middle\" x=\"50%\" y=\"16px\">NounPhrase</text></svg><svg width=\"100%\" x=\"0%\" y=\"48px\"><defs /><svg width=\"100%\" x=\"0\" y=\"0px\"><defs /><text text-anchor=\"middle\" x=\"50%\" y=\"16px\">Pronoun</text></svg><svg width=\"100%\" x=\"0%\" y=\"48px\"><defs /><svg width=\"100%\" x=\"0\" y=\"0px\"><defs /><text text-anchor=\"middle\" x=\"50%\" y=\"16px\">I</text></svg></svg><line stroke=\"black\" x1=\"50%\" x2=\"50%\" y1=\"19.2px\" y2=\"48px\" /></svg><line stroke=\"black\" x1=\"50%\" x2=\"50%\" y1=\"19.2px\" y2=\"48px\" /></svg><line stroke=\"black\" x1=\"50%\" x2=\"11.5385%\" y1=\"19.2px\" y2=\"48px\" /><svg width=\"76.9231%\" x=\"23.0769%\" y=\"48px\"><defs /><svg width=\"100%\" x=\"0\" y=\"0px\"><defs /><text text-anchor=\"middle\" x=\"50%\" y=\"16px\">VerbPhrase</text></svg><svg width=\"15%\" x=\"0%\" y=\"48px\"><defs /><svg width=\"100%\" x=\"0\" y=\"0px\"><defs /><text text-anchor=\"middle\" x=\"50%\" y=\"16px\">Verb</text></svg><svg width=\"100%\" x=\"0%\" y=\"48px\"><defs /><svg width=\"100%\" x=\"0\" y=\"0px\"><defs /><text text-anchor=\"middle\" x=\"50%\" y=\"16px\">fly</text></svg></svg><line stroke=\"black\" x1=\"50%\" x2=\"50%\" y1=\"19.2px\" y2=\"48px\" /></svg><line stroke=\"black\" x1=\"50%\" x2=\"7.5%\" y1=\"19.2px\" y2=\"48px\" /><svg width=\"85%\" x=\"15%\" y=\"48px\"><defs /><svg width=\"100%\" x=\"0\" y=\"0px\"><defs /><text text-anchor=\"middle\" x=\"50%\" y=\"16px\">PrepositionalPhrase</text></svg><svg width=\"38.2353%\" x=\"0%\" y=\"48px\"><defs /><svg width=\"100%\" x=\"0\" y=\"0px\"><defs /><text text-anchor=\"middle\" x=\"50%\" y=\"16px\">Preposition</text></svg><svg width=\"100%\" x=\"0%\" y=\"48px\"><defs /><svg width=\"100%\" x=\"0\" y=\"0px\"><defs /><text text-anchor=\"middle\" x=\"50%\" y=\"16px\">in</text></svg></svg><line stroke=\"black\" x1=\"50%\" x2=\"50%\" y1=\"19.2px\" y2=\"48px\" /></svg><line stroke=\"black\" x1=\"50%\" x2=\"19.1176%\" y1=\"19.2px\" y2=\"48px\" /><svg width=\"61.7647%\" x=\"38.2353%\" y=\"48px\"><defs /><svg width=\"100%\" x=\"0\" y=\"0px\"><defs /><text text-anchor=\"middle\" x=\"50%\" y=\"16px\">NounPhrase</text></svg><svg width=\"57.1429%\" x=\"0%\" y=\"48px\"><defs /><svg width=\"100%\" x=\"0\" y=\"0px\"><defs /><text text-anchor=\"middle\" x=\"50%\" y=\"16px\">Determiner</text></svg><svg width=\"100%\" x=\"0%\" y=\"48px\"><defs /><svg width=\"100%\" x=\"0\" y=\"0px\"><defs /><text text-anchor=\"middle\" x=\"50%\" y=\"16px\">the</text></svg></svg><line stroke=\"black\" x1=\"50%\" x2=\"50%\" y1=\"19.2px\" y2=\"48px\" /></svg><line stroke=\"black\" x1=\"50%\" x2=\"28.5714%\" y1=\"19.2px\" y2=\"48px\" /><svg width=\"42.8571%\" x=\"57.1429%\" y=\"48px\"><defs /><svg width=\"100%\" x=\"0\" y=\"0px\"><defs /><text text-anchor=\"middle\" x=\"50%\" y=\"16px\">Nominal</text></svg><svg width=\"100%\" x=\"0%\" y=\"48px\"><defs /><svg width=\"100%\" x=\"0\" y=\"0px\"><defs /><text text-anchor=\"middle\" x=\"50%\" y=\"16px\">Nominal</text></svg><svg width=\"100%\" x=\"0%\" y=\"48px\"><defs /><svg width=\"100%\" x=\"0\" y=\"0px\"><defs /><text text-anchor=\"middle\" x=\"50%\" y=\"16px\">Noun</text></svg><svg width=\"100%\" x=\"0%\" y=\"48px\"><defs /><svg width=\"100%\" x=\"0\" y=\"0px\"><defs /><text text-anchor=\"middle\" x=\"50%\" y=\"16px\">morning</text></svg></svg><line stroke=\"black\" x1=\"50%\" x2=\"50%\" y1=\"19.2px\" y2=\"48px\" /></svg><line stroke=\"black\" x1=\"50%\" x2=\"50%\" y1=\"19.2px\" y2=\"48px\" /></svg><line stroke=\"black\" x1=\"50%\" x2=\"50%\" y1=\"19.2px\" y2=\"48px\" /></svg><line stroke=\"black\" x1=\"50%\" x2=\"78.5714%\" y1=\"19.2px\" y2=\"48px\" /></svg><line stroke=\"black\" x1=\"50%\" x2=\"69.1176%\" y1=\"19.2px\" y2=\"48px\" /></svg><line stroke=\"black\" x1=\"50%\" x2=\"57.5%\" y1=\"19.2px\" y2=\"48px\" /></svg><line stroke=\"black\" x1=\"50%\" x2=\"61.5385%\" y1=\"19.2px\" y2=\"48px\" /></svg>"
          },
          "metadata": {}
        }
      ]
    },
    {
      "cell_type": "markdown",
      "metadata": {
        "id": "f_DCyO4DpPUj"
      },
      "source": [
        "## Ambiguity\n",
        "\n",
        "An ambiguous grammar is a grammar in which the same sentence can have multiple trees.\n",
        "\n",
        "\n",
        "<div>\n",
        "<img src=\"https://github.com/ericmanley/f23-CS195NLP/blob/main/images/elephant_pajamas_1.png?raw=1\" width=500/><img src=\"https://github.com/ericmanley/f23-CS195NLP/blob/main/images/elephant_pajamas_2.png?raw=1\" width=500/>\n",
        "</div>"
      ]
    },
    {
      "cell_type": "markdown",
      "metadata": {
        "id": "_8ZBRynGpPUj"
      },
      "source": [
        "### Most natural languages are ambiguous\n",
        "\n",
        "\n",
        "*One morning I shot an elephant in my pajamas. How he got into my pajamas I don’t know.* - Groucho Marx\n",
        "\n",
        "With programming languages, designers try to define them so that the grammars are unambiguous\n",
        "\n",
        "It isn't possible with most natural languages\n",
        "\n",
        "\n",
        "### Group Exercise\n",
        "\n",
        "Find another sentence with more than one parse tree for this grammar:\n",
        "\n",
        "\n"
      ]
    },
    {
      "cell_type": "code",
      "execution_count": 10,
      "metadata": {
        "id": "IOqmIdadpPUk",
        "outputId": "c3479099-bca2-48b6-c6e5-0ed4ac5395ac",
        "colab": {
          "base_uri": "https://localhost:8080/",
          "height": 744
        }
      },
      "outputs": [
        {
          "output_type": "display_data",
          "data": {
            "text/plain": [
              "Tree('Sentence', [Tree('NounPhrase', [Tree('Pronoun', ['I'])]), Tree('VerbPhrase', [Tree('Verb', ['shot']), Tree('NounPhrase', [Tree('Determiner', ['an']), Tree('Nominal', [Tree('Noun', ['elephant'])])]), Tree('PrepositionalPhrase', [Tree('Preposition', ['in']), Tree('NounPhrase', [Tree('Determiner', ['my']), Tree('Nominal', [Tree('Noun', ['pajamas'])])])])])])"
            ],
            "image/svg+xml": "<svg baseProfile=\"full\" height=\"312px\" preserveAspectRatio=\"xMidYMid meet\" style=\"font-family: times, serif; font-weight: normal; font-style: normal; font-size: 16px;\" version=\"1.1\" viewBox=\"0,0,592.0,312.0\" width=\"592px\" xmlns=\"http://www.w3.org/2000/svg\" xmlns:ev=\"http://www.w3.org/2001/xml-events\" xmlns:xlink=\"http://www.w3.org/1999/xlink\"><defs /><svg width=\"100%\" x=\"0\" y=\"0px\"><defs /><text text-anchor=\"middle\" x=\"50%\" y=\"16px\">Sentence</text></svg><svg width=\"16.2162%\" x=\"0%\" y=\"48px\"><defs /><svg width=\"100%\" x=\"0\" y=\"0px\"><defs /><text text-anchor=\"middle\" x=\"50%\" y=\"16px\">NounPhrase</text></svg><svg width=\"100%\" x=\"0%\" y=\"48px\"><defs /><svg width=\"100%\" x=\"0\" y=\"0px\"><defs /><text text-anchor=\"middle\" x=\"50%\" y=\"16px\">Pronoun</text></svg><svg width=\"100%\" x=\"0%\" y=\"48px\"><defs /><svg width=\"100%\" x=\"0\" y=\"0px\"><defs /><text text-anchor=\"middle\" x=\"50%\" y=\"16px\">I</text></svg></svg><line stroke=\"black\" x1=\"50%\" x2=\"50%\" y1=\"19.2px\" y2=\"48px\" /></svg><line stroke=\"black\" x1=\"50%\" x2=\"50%\" y1=\"19.2px\" y2=\"48px\" /></svg><line stroke=\"black\" x1=\"50%\" x2=\"8.10811%\" y1=\"19.2px\" y2=\"48px\" /><svg width=\"83.7838%\" x=\"16.2162%\" y=\"48px\"><defs /><svg width=\"100%\" x=\"0\" y=\"0px\"><defs /><text text-anchor=\"middle\" x=\"50%\" y=\"16px\">VerbPhrase</text></svg><svg width=\"9.67742%\" x=\"0%\" y=\"48px\"><defs /><svg width=\"100%\" x=\"0\" y=\"0px\"><defs /><text text-anchor=\"middle\" x=\"50%\" y=\"16px\">Verb</text></svg><svg width=\"100%\" x=\"0%\" y=\"48px\"><defs /><svg width=\"100%\" x=\"0\" y=\"0px\"><defs /><text text-anchor=\"middle\" x=\"50%\" y=\"16px\">shot</text></svg></svg><line stroke=\"black\" x1=\"50%\" x2=\"50%\" y1=\"19.2px\" y2=\"48px\" /></svg><line stroke=\"black\" x1=\"50%\" x2=\"4.83871%\" y1=\"19.2px\" y2=\"48px\" /><svg width=\"35.4839%\" x=\"9.67742%\" y=\"48px\"><defs /><svg width=\"100%\" x=\"0\" y=\"0px\"><defs /><text text-anchor=\"middle\" x=\"50%\" y=\"16px\">NounPhrase</text></svg><svg width=\"54.5455%\" x=\"0%\" y=\"48px\"><defs /><svg width=\"100%\" x=\"0\" y=\"0px\"><defs /><text text-anchor=\"middle\" x=\"50%\" y=\"16px\">Determiner</text></svg><svg width=\"100%\" x=\"0%\" y=\"48px\"><defs /><svg width=\"100%\" x=\"0\" y=\"0px\"><defs /><text text-anchor=\"middle\" x=\"50%\" y=\"16px\">an</text></svg></svg><line stroke=\"black\" x1=\"50%\" x2=\"50%\" y1=\"19.2px\" y2=\"48px\" /></svg><line stroke=\"black\" x1=\"50%\" x2=\"27.2727%\" y1=\"19.2px\" y2=\"48px\" /><svg width=\"45.4545%\" x=\"54.5455%\" y=\"48px\"><defs /><svg width=\"100%\" x=\"0\" y=\"0px\"><defs /><text text-anchor=\"middle\" x=\"50%\" y=\"16px\">Nominal</text></svg><svg width=\"100%\" x=\"0%\" y=\"48px\"><defs /><svg width=\"100%\" x=\"0\" y=\"0px\"><defs /><text text-anchor=\"middle\" x=\"50%\" y=\"16px\">Noun</text></svg><svg width=\"100%\" x=\"0%\" y=\"48px\"><defs /><svg width=\"100%\" x=\"0\" y=\"0px\"><defs /><text text-anchor=\"middle\" x=\"50%\" y=\"16px\">elephant</text></svg></svg><line stroke=\"black\" x1=\"50%\" x2=\"50%\" y1=\"19.2px\" y2=\"48px\" /></svg><line stroke=\"black\" x1=\"50%\" x2=\"50%\" y1=\"19.2px\" y2=\"48px\" /></svg><line stroke=\"black\" x1=\"50%\" x2=\"77.2727%\" y1=\"19.2px\" y2=\"48px\" /></svg><line stroke=\"black\" x1=\"50%\" x2=\"27.4194%\" y1=\"19.2px\" y2=\"48px\" /><svg width=\"54.8387%\" x=\"45.1613%\" y=\"48px\"><defs /><svg width=\"100%\" x=\"0\" y=\"0px\"><defs /><text text-anchor=\"middle\" x=\"50%\" y=\"16px\">PrepositionalPhrase</text></svg><svg width=\"38.2353%\" x=\"0%\" y=\"48px\"><defs /><svg width=\"100%\" x=\"0\" y=\"0px\"><defs /><text text-anchor=\"middle\" x=\"50%\" y=\"16px\">Preposition</text></svg><svg width=\"100%\" x=\"0%\" y=\"48px\"><defs /><svg width=\"100%\" x=\"0\" y=\"0px\"><defs /><text text-anchor=\"middle\" x=\"50%\" y=\"16px\">in</text></svg></svg><line stroke=\"black\" x1=\"50%\" x2=\"50%\" y1=\"19.2px\" y2=\"48px\" /></svg><line stroke=\"black\" x1=\"50%\" x2=\"19.1176%\" y1=\"19.2px\" y2=\"48px\" /><svg width=\"61.7647%\" x=\"38.2353%\" y=\"48px\"><defs /><svg width=\"100%\" x=\"0\" y=\"0px\"><defs /><text text-anchor=\"middle\" x=\"50%\" y=\"16px\">NounPhrase</text></svg><svg width=\"57.1429%\" x=\"0%\" y=\"48px\"><defs /><svg width=\"100%\" x=\"0\" y=\"0px\"><defs /><text text-anchor=\"middle\" x=\"50%\" y=\"16px\">Determiner</text></svg><svg width=\"100%\" x=\"0%\" y=\"48px\"><defs /><svg width=\"100%\" x=\"0\" y=\"0px\"><defs /><text text-anchor=\"middle\" x=\"50%\" y=\"16px\">my</text></svg></svg><line stroke=\"black\" x1=\"50%\" x2=\"50%\" y1=\"19.2px\" y2=\"48px\" /></svg><line stroke=\"black\" x1=\"50%\" x2=\"28.5714%\" y1=\"19.2px\" y2=\"48px\" /><svg width=\"42.8571%\" x=\"57.1429%\" y=\"48px\"><defs /><svg width=\"100%\" x=\"0\" y=\"0px\"><defs /><text text-anchor=\"middle\" x=\"50%\" y=\"16px\">Nominal</text></svg><svg width=\"100%\" x=\"0%\" y=\"48px\"><defs /><svg width=\"100%\" x=\"0\" y=\"0px\"><defs /><text text-anchor=\"middle\" x=\"50%\" y=\"16px\">Noun</text></svg><svg width=\"100%\" x=\"0%\" y=\"48px\"><defs /><svg width=\"100%\" x=\"0\" y=\"0px\"><defs /><text text-anchor=\"middle\" x=\"50%\" y=\"16px\">pajamas</text></svg></svg><line stroke=\"black\" x1=\"50%\" x2=\"50%\" y1=\"19.2px\" y2=\"48px\" /></svg><line stroke=\"black\" x1=\"50%\" x2=\"50%\" y1=\"19.2px\" y2=\"48px\" /></svg><line stroke=\"black\" x1=\"50%\" x2=\"78.5714%\" y1=\"19.2px\" y2=\"48px\" /></svg><line stroke=\"black\" x1=\"50%\" x2=\"69.1176%\" y1=\"19.2px\" y2=\"48px\" /></svg><line stroke=\"black\" x1=\"50%\" x2=\"72.5806%\" y1=\"19.2px\" y2=\"48px\" /></svg><line stroke=\"black\" x1=\"50%\" x2=\"58.1081%\" y1=\"19.2px\" y2=\"48px\" /></svg>"
          },
          "metadata": {}
        },
        {
          "output_type": "display_data",
          "data": {
            "text/plain": [
              "Tree('Sentence', [Tree('NounPhrase', [Tree('Pronoun', ['I'])]), Tree('VerbPhrase', [Tree('Verb', ['shot']), Tree('NounPhrase', [Tree('Determiner', ['an']), Tree('Nominal', [Tree('Nominal', [Tree('Noun', ['elephant'])]), Tree('PrepositionalPhrase', [Tree('Preposition', ['in']), Tree('NounPhrase', [Tree('Determiner', ['my']), Tree('Nominal', [Tree('Noun', ['pajamas'])])])])])])])])"
            ],
            "image/svg+xml": "<svg baseProfile=\"full\" height=\"408px\" preserveAspectRatio=\"xMidYMid meet\" style=\"font-family: times, serif; font-weight: normal; font-style: normal; font-size: 16px;\" version=\"1.1\" viewBox=\"0,0,592.0,408.0\" width=\"592px\" xmlns=\"http://www.w3.org/2000/svg\" xmlns:ev=\"http://www.w3.org/2001/xml-events\" xmlns:xlink=\"http://www.w3.org/1999/xlink\"><defs /><svg width=\"100%\" x=\"0\" y=\"0px\"><defs /><text text-anchor=\"middle\" x=\"50%\" y=\"16px\">Sentence</text></svg><svg width=\"16.2162%\" x=\"0%\" y=\"48px\"><defs /><svg width=\"100%\" x=\"0\" y=\"0px\"><defs /><text text-anchor=\"middle\" x=\"50%\" y=\"16px\">NounPhrase</text></svg><svg width=\"100%\" x=\"0%\" y=\"48px\"><defs /><svg width=\"100%\" x=\"0\" y=\"0px\"><defs /><text text-anchor=\"middle\" x=\"50%\" y=\"16px\">Pronoun</text></svg><svg width=\"100%\" x=\"0%\" y=\"48px\"><defs /><svg width=\"100%\" x=\"0\" y=\"0px\"><defs /><text text-anchor=\"middle\" x=\"50%\" y=\"16px\">I</text></svg></svg><line stroke=\"black\" x1=\"50%\" x2=\"50%\" y1=\"19.2px\" y2=\"48px\" /></svg><line stroke=\"black\" x1=\"50%\" x2=\"50%\" y1=\"19.2px\" y2=\"48px\" /></svg><line stroke=\"black\" x1=\"50%\" x2=\"8.10811%\" y1=\"19.2px\" y2=\"48px\" /><svg width=\"83.7838%\" x=\"16.2162%\" y=\"48px\"><defs /><svg width=\"100%\" x=\"0\" y=\"0px\"><defs /><text text-anchor=\"middle\" x=\"50%\" y=\"16px\">VerbPhrase</text></svg><svg width=\"9.67742%\" x=\"0%\" y=\"48px\"><defs /><svg width=\"100%\" x=\"0\" y=\"0px\"><defs /><text text-anchor=\"middle\" x=\"50%\" y=\"16px\">Verb</text></svg><svg width=\"100%\" x=\"0%\" y=\"48px\"><defs /><svg width=\"100%\" x=\"0\" y=\"0px\"><defs /><text text-anchor=\"middle\" x=\"50%\" y=\"16px\">shot</text></svg></svg><line stroke=\"black\" x1=\"50%\" x2=\"50%\" y1=\"19.2px\" y2=\"48px\" /></svg><line stroke=\"black\" x1=\"50%\" x2=\"4.83871%\" y1=\"19.2px\" y2=\"48px\" /><svg width=\"90.3226%\" x=\"9.67742%\" y=\"48px\"><defs /><svg width=\"100%\" x=\"0\" y=\"0px\"><defs /><text text-anchor=\"middle\" x=\"50%\" y=\"16px\">NounPhrase</text></svg><svg width=\"21.4286%\" x=\"0%\" y=\"48px\"><defs /><svg width=\"100%\" x=\"0\" y=\"0px\"><defs /><text text-anchor=\"middle\" x=\"50%\" y=\"16px\">Determiner</text></svg><svg width=\"100%\" x=\"0%\" y=\"48px\"><defs /><svg width=\"100%\" x=\"0\" y=\"0px\"><defs /><text text-anchor=\"middle\" x=\"50%\" y=\"16px\">an</text></svg></svg><line stroke=\"black\" x1=\"50%\" x2=\"50%\" y1=\"19.2px\" y2=\"48px\" /></svg><line stroke=\"black\" x1=\"50%\" x2=\"10.7143%\" y1=\"19.2px\" y2=\"48px\" /><svg width=\"78.5714%\" x=\"21.4286%\" y=\"48px\"><defs /><svg width=\"100%\" x=\"0\" y=\"0px\"><defs /><text text-anchor=\"middle\" x=\"50%\" y=\"16px\">Nominal</text></svg><svg width=\"22.7273%\" x=\"0%\" y=\"48px\"><defs /><svg width=\"100%\" x=\"0\" y=\"0px\"><defs /><text text-anchor=\"middle\" x=\"50%\" y=\"16px\">Nominal</text></svg><svg width=\"100%\" x=\"0%\" y=\"48px\"><defs /><svg width=\"100%\" x=\"0\" y=\"0px\"><defs /><text text-anchor=\"middle\" x=\"50%\" y=\"16px\">Noun</text></svg><svg width=\"100%\" x=\"0%\" y=\"48px\"><defs /><svg width=\"100%\" x=\"0\" y=\"0px\"><defs /><text text-anchor=\"middle\" x=\"50%\" y=\"16px\">elephant</text></svg></svg><line stroke=\"black\" x1=\"50%\" x2=\"50%\" y1=\"19.2px\" y2=\"48px\" /></svg><line stroke=\"black\" x1=\"50%\" x2=\"50%\" y1=\"19.2px\" y2=\"48px\" /></svg><line stroke=\"black\" x1=\"50%\" x2=\"11.3636%\" y1=\"19.2px\" y2=\"48px\" /><svg width=\"77.2727%\" x=\"22.7273%\" y=\"48px\"><defs /><svg width=\"100%\" x=\"0\" y=\"0px\"><defs /><text text-anchor=\"middle\" x=\"50%\" y=\"16px\">PrepositionalPhrase</text></svg><svg width=\"38.2353%\" x=\"0%\" y=\"48px\"><defs /><svg width=\"100%\" x=\"0\" y=\"0px\"><defs /><text text-anchor=\"middle\" x=\"50%\" y=\"16px\">Preposition</text></svg><svg width=\"100%\" x=\"0%\" y=\"48px\"><defs /><svg width=\"100%\" x=\"0\" y=\"0px\"><defs /><text text-anchor=\"middle\" x=\"50%\" y=\"16px\">in</text></svg></svg><line stroke=\"black\" x1=\"50%\" x2=\"50%\" y1=\"19.2px\" y2=\"48px\" /></svg><line stroke=\"black\" x1=\"50%\" x2=\"19.1176%\" y1=\"19.2px\" y2=\"48px\" /><svg width=\"61.7647%\" x=\"38.2353%\" y=\"48px\"><defs /><svg width=\"100%\" x=\"0\" y=\"0px\"><defs /><text text-anchor=\"middle\" x=\"50%\" y=\"16px\">NounPhrase</text></svg><svg width=\"57.1429%\" x=\"0%\" y=\"48px\"><defs /><svg width=\"100%\" x=\"0\" y=\"0px\"><defs /><text text-anchor=\"middle\" x=\"50%\" y=\"16px\">Determiner</text></svg><svg width=\"100%\" x=\"0%\" y=\"48px\"><defs /><svg width=\"100%\" x=\"0\" y=\"0px\"><defs /><text text-anchor=\"middle\" x=\"50%\" y=\"16px\">my</text></svg></svg><line stroke=\"black\" x1=\"50%\" x2=\"50%\" y1=\"19.2px\" y2=\"48px\" /></svg><line stroke=\"black\" x1=\"50%\" x2=\"28.5714%\" y1=\"19.2px\" y2=\"48px\" /><svg width=\"42.8571%\" x=\"57.1429%\" y=\"48px\"><defs /><svg width=\"100%\" x=\"0\" y=\"0px\"><defs /><text text-anchor=\"middle\" x=\"50%\" y=\"16px\">Nominal</text></svg><svg width=\"100%\" x=\"0%\" y=\"48px\"><defs /><svg width=\"100%\" x=\"0\" y=\"0px\"><defs /><text text-anchor=\"middle\" x=\"50%\" y=\"16px\">Noun</text></svg><svg width=\"100%\" x=\"0%\" y=\"48px\"><defs /><svg width=\"100%\" x=\"0\" y=\"0px\"><defs /><text text-anchor=\"middle\" x=\"50%\" y=\"16px\">pajamas</text></svg></svg><line stroke=\"black\" x1=\"50%\" x2=\"50%\" y1=\"19.2px\" y2=\"48px\" /></svg><line stroke=\"black\" x1=\"50%\" x2=\"50%\" y1=\"19.2px\" y2=\"48px\" /></svg><line stroke=\"black\" x1=\"50%\" x2=\"78.5714%\" y1=\"19.2px\" y2=\"48px\" /></svg><line stroke=\"black\" x1=\"50%\" x2=\"69.1176%\" y1=\"19.2px\" y2=\"48px\" /></svg><line stroke=\"black\" x1=\"50%\" x2=\"61.3636%\" y1=\"19.2px\" y2=\"48px\" /></svg><line stroke=\"black\" x1=\"50%\" x2=\"60.7143%\" y1=\"19.2px\" y2=\"48px\" /></svg><line stroke=\"black\" x1=\"50%\" x2=\"54.8387%\" y1=\"19.2px\" y2=\"48px\" /></svg><line stroke=\"black\" x1=\"50%\" x2=\"58.1081%\" y1=\"19.2px\" y2=\"48px\" /></svg>"
          },
          "metadata": {}
        }
      ],
      "source": [
        "import nltk\n",
        "\n",
        "\n",
        "productions = [\n",
        "    nltk.Production(nltk.Nonterminal('Sentence'), [nltk.Nonterminal('NounPhrase'), nltk.Nonterminal('VerbPhrase')]),\n",
        "    nltk.Production(nltk.Nonterminal('NounPhrase'), [nltk.Nonterminal('Pronoun')]),\n",
        "    nltk.Production(nltk.Nonterminal('NounPhrase'), [nltk.Nonterminal('Determiner'), nltk.Nonterminal('Nominal')]),\n",
        "    nltk.Production(nltk.Nonterminal('NounPhrase'), [nltk.Nonterminal('Nominal')]),\n",
        "    nltk.Production(nltk.Nonterminal('Nominal'), [nltk.Nonterminal('Nominal'), nltk.Nonterminal('Noun')]),\n",
        "    nltk.Production(nltk.Nonterminal('Nominal'), [nltk.Nonterminal('Nominal'), nltk.Nonterminal('PrepositionalPhrase')]),\n",
        "    nltk.Production(nltk.Nonterminal('Nominal'), [nltk.Nonterminal('Noun')]),\n",
        "    nltk.Production(nltk.Nonterminal('VerbPhrase'), [nltk.Nonterminal('Verb'), nltk.Nonterminal('NounPhrase')]),\n",
        "    nltk.Production(nltk.Nonterminal('VerbPhrase'), [nltk.Nonterminal('Verb'), nltk.Nonterminal('NounPhrase'), nltk.Nonterminal('PrepositionalPhrase')]),\n",
        "    nltk.Production(nltk.Nonterminal('VerbPhrase'), [nltk.Nonterminal('Verb'), nltk.Nonterminal('PrepositionalPhrase')]),\n",
        "    nltk.Production(nltk.Nonterminal('PrepositionalPhrase'), [nltk.Nonterminal('Preposition'), nltk.Nonterminal('NounPhrase')]),\n",
        "\n",
        "    # Productions for Determiner\n",
        "    nltk.Production(nltk.Nonterminal('Determiner'), ['a']),\n",
        "    nltk.Production(nltk.Nonterminal('Determiner'), ['an']),\n",
        "    nltk.Production(nltk.Nonterminal('Determiner'), ['the']),\n",
        "    nltk.Production(nltk.Nonterminal('Determiner'), ['this']),\n",
        "    nltk.Production(nltk.Nonterminal('Determiner'), ['that']),\n",
        "    nltk.Production(nltk.Nonterminal('Determiner'), ['my']),\n",
        "    # Add more Determiner productions as needed\n",
        "\n",
        "    # Productions for Pronoun\n",
        "    nltk.Production(nltk.Nonterminal('Pronoun'), ['me']),\n",
        "    nltk.Production(nltk.Nonterminal('Pronoun'), ['I']),\n",
        "    nltk.Production(nltk.Nonterminal('Pronoun'), ['you']),\n",
        "    nltk.Production(nltk.Nonterminal('Pronoun'), ['it']),\n",
        "    # Add more Pronoun productions as needed\n",
        "\n",
        "    # Productions for Noun\n",
        "    nltk.Production(nltk.Nonterminal('Noun'), ['flights']),\n",
        "    nltk.Production(nltk.Nonterminal('Noun'), ['flight']),\n",
        "    nltk.Production(nltk.Nonterminal('Noun'), ['breeze']),\n",
        "    nltk.Production(nltk.Nonterminal('Noun'), ['trip']),\n",
        "    nltk.Production(nltk.Nonterminal('Noun'), ['morning']),\n",
        "    nltk.Production(nltk.Nonterminal('Noun'), ['elephant']),\n",
        "    nltk.Production(nltk.Nonterminal('Noun'), ['pajamas']),\n",
        "    # Add more Noun productions as needed\n",
        "\n",
        "    # Productions for Verb\n",
        "    nltk.Production(nltk.Nonterminal('Verb'), ['is']),\n",
        "    nltk.Production(nltk.Nonterminal('Verb'), ['prefer']),\n",
        "    nltk.Production(nltk.Nonterminal('Verb'), ['like']),\n",
        "    nltk.Production(nltk.Nonterminal('Verb'), ['need']),\n",
        "    nltk.Production(nltk.Nonterminal('Verb'), ['want']),\n",
        "    nltk.Production(nltk.Nonterminal('Verb'), ['fly']),\n",
        "    nltk.Production(nltk.Nonterminal('Verb'), ['do']),\n",
        "    nltk.Production(nltk.Nonterminal('Verb'), ['shot']),\n",
        "    # Add more Verb productions as needed\n",
        "\n",
        "    # Productions for Preposition\n",
        "    nltk.Production(nltk.Nonterminal('Preposition'), ['from']),\n",
        "    nltk.Production(nltk.Nonterminal('Preposition'), ['to']),\n",
        "    nltk.Production(nltk.Nonterminal('Preposition'), ['on']),\n",
        "    nltk.Production(nltk.Nonterminal('Preposition'), ['near']),\n",
        "    nltk.Production(nltk.Nonterminal('Preposition'), ['in']),\n",
        "    # Add more Preposition productions as needed\n",
        "]\n",
        "\n",
        "custom_grammar = nltk.CFG(nltk.Nonterminal('Sentence'), productions)\n",
        "\n",
        "parser = nltk.ChartParser(custom_grammar)\n",
        "sentence = \"I shot an elephant in my pajamas\".split()\n",
        "for tree in parser.parse(sentence):\n",
        "    display(tree)\n"
      ]
    },
    {
      "cell_type": "markdown",
      "metadata": {
        "id": "zXqLqRgvpPUk"
      },
      "source": [
        "## Group Discussion\n",
        "\n",
        "What are some strategies you can think of for figuring out which tree is really the correct one?"
      ]
    },
    {
      "cell_type": "markdown",
      "metadata": {
        "id": "yFE084z7pPUk"
      },
      "source": [
        "## Penn Treebank Grammar\n",
        "\n",
        "Remember our Penn Treebank dataset that was tagged with parts of speech? It also has full parse trees built for the sentences in the dataset."
      ]
    },
    {
      "cell_type": "code",
      "execution_count": null,
      "metadata": {
        "id": "EJqY4CGNpPUk",
        "outputId": "57e96802-eb8a-4b4c-d1bf-424042c0c576"
      },
      "outputs": [
        {
          "name": "stdout",
          "output_type": "stream",
          "text": [
            "[Tree('S', [Tree('NP-SBJ', [Tree('NP', [Tree('NNP', ['Pierre']), Tree('NNP', ['Vinken'])]), Tree(',', [',']), Tree('ADJP', [Tree('NP', [Tree('CD', ['61']), Tree('NNS', ['years'])]), Tree('JJ', ['old'])]), Tree(',', [','])]), Tree('VP', [Tree('MD', ['will']), Tree('VP', [Tree('VB', ['join']), Tree('NP', [Tree('DT', ['the']), Tree('NN', ['board'])]), Tree('PP-CLR', [Tree('IN', ['as']), Tree('NP', [Tree('DT', ['a']), Tree('JJ', ['nonexecutive']), Tree('NN', ['director'])])]), Tree('NP-TMP', [Tree('NNP', ['Nov.']), Tree('CD', ['29'])])])]), Tree('.', ['.'])]), Tree('S', [Tree('NP-SBJ', [Tree('NNP', ['Mr.']), Tree('NNP', ['Vinken'])]), Tree('VP', [Tree('VBZ', ['is']), Tree('NP-PRD', [Tree('NP', [Tree('NN', ['chairman'])]), Tree('PP', [Tree('IN', ['of']), Tree('NP', [Tree('NP', [Tree('NNP', ['Elsevier']), Tree('NNP', ['N.V.'])]), Tree(',', [',']), Tree('NP', [Tree('DT', ['the']), Tree('NNP', ['Dutch']), Tree('VBG', ['publishing']), Tree('NN', ['group'])])])])])]), Tree('.', ['.'])]), ...]\n"
          ]
        },
        {
          "name": "stderr",
          "output_type": "stream",
          "text": [
            "[nltk_data] Downloading package treebank to\n",
            "[nltk_data]     /Users/000794593/nltk_data...\n",
            "[nltk_data]   Package treebank is already up-to-date!\n"
          ]
        }
      ],
      "source": [
        "from nltk.corpus import treebank\n",
        "nltk.download('treebank') #do this if needed\n",
        "print(treebank.parsed_sents())\n"
      ]
    },
    {
      "cell_type": "markdown",
      "metadata": {
        "id": "n-94PEk3pPUk"
      },
      "source": [
        "## Inferring the Penn Treebank Grammar\n",
        "\n",
        "The following code will construct the grammar from these trees.\n",
        "\n",
        "One problem - this grammar has a limited vocabulary.\n",
        "* Note: I had to sub a word for `pajamas`\n",
        "\n",
        "Another problem - this may take a while to run\n",
        "\n",
        "Maybe you can figure out a way to deal with this and do something interesting with it."
      ]
    },
    {
      "cell_type": "code",
      "execution_count": null,
      "metadata": {
        "id": "e_NY5O67pPUk"
      },
      "outputs": [],
      "source": [
        "import nltk\n",
        "from nltk.corpus import treebank\n",
        "\n",
        "# Download the Penn Treebank corpus\n",
        "#nltk.download('treebank')\n",
        "\n",
        "# Extract and prepare treebank sentences\n",
        "treebank_sents = treebank.parsed_sents()\n",
        "\n",
        "# go through each parsed sentence and put its production\n",
        "# into a big list of productions\n",
        "productions = []\n",
        "for sent in treebank.parsed_sents():\n",
        "    for curr_production in sent.productions():\n",
        "        productions.append( curr_production )\n",
        "\n",
        "treebank_grammar = nltk.CFG(nltk.Nonterminal('S'), productions)\n",
        "\n",
        "parser = nltk.ChartParser(treebank_grammar)\n",
        "sentence = \"I shot an elephant in my car\".split()\n",
        "for tree in parser.parse(sentence):\n",
        "    display(tree)"
      ]
    },
    {
      "cell_type": "markdown",
      "metadata": {
        "id": "DNtLmQC-pPUk"
      },
      "source": [
        "## Applied Exploration\n",
        "\n",
        "Complete the exercises/dicussion form this workshop. Inlude your notes and written answers to questions.\n",
        "\n",
        "Also, go to https://web.stanford.edu/~jurafsky/slp3/17.pdf and find the $\\mathscr{L}_1$ grammar. There are still a few productions we are missing - add them in here and provide some test strings which use those productions. Feel free to add additional words for the different parts of speech."
      ]
    }
  ],
  "metadata": {
    "celltoolbar": "Slideshow",
    "colab": {
      "provenance": []
    },
    "kernelspec": {
      "display_name": "Python 3 (ipykernel)",
      "language": "python",
      "name": "python3"
    },
    "language_info": {
      "codemirror_mode": {
        "name": "ipython",
        "version": 3
      },
      "file_extension": ".py",
      "mimetype": "text/x-python",
      "name": "python",
      "nbconvert_exporter": "python",
      "pygments_lexer": "ipython3",
      "version": "3.10.6"
    }
  },
  "nbformat": 4,
  "nbformat_minor": 0
}
