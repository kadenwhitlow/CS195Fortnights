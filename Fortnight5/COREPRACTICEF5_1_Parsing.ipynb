{
  "cells": [
    {
      "cell_type": "markdown",
      "metadata": {
        "id": "C192SOmJS6lw"
      },
      "source": [
        "# CS 195: Natural Language Processing\n",
        "## Parsing\n",
        "\n",
        "[![Open In Colab](https://colab.research.google.com/assets/colab-badge.svg)](https://colab.research.google.com/github/ericmanley/f23-CS195NLP/blob/main/F5_1_Parsing.ipynb)\n"
      ]
    },
    {
      "cell_type": "markdown",
      "metadata": {
        "id": "gYZuuna6eP29"
      },
      "source": [
        "## References\n",
        "\n",
        "SLP: Context-Free Grammars and Constituency Parsing, Chapter 17 of *Speech and Language Processing* by Daniel Jurafsky & James H. Martin: https://web.stanford.edu/~jurafsky/slp3/17.pdf\n",
        "\n",
        "NLTK Book Chapter 8: Analyzing Sentence Structure: https://www.nltk.org/book/ch08.html\n",
        "\n",
        "Wikipedia article on CYK Parsing: https://en.wikipedia.org/wiki/CYK_algorithm"
      ]
    },
    {
      "cell_type": "code",
      "execution_count": null,
      "metadata": {
        "id": "ROlWkr2JeP29",
        "outputId": "379a783a-7b0f-4967-b656-8ba5353e6ff3",
        "colab": {
          "base_uri": "https://localhost:8080/"
        }
      },
      "outputs": [
        {
          "output_type": "stream",
          "name": "stdout",
          "text": [
            "Requirement already satisfied: nltk in /usr/local/lib/python3.10/dist-packages (3.8.1)\n",
            "Collecting svgling\n",
            "  Downloading svgling-0.4.0-py3-none-any.whl (23 kB)\n",
            "Requirement already satisfied: click in /usr/local/lib/python3.10/dist-packages (from nltk) (8.1.7)\n",
            "Requirement already satisfied: joblib in /usr/local/lib/python3.10/dist-packages (from nltk) (1.3.2)\n",
            "Requirement already satisfied: regex>=2021.8.3 in /usr/local/lib/python3.10/dist-packages (from nltk) (2023.6.3)\n",
            "Requirement already satisfied: tqdm in /usr/local/lib/python3.10/dist-packages (from nltk) (4.66.1)\n",
            "Collecting svgwrite (from svgling)\n",
            "  Downloading svgwrite-1.4.3-py3-none-any.whl (67 kB)\n",
            "\u001b[2K     \u001b[90m━━━━━━━━━━━━━━━━━━━━━━━━━━━━━━━━━━━━━━━━\u001b[0m \u001b[32m67.1/67.1 kB\u001b[0m \u001b[31m3.6 MB/s\u001b[0m eta \u001b[36m0:00:00\u001b[0m\n",
            "\u001b[?25hInstalling collected packages: svgwrite, svgling\n",
            "Successfully installed svgling-0.4.0 svgwrite-1.4.3\n"
          ]
        }
      ],
      "source": [
        "import sys\n",
        "!{sys.executable} -m pip install nltk svgling"
      ]
    },
    {
      "cell_type": "code",
      "execution_count": null,
      "metadata": {
        "id": "Ns4XvzhdeP2-"
      },
      "outputs": [],
      "source": [
        "#you shouldn't need to do this in Colab, but I had to do it on my own machine\n",
        "#in order to connect to the nltk service\n",
        "import nltk\n",
        "import ssl\n",
        "\n",
        "try:\n",
        "    _create_unverified_https_context = ssl._create_unverified_context\n",
        "except AttributeError:\n",
        "    pass\n",
        "else:\n",
        "    ssl._create_default_https_context = _create_unverified_https_context\n"
      ]
    },
    {
      "cell_type": "markdown",
      "metadata": {
        "id": "JniSaJzZeP2-"
      },
      "source": [
        "## Parsing\n",
        "\n",
        "**Parsing** is the process of determining how a string fits a formal grammar.\n",
        "\n",
        "For example: producing a parse tree for a given sentence and context-free grammar"
      ]
    },
    {
      "cell_type": "markdown",
      "metadata": {
        "id": "xsvsrxyaeP2-"
      },
      "source": [
        "## NLTK parsers\n",
        "\n",
        "We saw last time how to define a grammar, create a parser object (`nltk.ChartParser(custom_grammar)`), and parse a sentence (`parser.parse(sentence`)\n",
        "\n",
        "The `ChartParser` is a variation on the famous CKY parsing algorithm.\n",
        "* Cocke-Kasami-Younger (CKY) algorithm\n",
        "* Also independently discovered by (and first published by) Itiroo Sakai in 1961\n",
        "* CKY requires the grammar to be in **Chomsky Normal Form**, but `ChartParser` doesn't\n"
      ]
    },
    {
      "cell_type": "code",
      "execution_count": null,
      "metadata": {
        "id": "Pz8WaOLZeP2_",
        "outputId": "70563ccd-e5a0-4859-a6a4-972bdfb2d0fe",
        "colab": {
          "base_uri": "https://localhost:8080/",
          "height": 744
        }
      },
      "outputs": [
        {
          "output_type": "display_data",
          "data": {
            "text/plain": [
              "Tree('Sentence', [Tree('NounPhrase', [Tree('Pronoun', ['I'])]), Tree('VerbPhrase', [Tree('Verb', ['shot']), Tree('NounPhrase', [Tree('Determiner', ['an']), Tree('Nominal', [Tree('Noun', ['elephant'])])]), Tree('PrepositionalPhrase', [Tree('Preposition', ['in']), Tree('NounPhrase', [Tree('Determiner', ['my']), Tree('Nominal', [Tree('Noun', ['pajamas'])])])])])])"
            ],
            "image/svg+xml": "<svg baseProfile=\"full\" height=\"312px\" preserveAspectRatio=\"xMidYMid meet\" style=\"font-family: times, serif; font-weight: normal; font-style: normal; font-size: 16px;\" version=\"1.1\" viewBox=\"0,0,592.0,312.0\" width=\"592px\" xmlns=\"http://www.w3.org/2000/svg\" xmlns:ev=\"http://www.w3.org/2001/xml-events\" xmlns:xlink=\"http://www.w3.org/1999/xlink\"><defs /><svg width=\"100%\" x=\"0\" y=\"0px\"><defs /><text text-anchor=\"middle\" x=\"50%\" y=\"16px\">Sentence</text></svg><svg width=\"16.2162%\" x=\"0%\" y=\"48px\"><defs /><svg width=\"100%\" x=\"0\" y=\"0px\"><defs /><text text-anchor=\"middle\" x=\"50%\" y=\"16px\">NounPhrase</text></svg><svg width=\"100%\" x=\"0%\" y=\"48px\"><defs /><svg width=\"100%\" x=\"0\" y=\"0px\"><defs /><text text-anchor=\"middle\" x=\"50%\" y=\"16px\">Pronoun</text></svg><svg width=\"100%\" x=\"0%\" y=\"48px\"><defs /><svg width=\"100%\" x=\"0\" y=\"0px\"><defs /><text text-anchor=\"middle\" x=\"50%\" y=\"16px\">I</text></svg></svg><line stroke=\"black\" x1=\"50%\" x2=\"50%\" y1=\"19.2px\" y2=\"48px\" /></svg><line stroke=\"black\" x1=\"50%\" x2=\"50%\" y1=\"19.2px\" y2=\"48px\" /></svg><line stroke=\"black\" x1=\"50%\" x2=\"8.10811%\" y1=\"19.2px\" y2=\"48px\" /><svg width=\"83.7838%\" x=\"16.2162%\" y=\"48px\"><defs /><svg width=\"100%\" x=\"0\" y=\"0px\"><defs /><text text-anchor=\"middle\" x=\"50%\" y=\"16px\">VerbPhrase</text></svg><svg width=\"9.67742%\" x=\"0%\" y=\"48px\"><defs /><svg width=\"100%\" x=\"0\" y=\"0px\"><defs /><text text-anchor=\"middle\" x=\"50%\" y=\"16px\">Verb</text></svg><svg width=\"100%\" x=\"0%\" y=\"48px\"><defs /><svg width=\"100%\" x=\"0\" y=\"0px\"><defs /><text text-anchor=\"middle\" x=\"50%\" y=\"16px\">shot</text></svg></svg><line stroke=\"black\" x1=\"50%\" x2=\"50%\" y1=\"19.2px\" y2=\"48px\" /></svg><line stroke=\"black\" x1=\"50%\" x2=\"4.83871%\" y1=\"19.2px\" y2=\"48px\" /><svg width=\"35.4839%\" x=\"9.67742%\" y=\"48px\"><defs /><svg width=\"100%\" x=\"0\" y=\"0px\"><defs /><text text-anchor=\"middle\" x=\"50%\" y=\"16px\">NounPhrase</text></svg><svg width=\"54.5455%\" x=\"0%\" y=\"48px\"><defs /><svg width=\"100%\" x=\"0\" y=\"0px\"><defs /><text text-anchor=\"middle\" x=\"50%\" y=\"16px\">Determiner</text></svg><svg width=\"100%\" x=\"0%\" y=\"48px\"><defs /><svg width=\"100%\" x=\"0\" y=\"0px\"><defs /><text text-anchor=\"middle\" x=\"50%\" y=\"16px\">an</text></svg></svg><line stroke=\"black\" x1=\"50%\" x2=\"50%\" y1=\"19.2px\" y2=\"48px\" /></svg><line stroke=\"black\" x1=\"50%\" x2=\"27.2727%\" y1=\"19.2px\" y2=\"48px\" /><svg width=\"45.4545%\" x=\"54.5455%\" y=\"48px\"><defs /><svg width=\"100%\" x=\"0\" y=\"0px\"><defs /><text text-anchor=\"middle\" x=\"50%\" y=\"16px\">Nominal</text></svg><svg width=\"100%\" x=\"0%\" y=\"48px\"><defs /><svg width=\"100%\" x=\"0\" y=\"0px\"><defs /><text text-anchor=\"middle\" x=\"50%\" y=\"16px\">Noun</text></svg><svg width=\"100%\" x=\"0%\" y=\"48px\"><defs /><svg width=\"100%\" x=\"0\" y=\"0px\"><defs /><text text-anchor=\"middle\" x=\"50%\" y=\"16px\">elephant</text></svg></svg><line stroke=\"black\" x1=\"50%\" x2=\"50%\" y1=\"19.2px\" y2=\"48px\" /></svg><line stroke=\"black\" x1=\"50%\" x2=\"50%\" y1=\"19.2px\" y2=\"48px\" /></svg><line stroke=\"black\" x1=\"50%\" x2=\"77.2727%\" y1=\"19.2px\" y2=\"48px\" /></svg><line stroke=\"black\" x1=\"50%\" x2=\"27.4194%\" y1=\"19.2px\" y2=\"48px\" /><svg width=\"54.8387%\" x=\"45.1613%\" y=\"48px\"><defs /><svg width=\"100%\" x=\"0\" y=\"0px\"><defs /><text text-anchor=\"middle\" x=\"50%\" y=\"16px\">PrepositionalPhrase</text></svg><svg width=\"38.2353%\" x=\"0%\" y=\"48px\"><defs /><svg width=\"100%\" x=\"0\" y=\"0px\"><defs /><text text-anchor=\"middle\" x=\"50%\" y=\"16px\">Preposition</text></svg><svg width=\"100%\" x=\"0%\" y=\"48px\"><defs /><svg width=\"100%\" x=\"0\" y=\"0px\"><defs /><text text-anchor=\"middle\" x=\"50%\" y=\"16px\">in</text></svg></svg><line stroke=\"black\" x1=\"50%\" x2=\"50%\" y1=\"19.2px\" y2=\"48px\" /></svg><line stroke=\"black\" x1=\"50%\" x2=\"19.1176%\" y1=\"19.2px\" y2=\"48px\" /><svg width=\"61.7647%\" x=\"38.2353%\" y=\"48px\"><defs /><svg width=\"100%\" x=\"0\" y=\"0px\"><defs /><text text-anchor=\"middle\" x=\"50%\" y=\"16px\">NounPhrase</text></svg><svg width=\"57.1429%\" x=\"0%\" y=\"48px\"><defs /><svg width=\"100%\" x=\"0\" y=\"0px\"><defs /><text text-anchor=\"middle\" x=\"50%\" y=\"16px\">Determiner</text></svg><svg width=\"100%\" x=\"0%\" y=\"48px\"><defs /><svg width=\"100%\" x=\"0\" y=\"0px\"><defs /><text text-anchor=\"middle\" x=\"50%\" y=\"16px\">my</text></svg></svg><line stroke=\"black\" x1=\"50%\" x2=\"50%\" y1=\"19.2px\" y2=\"48px\" /></svg><line stroke=\"black\" x1=\"50%\" x2=\"28.5714%\" y1=\"19.2px\" y2=\"48px\" /><svg width=\"42.8571%\" x=\"57.1429%\" y=\"48px\"><defs /><svg width=\"100%\" x=\"0\" y=\"0px\"><defs /><text text-anchor=\"middle\" x=\"50%\" y=\"16px\">Nominal</text></svg><svg width=\"100%\" x=\"0%\" y=\"48px\"><defs /><svg width=\"100%\" x=\"0\" y=\"0px\"><defs /><text text-anchor=\"middle\" x=\"50%\" y=\"16px\">Noun</text></svg><svg width=\"100%\" x=\"0%\" y=\"48px\"><defs /><svg width=\"100%\" x=\"0\" y=\"0px\"><defs /><text text-anchor=\"middle\" x=\"50%\" y=\"16px\">pajamas</text></svg></svg><line stroke=\"black\" x1=\"50%\" x2=\"50%\" y1=\"19.2px\" y2=\"48px\" /></svg><line stroke=\"black\" x1=\"50%\" x2=\"50%\" y1=\"19.2px\" y2=\"48px\" /></svg><line stroke=\"black\" x1=\"50%\" x2=\"78.5714%\" y1=\"19.2px\" y2=\"48px\" /></svg><line stroke=\"black\" x1=\"50%\" x2=\"69.1176%\" y1=\"19.2px\" y2=\"48px\" /></svg><line stroke=\"black\" x1=\"50%\" x2=\"72.5806%\" y1=\"19.2px\" y2=\"48px\" /></svg><line stroke=\"black\" x1=\"50%\" x2=\"58.1081%\" y1=\"19.2px\" y2=\"48px\" /></svg>"
          },
          "metadata": {}
        },
        {
          "output_type": "display_data",
          "data": {
            "text/plain": [
              "Tree('Sentence', [Tree('NounPhrase', [Tree('Pronoun', ['I'])]), Tree('VerbPhrase', [Tree('Verb', ['shot']), Tree('NounPhrase', [Tree('Determiner', ['an']), Tree('Nominal', [Tree('Nominal', [Tree('Noun', ['elephant'])]), Tree('PrepositionalPhrase', [Tree('Preposition', ['in']), Tree('NounPhrase', [Tree('Determiner', ['my']), Tree('Nominal', [Tree('Noun', ['pajamas'])])])])])])])])"
            ],
            "image/svg+xml": "<svg baseProfile=\"full\" height=\"408px\" preserveAspectRatio=\"xMidYMid meet\" style=\"font-family: times, serif; font-weight: normal; font-style: normal; font-size: 16px;\" version=\"1.1\" viewBox=\"0,0,592.0,408.0\" width=\"592px\" xmlns=\"http://www.w3.org/2000/svg\" xmlns:ev=\"http://www.w3.org/2001/xml-events\" xmlns:xlink=\"http://www.w3.org/1999/xlink\"><defs /><svg width=\"100%\" x=\"0\" y=\"0px\"><defs /><text text-anchor=\"middle\" x=\"50%\" y=\"16px\">Sentence</text></svg><svg width=\"16.2162%\" x=\"0%\" y=\"48px\"><defs /><svg width=\"100%\" x=\"0\" y=\"0px\"><defs /><text text-anchor=\"middle\" x=\"50%\" y=\"16px\">NounPhrase</text></svg><svg width=\"100%\" x=\"0%\" y=\"48px\"><defs /><svg width=\"100%\" x=\"0\" y=\"0px\"><defs /><text text-anchor=\"middle\" x=\"50%\" y=\"16px\">Pronoun</text></svg><svg width=\"100%\" x=\"0%\" y=\"48px\"><defs /><svg width=\"100%\" x=\"0\" y=\"0px\"><defs /><text text-anchor=\"middle\" x=\"50%\" y=\"16px\">I</text></svg></svg><line stroke=\"black\" x1=\"50%\" x2=\"50%\" y1=\"19.2px\" y2=\"48px\" /></svg><line stroke=\"black\" x1=\"50%\" x2=\"50%\" y1=\"19.2px\" y2=\"48px\" /></svg><line stroke=\"black\" x1=\"50%\" x2=\"8.10811%\" y1=\"19.2px\" y2=\"48px\" /><svg width=\"83.7838%\" x=\"16.2162%\" y=\"48px\"><defs /><svg width=\"100%\" x=\"0\" y=\"0px\"><defs /><text text-anchor=\"middle\" x=\"50%\" y=\"16px\">VerbPhrase</text></svg><svg width=\"9.67742%\" x=\"0%\" y=\"48px\"><defs /><svg width=\"100%\" x=\"0\" y=\"0px\"><defs /><text text-anchor=\"middle\" x=\"50%\" y=\"16px\">Verb</text></svg><svg width=\"100%\" x=\"0%\" y=\"48px\"><defs /><svg width=\"100%\" x=\"0\" y=\"0px\"><defs /><text text-anchor=\"middle\" x=\"50%\" y=\"16px\">shot</text></svg></svg><line stroke=\"black\" x1=\"50%\" x2=\"50%\" y1=\"19.2px\" y2=\"48px\" /></svg><line stroke=\"black\" x1=\"50%\" x2=\"4.83871%\" y1=\"19.2px\" y2=\"48px\" /><svg width=\"90.3226%\" x=\"9.67742%\" y=\"48px\"><defs /><svg width=\"100%\" x=\"0\" y=\"0px\"><defs /><text text-anchor=\"middle\" x=\"50%\" y=\"16px\">NounPhrase</text></svg><svg width=\"21.4286%\" x=\"0%\" y=\"48px\"><defs /><svg width=\"100%\" x=\"0\" y=\"0px\"><defs /><text text-anchor=\"middle\" x=\"50%\" y=\"16px\">Determiner</text></svg><svg width=\"100%\" x=\"0%\" y=\"48px\"><defs /><svg width=\"100%\" x=\"0\" y=\"0px\"><defs /><text text-anchor=\"middle\" x=\"50%\" y=\"16px\">an</text></svg></svg><line stroke=\"black\" x1=\"50%\" x2=\"50%\" y1=\"19.2px\" y2=\"48px\" /></svg><line stroke=\"black\" x1=\"50%\" x2=\"10.7143%\" y1=\"19.2px\" y2=\"48px\" /><svg width=\"78.5714%\" x=\"21.4286%\" y=\"48px\"><defs /><svg width=\"100%\" x=\"0\" y=\"0px\"><defs /><text text-anchor=\"middle\" x=\"50%\" y=\"16px\">Nominal</text></svg><svg width=\"22.7273%\" x=\"0%\" y=\"48px\"><defs /><svg width=\"100%\" x=\"0\" y=\"0px\"><defs /><text text-anchor=\"middle\" x=\"50%\" y=\"16px\">Nominal</text></svg><svg width=\"100%\" x=\"0%\" y=\"48px\"><defs /><svg width=\"100%\" x=\"0\" y=\"0px\"><defs /><text text-anchor=\"middle\" x=\"50%\" y=\"16px\">Noun</text></svg><svg width=\"100%\" x=\"0%\" y=\"48px\"><defs /><svg width=\"100%\" x=\"0\" y=\"0px\"><defs /><text text-anchor=\"middle\" x=\"50%\" y=\"16px\">elephant</text></svg></svg><line stroke=\"black\" x1=\"50%\" x2=\"50%\" y1=\"19.2px\" y2=\"48px\" /></svg><line stroke=\"black\" x1=\"50%\" x2=\"50%\" y1=\"19.2px\" y2=\"48px\" /></svg><line stroke=\"black\" x1=\"50%\" x2=\"11.3636%\" y1=\"19.2px\" y2=\"48px\" /><svg width=\"77.2727%\" x=\"22.7273%\" y=\"48px\"><defs /><svg width=\"100%\" x=\"0\" y=\"0px\"><defs /><text text-anchor=\"middle\" x=\"50%\" y=\"16px\">PrepositionalPhrase</text></svg><svg width=\"38.2353%\" x=\"0%\" y=\"48px\"><defs /><svg width=\"100%\" x=\"0\" y=\"0px\"><defs /><text text-anchor=\"middle\" x=\"50%\" y=\"16px\">Preposition</text></svg><svg width=\"100%\" x=\"0%\" y=\"48px\"><defs /><svg width=\"100%\" x=\"0\" y=\"0px\"><defs /><text text-anchor=\"middle\" x=\"50%\" y=\"16px\">in</text></svg></svg><line stroke=\"black\" x1=\"50%\" x2=\"50%\" y1=\"19.2px\" y2=\"48px\" /></svg><line stroke=\"black\" x1=\"50%\" x2=\"19.1176%\" y1=\"19.2px\" y2=\"48px\" /><svg width=\"61.7647%\" x=\"38.2353%\" y=\"48px\"><defs /><svg width=\"100%\" x=\"0\" y=\"0px\"><defs /><text text-anchor=\"middle\" x=\"50%\" y=\"16px\">NounPhrase</text></svg><svg width=\"57.1429%\" x=\"0%\" y=\"48px\"><defs /><svg width=\"100%\" x=\"0\" y=\"0px\"><defs /><text text-anchor=\"middle\" x=\"50%\" y=\"16px\">Determiner</text></svg><svg width=\"100%\" x=\"0%\" y=\"48px\"><defs /><svg width=\"100%\" x=\"0\" y=\"0px\"><defs /><text text-anchor=\"middle\" x=\"50%\" y=\"16px\">my</text></svg></svg><line stroke=\"black\" x1=\"50%\" x2=\"50%\" y1=\"19.2px\" y2=\"48px\" /></svg><line stroke=\"black\" x1=\"50%\" x2=\"28.5714%\" y1=\"19.2px\" y2=\"48px\" /><svg width=\"42.8571%\" x=\"57.1429%\" y=\"48px\"><defs /><svg width=\"100%\" x=\"0\" y=\"0px\"><defs /><text text-anchor=\"middle\" x=\"50%\" y=\"16px\">Nominal</text></svg><svg width=\"100%\" x=\"0%\" y=\"48px\"><defs /><svg width=\"100%\" x=\"0\" y=\"0px\"><defs /><text text-anchor=\"middle\" x=\"50%\" y=\"16px\">Noun</text></svg><svg width=\"100%\" x=\"0%\" y=\"48px\"><defs /><svg width=\"100%\" x=\"0\" y=\"0px\"><defs /><text text-anchor=\"middle\" x=\"50%\" y=\"16px\">pajamas</text></svg></svg><line stroke=\"black\" x1=\"50%\" x2=\"50%\" y1=\"19.2px\" y2=\"48px\" /></svg><line stroke=\"black\" x1=\"50%\" x2=\"50%\" y1=\"19.2px\" y2=\"48px\" /></svg><line stroke=\"black\" x1=\"50%\" x2=\"78.5714%\" y1=\"19.2px\" y2=\"48px\" /></svg><line stroke=\"black\" x1=\"50%\" x2=\"69.1176%\" y1=\"19.2px\" y2=\"48px\" /></svg><line stroke=\"black\" x1=\"50%\" x2=\"61.3636%\" y1=\"19.2px\" y2=\"48px\" /></svg><line stroke=\"black\" x1=\"50%\" x2=\"60.7143%\" y1=\"19.2px\" y2=\"48px\" /></svg><line stroke=\"black\" x1=\"50%\" x2=\"54.8387%\" y1=\"19.2px\" y2=\"48px\" /></svg><line stroke=\"black\" x1=\"50%\" x2=\"58.1081%\" y1=\"19.2px\" y2=\"48px\" /></svg>"
          },
          "metadata": {}
        }
      ],
      "source": [
        "import nltk\n",
        "\n",
        "\n",
        "productions = [\n",
        "    nltk.Production(nltk.Nonterminal('Sentence'), [nltk.Nonterminal('NounPhrase'), nltk.Nonterminal('VerbPhrase')]),\n",
        "    nltk.Production(nltk.Nonterminal('NounPhrase'), [nltk.Nonterminal('Pronoun')]),\n",
        "    nltk.Production(nltk.Nonterminal('NounPhrase'), [nltk.Nonterminal('Determiner'), nltk.Nonterminal('Nominal')]),\n",
        "    nltk.Production(nltk.Nonterminal('NounPhrase'), [nltk.Nonterminal('Nominal')]),\n",
        "    nltk.Production(nltk.Nonterminal('Nominal'), [nltk.Nonterminal('Nominal'), nltk.Nonterminal('Noun')]),\n",
        "    nltk.Production(nltk.Nonterminal('Nominal'), [nltk.Nonterminal('Nominal'), nltk.Nonterminal('PrepositionalPhrase')]),\n",
        "    nltk.Production(nltk.Nonterminal('Nominal'), [nltk.Nonterminal('Noun')]),\n",
        "    nltk.Production(nltk.Nonterminal('VerbPhrase'), [nltk.Nonterminal('Verb'), nltk.Nonterminal('NounPhrase')]),\n",
        "    nltk.Production(nltk.Nonterminal('VerbPhrase'), [nltk.Nonterminal('Verb'), nltk.Nonterminal('NounPhrase'), nltk.Nonterminal('PrepositionalPhrase')]),\n",
        "    nltk.Production(nltk.Nonterminal('VerbPhrase'), [nltk.Nonterminal('Verb'), nltk.Nonterminal('PrepositionalPhrase')]),\n",
        "    nltk.Production(nltk.Nonterminal('PrepositionalPhrase'), [nltk.Nonterminal('Preposition'), nltk.Nonterminal('NounPhrase')]),\n",
        "\n",
        "    # Productions for Determiner\n",
        "    nltk.Production(nltk.Nonterminal('Determiner'), ['a']),\n",
        "    nltk.Production(nltk.Nonterminal('Determiner'), ['an']),\n",
        "    nltk.Production(nltk.Nonterminal('Determiner'), ['the']),\n",
        "    nltk.Production(nltk.Nonterminal('Determiner'), ['this']),\n",
        "    nltk.Production(nltk.Nonterminal('Determiner'), ['that']),\n",
        "    nltk.Production(nltk.Nonterminal('Determiner'), ['my']),\n",
        "    # Add more Determiner productions as needed\n",
        "\n",
        "    # Productions for Pronoun\n",
        "    nltk.Production(nltk.Nonterminal('Pronoun'), ['me']),\n",
        "    nltk.Production(nltk.Nonterminal('Pronoun'), ['I']),\n",
        "    nltk.Production(nltk.Nonterminal('Pronoun'), ['you']),\n",
        "    nltk.Production(nltk.Nonterminal('Pronoun'), ['it']),\n",
        "    # Add more Pronoun productions as needed\n",
        "\n",
        "    # Productions for Noun\n",
        "    nltk.Production(nltk.Nonterminal('Noun'), ['flights']),\n",
        "    nltk.Production(nltk.Nonterminal('Noun'), ['flight']),\n",
        "    nltk.Production(nltk.Nonterminal('Noun'), ['breeze']),\n",
        "    nltk.Production(nltk.Nonterminal('Noun'), ['trip']),\n",
        "    nltk.Production(nltk.Nonterminal('Noun'), ['morning']),\n",
        "    nltk.Production(nltk.Nonterminal('Noun'), ['elephant']),\n",
        "    nltk.Production(nltk.Nonterminal('Noun'), ['pajamas']),\n",
        "    # Add more Noun productions as needed\n",
        "\n",
        "    # Productions for Verb\n",
        "    nltk.Production(nltk.Nonterminal('Verb'), ['is']),\n",
        "    nltk.Production(nltk.Nonterminal('Verb'), ['prefer']),\n",
        "    nltk.Production(nltk.Nonterminal('Verb'), ['like']),\n",
        "    nltk.Production(nltk.Nonterminal('Verb'), ['need']),\n",
        "    nltk.Production(nltk.Nonterminal('Verb'), ['want']),\n",
        "    nltk.Production(nltk.Nonterminal('Verb'), ['fly']),\n",
        "    nltk.Production(nltk.Nonterminal('Verb'), ['do']),\n",
        "    nltk.Production(nltk.Nonterminal('Verb'), ['shot']),\n",
        "    # Add more Verb productions as needed\n",
        "\n",
        "    # Productions for Preposition\n",
        "    nltk.Production(nltk.Nonterminal('Preposition'), ['from']),\n",
        "    nltk.Production(nltk.Nonterminal('Preposition'), ['to']),\n",
        "    nltk.Production(nltk.Nonterminal('Preposition'), ['on']),\n",
        "    nltk.Production(nltk.Nonterminal('Preposition'), ['near']),\n",
        "    nltk.Production(nltk.Nonterminal('Preposition'), ['in']),\n",
        "    # Add more Preposition productions as needed\n",
        "]\n",
        "\n",
        "custom_grammar = nltk.CFG(nltk.Nonterminal('Sentence'), productions)\n",
        "\n",
        "parser = nltk.ChartParser(custom_grammar)\n",
        "sentence = \"I shot an elephant in my pajamas\".split()\n",
        "for tree in parser.parse(sentence):\n",
        "    display(tree)"
      ]
    },
    {
      "cell_type": "markdown",
      "metadata": {
        "id": "8siinPAIeP2_"
      },
      "source": [
        "## The CFG we left off with\n",
        "\n",
        "<table>\n",
        "  <tr>\n",
        "    <td style=\"text-align: right;\"><em>Sentence</em></td>\n",
        "    <td style=\"text-align: center;\">&rarr;</td>\n",
        "    <td style=\"text-align: left;\"><em>NounPhrase</em> <em>VerbPhrase</em></td>\n",
        "  </tr>\n",
        "  <tr>\n",
        "    <td style=\"text-align: right;\"><em>NounPhrase</em></td>\n",
        "    <td style=\"text-align: center;\">&rarr;</td>\n",
        "    <td style=\"text-align: left;\"><em>Pronoun</em> | <em>Determiner</em> <em>Nominal</em> | <em>Nominal</em></td>\n",
        "  </tr>\n",
        "  <tr>\n",
        "    <td style=\"text-align: right;\"><em>Nominal</em></td>\n",
        "    <td style=\"text-align: center;\">&rarr;</td>\n",
        "      <td style=\"text-align: left;\"><em>Nominal</em> <em>Noun</em> | <em>Nominal</em> <em>PrepositionalPhrase</em> | <em>Noun</em> </td>\n",
        "  </tr>\n",
        "  <tr>\n",
        "    <td style=\"text-align: right;\"><em>VerbPhrase</em></td>\n",
        "    <td style=\"text-align: center;\">&rarr;</td>\n",
        "    <td style=\"text-align: left;\"><em>Verb</em> <em>NounPhrase</em> | <em>Verb</em> <em>NounPhrase</em> <em>PropositionalPhrase</em> | <em>Verb</em> <em>PrepositionalPhrase</em></td>\n",
        "  </tr>\n",
        "  <tr>\n",
        "    <td style=\"text-align: right;\"><em>PrepositionalPhrase</em></td>\n",
        "    <td style=\"text-align: center;\">&rarr;</td>\n",
        "    <td style=\"text-align: left;\"><em>Preposition</em> <em>NounPhrase</em></td>\n",
        "  </tr>\n",
        "  <tr>\n",
        "    <td style=\"text-align: right;\"><em>Determiner</em></td>\n",
        "    <td style=\"text-align: center;\">&rarr;</td>\n",
        "    <td style=\"text-align: left;\"><code>a</code> | <code>an</code> | <code>the</code> | <code>this</code> | <code>that</code> | <code>my</code> | ...</td>\n",
        "  </tr>\n",
        "  <tr>\n",
        "    <td style=\"text-align: right;\"><em>Pronoun</em></td>\n",
        "    <td style=\"text-align: center;\">&rarr;</td>\n",
        "    <td style=\"text-align: left;\"><code>me</code> | <code>I</code> | <code>you</code> | <code>it</code> | ...</td>\n",
        "  </tr>\n",
        "  <tr>\n",
        "    <td style=\"text-align: right;\"><em>Noun</em></td>\n",
        "    <td style=\"text-align: center;\">&rarr;</td>\n",
        "    <td style=\"text-align: left;\"><code>flights</code> | <code>flight</code> | <code>breeze</code> | <code>trip</code> | <code>morning</code> | <code>elephant</code> | <code>pajamas</code> | ...</td>\n",
        "  </tr>\n",
        "  <tr>\n",
        "    <td style=\"text-align: right;\"><em>Verb</em></td>\n",
        "    <td style=\"text-align: center;\">&rarr;</td>\n",
        "    <td style=\"text-align: left;\"><code>is</code> | <code>prefer</code> | <code>like</code> | <code>need</code> | <code>want</code> | <code>fly</code> | <code>do</code> | <code>shot</code> | ...</td>\n",
        "  </tr>\n",
        "  <tr>\n",
        "    <td style=\"text-align: right;\"><em>Preposition</em></td>\n",
        "    <td style=\"text-align: center;\">&rarr;</td>\n",
        "    <td style=\"text-align: left;\"><code>from</code> | <code>to</code> | <code>on</code> | <code>near</code> | <code>in</code> | ...</td>\n",
        "  </tr>\n",
        "</table>\n"
      ]
    },
    {
      "cell_type": "markdown",
      "metadata": {
        "id": "QqlU4b-XeP2_"
      },
      "source": [
        "## Chomsky Normal Form\n",
        "\n",
        "A context-free grammar in **Chomsky Normal Form** (CNF) is only allowed two kinds of rules\n",
        "\n",
        "1. Rules with two nonterminals on the right-hand side\n",
        "\n",
        "  <tr>\n",
        "    <td style=\"text-align: right;\"><em>A</em></td>\n",
        "    <td style=\"text-align: center;\">&rarr;</td>\n",
        "    <td style=\"text-align: left;\"><em>B</em> <em>C</em></td>\n",
        "  </tr>\n",
        "  \n",
        "2. Rules with a single terminal on the right-hand side and nothing else\n",
        "\n",
        "  <tr>\n",
        "    <td style=\"text-align: right;\"><em>A</em></td>\n",
        "    <td style=\"text-align: center;\">&rarr;</td>\n",
        "    <td style=\"text-align: left;\"><code>terminal</code></td>\n",
        "  </tr>\n",
        "  \n",
        "  \n",
        "Every context-free grammar can be converted into an equivalent grammar in CNF."
      ]
    },
    {
      "cell_type": "markdown",
      "metadata": {
        "id": "ZdHfdhXWeP2_"
      },
      "source": [
        "## CNF Conversion Example\n",
        "\n",
        "Rules like this are already ok\n",
        "\n",
        "<table>\n",
        "  <tr>\n",
        "    <td style=\"text-align: right;\"><em>Sentence</em></td>\n",
        "    <td style=\"text-align: center;\">&rarr;</td>\n",
        "    <td style=\"text-align: left;\"><em>NounPhrase</em> <em>VerbPhrase</em></td>\n",
        "  </tr>\n",
        "</table>  "
      ]
    },
    {
      "cell_type": "markdown",
      "metadata": {
        "id": "Hqz62m64eP3A"
      },
      "source": [
        "For rules that have more than two nonterminals, add a new *dummy* nonterminal\n",
        "  \n",
        "<table>\n",
        "<tr>\n",
        "    <td style=\"text-align: right;\"><em>VerbPhrase</em></td>\n",
        "    <td style=\"text-align: center;\">&rarr;</td>\n",
        "    <td style=\"text-align: left;\"><em>Verb</em> <em>NounPhrase</em> <em>PropositionalPhrase</em></td>\n",
        "</tr>\n",
        "</table>\n",
        "becomes\n",
        "<table>\n",
        "<tr>\n",
        "    <td style=\"text-align: right;\"><em>VerbPhrase</em></td>\n",
        "    <td style=\"text-align: center;\">&rarr;</td>\n",
        "    <td style=\"text-align: left;\"><em>X</em> <em>PropositionalPhrase</em></td>\n",
        "</tr>\n",
        "<tr>\n",
        "    <td style=\"text-align: right;\"><em>X</em></td>\n",
        "    <td style=\"text-align: center;\">&rarr;</td>\n",
        "    <td style=\"text-align: left;\"><em>Verb</em> <em>NounPhrase</em></td>\n",
        "</tr>\n",
        "</table>"
      ]
    },
    {
      "cell_type": "markdown",
      "metadata": {
        "id": "p_XM3pQFeP3A"
      },
      "source": [
        "Flatten rules with a single non-terminal\n",
        "\n",
        "<table>\n",
        "  <tr>\n",
        "    <td style=\"text-align: right;\"><em>NounPhrase</em></td>\n",
        "    <td style=\"text-align: center;\">&rarr;</td>\n",
        "    <td style=\"text-align: left;\"><em>Pronoun</em></td>\n",
        "  </tr>\n",
        "  <tr>\n",
        "    <td style=\"text-align: right;\"><em>Pronoun</em></td>\n",
        "    <td style=\"text-align: center;\">&rarr;</td>\n",
        "    <td style=\"text-align: left;\"><code>me</code> | <code>I</code> | <code>you</code> | <code>it</code> | ...</td>\n",
        "  </tr>\n",
        "</table>\n",
        "\n",
        "becomes\n",
        "\n",
        "<table>\n",
        "  <tr>\n",
        "    <td style=\"text-align: right;\"><em>NounPhrase</em></td>\n",
        "    <td style=\"text-align: center;\">&rarr;</td>\n",
        "    <td style=\"text-align: left;\"><code>me</code> | <code>I</code> | <code>you</code> | <code>it</code> | ... </td>\n",
        "  </tr>\n",
        "  <tr>\n",
        "    <td style=\"text-align: right;\"><em>Pronoun</em></td>\n",
        "    <td style=\"text-align: center;\">&rarr;</td>\n",
        "    <td style=\"text-align: left;\"><code>me</code> | <code>I</code> | <code>you</code> | <code>it</code> | ...</td>\n",
        "  </tr>\n",
        "</table>"
      ]
    },
    {
      "cell_type": "markdown",
      "metadata": {
        "id": "OQpPgyMxeP3A"
      },
      "source": [
        "## CNF version of our grammar\n",
        "\n",
        "<table>\n",
        "  <tr>\n",
        "    <td style=\"text-align: right;\"><em>S</em></td>\n",
        "    <td style=\"text-align: center;\">&rarr;</td>\n",
        "    <td style=\"text-align: left;\"><em>NP</em> <em>VP</em></td>\n",
        "  </tr>\n",
        "  <tr>\n",
        "    <td style=\"text-align: right;\"><em>NP</em></td>\n",
        "    <td style=\"text-align: center;\">&rarr;</td>\n",
        "    <td style=\"text-align: left;\"><em>Det</em> <em>Nominal</em> |</td>\n",
        "  </tr>\n",
        "  <tr>\n",
        "    <td style=\"text-align: right;\"><em></em></td>\n",
        "    <td style=\"text-align: center;\"></td>\n",
        "    <td style=\"text-align: left;\">| <code>me</code> | <code>I</code> | <code>you</code> | <code>it</code> | ...</td>\n",
        "  </tr>\n",
        "    <tr>\n",
        "    <td style=\"text-align: right;\"><em></em></td>\n",
        "    <td style=\"text-align: center;\"></td>\n",
        "    <td style=\"text-align: left;\">| <em>Nominal</em> <em>Noun</em> | <em>Nominal</em> <em>PP</em></td>\n",
        "  </tr>\n",
        "  <tr>\n",
        "    <td style=\"text-align: right;\"><em></em></td>\n",
        "    <td style=\"text-align: center;\"></td>\n",
        "    <td style=\"text-align: left;\">| <code>flights</code> | <code>flight</code> | <code>breeze</code> | <code>trip</code> | <code>morning</code> | <code>elephant</code> | <code>pajamas</code> | ...</td>\n",
        "  </tr>\n",
        "  <tr>\n",
        "    <td style=\"text-align: right;\"><em>Nominal</em></td>\n",
        "    <td style=\"text-align: center;\">&rarr;</td>\n",
        "      <td style=\"text-align: left;\"><em>Nominal</em> <em>Noun</em> | <em>Nominal</em> <em>PP</em></td>\n",
        "  </tr>\n",
        "  <tr>\n",
        "    <td style=\"text-align: right;\"><em></em></td>\n",
        "    <td style=\"text-align: center;\"></td>\n",
        "      <td style=\"text-align: left;\">| <code>flights</code> | <code>flight</code> | <code>breeze</code> | <code>trip</code> | <code>morning</code> | <code>elephant</code> | <code>pajamas</code> | ...</td>\n",
        "  </tr>\n",
        "  <tr>\n",
        "    <td style=\"text-align: right;\"><em>VP</em></td>\n",
        "    <td style=\"text-align: center;\">&rarr;</td>\n",
        "    <td style=\"text-align: left;\"><em>Verb</em> <em>NP</em> | <em>X</em> <em>PP</em> | <em>Verb</em> <em>PP</em></td>\n",
        "  </tr>\n",
        "  <tr>\n",
        "    <td style=\"text-align: right;\"><em>X</em></td>\n",
        "    <td style=\"text-align: center;\">&rarr;</td>\n",
        "    <td style=\"text-align: left;\"><em>Verb</em> <em>NP</em></td>\n",
        "  </tr>\n",
        "  <tr>\n",
        "    <td style=\"text-align: right;\"><em>PP</em></td>\n",
        "    <td style=\"text-align: center;\">&rarr;</td>\n",
        "    <td style=\"text-align: left;\"><em>Preposition</em> <em>NP</em></td>\n",
        "  </tr>\n",
        "  <tr>\n",
        "    <td style=\"text-align: right;\"><em>Det</em></td>\n",
        "    <td style=\"text-align: center;\">&rarr;</td>\n",
        "    <td style=\"text-align: left;\"><code>a</code> | <code>an</code> | <code>the</code> | <code>this</code> | <code>that</code> | <code>my</code> | ...</td>\n",
        "  </tr>\n",
        "  <tr>\n",
        "    <td style=\"text-align: right;\"><em>Pronoun</em></td>\n",
        "    <td style=\"text-align: center;\">&rarr;</td>\n",
        "    <td style=\"text-align: left;\"><code>me</code> | <code>I</code> | <code>you</code> | <code>it</code> | ...</td>\n",
        "  </tr>\n",
        "  <tr>\n",
        "    <td style=\"text-align: right;\"><em>Noun</em></td>\n",
        "    <td style=\"text-align: center;\">&rarr;</td>\n",
        "    <td style=\"text-align: left;\"><code>flights</code> | <code>flight</code> | <code>breeze</code> | <code>trip</code> | <code>morning</code> | <code>elephant</code> | <code>pajamas</code> | ...</td>\n",
        "  </tr>\n",
        "  <tr>\n",
        "    <td style=\"text-align: right;\"><em>Verb</em></td>\n",
        "    <td style=\"text-align: center;\">&rarr;</td>\n",
        "    <td style=\"text-align: left;\"><code>is</code> | <code>prefer</code> | <code>like</code> | <code>need</code> | <code>want</code> | <code>fly</code> | <code>do</code> | <code>shot</code> | ...</td>\n",
        "  </tr>\n",
        "  <tr>\n",
        "    <td style=\"text-align: right;\"><em>Preposition</em></td>\n",
        "    <td style=\"text-align: center;\">&rarr;</td>\n",
        "    <td style=\"text-align: left;\"><code>from</code> | <code>to</code> | <code>on</code> | <code>near</code> | <code>in</code> | ...</td>\n",
        "  </tr>\n",
        "</table>\n"
      ]
    },
    {
      "cell_type": "markdown",
      "metadata": {
        "id": "87Zi8qcOeP3A"
      },
      "source": [
        "## CKY Algorithm\n",
        "\n",
        "\n",
        "\n",
        "**Review:** an n-gram is a sequence of n consecutive words\n",
        "\n",
        "\n",
        "**CKY Algorithm**\n",
        "\n",
        "for each 1-gram (`word`) in the sentence\n",
        "* make note of all productions that `word` appears on the right side of (like *A* &rarr; `word`)\n",
        "    \n",
        "for each n from 2 to the number of words in the sentence\n",
        "* for each n-gram in the sentence\n",
        "    * for each possible partition of the n-gram into two parts\n",
        "        * make note of all productions of the form *A* &rarr; *B* *C* where *B* matches the first part and *C* matches the second part"
      ]
    },
    {
      "cell_type": "markdown",
      "metadata": {
        "id": "QXkhvXEPeP3A"
      },
      "source": [
        "## Algorithm Demo\n",
        "\n",
        "Let's walk through how this algorithm works on the whiteboard.\n",
        "\n",
        "Sentence: \"I shot an elephant in my pajamas\"\n",
        "\n",
        "<table>\n",
        "  <tr>\n",
        "    <td style=\"text-align: right;\"><em>S</em></td>\n",
        "    <td style=\"text-align: center;\">&rarr;</td>\n",
        "    <td style=\"text-align: left;\"><em>NP</em> <em>VP</em></td>\n",
        "  </tr>\n",
        "  <tr>\n",
        "    <td style=\"text-align: right;\"><em>NP</em></td>\n",
        "    <td style=\"text-align: center;\">&rarr;</td>\n",
        "    <td style=\"text-align: left;\"><em>Det</em> <em>Nominal</em> |</td>\n",
        "  </tr>\n",
        "  <tr>\n",
        "    <td style=\"text-align: right;\"><em></em></td>\n",
        "    <td style=\"text-align: center;\"></td>\n",
        "    <td style=\"text-align: left;\">| <code>me</code> | <code>I</code> | <code>you</code> | <code>it</code> | ...</td>\n",
        "  </tr>\n",
        "    <tr>\n",
        "    <td style=\"text-align: right;\"><em></em></td>\n",
        "    <td style=\"text-align: center;\"></td>\n",
        "    <td style=\"text-align: left;\">| <em>Nominal</em> <em>Noun</em> | <em>Nominal</em> <em>PP</em></td>\n",
        "  </tr>\n",
        "  <tr>\n",
        "    <td style=\"text-align: right;\"><em></em></td>\n",
        "    <td style=\"text-align: center;\"></td>\n",
        "    <td style=\"text-align: left;\">| <code>flights</code> | <code>flight</code> | <code>breeze</code> | <code>trip</code> | <code>morning</code> | <code>elephant</code> | <code>pajamas</code> | ...</td>\n",
        "  </tr>\n",
        "  <tr>\n",
        "    <td style=\"text-align: right;\"><em>Nominal</em></td>\n",
        "    <td style=\"text-align: center;\">&rarr;</td>\n",
        "      <td style=\"text-align: left;\"><em>Nominal</em> <em>Noun</em> | <em>Nominal</em> <em>PP</em></td>\n",
        "  </tr>\n",
        "  <tr>\n",
        "    <td style=\"text-align: right;\"><em></em></td>\n",
        "    <td style=\"text-align: center;\"></td>\n",
        "      <td style=\"text-align: left;\">| <code>flights</code> | <code>flight</code> | <code>breeze</code> | <code>trip</code> | <code>morning</code> | <code>elephant</code> | <code>pajamas</code> | ...</td>\n",
        "  </tr>\n",
        "  <tr>\n",
        "    <td style=\"text-align: right;\"><em>VP</em></td>\n",
        "    <td style=\"text-align: center;\">&rarr;</td>\n",
        "    <td style=\"text-align: left;\"><em>Verb</em> <em>NP</em> | <em>X</em> <em>PP</em> | <em>Verb</em> <em>PP</em></td>\n",
        "  </tr>\n",
        "  <tr>\n",
        "    <td style=\"text-align: right;\"><em>X</em></td>\n",
        "    <td style=\"text-align: center;\">&rarr;</td>\n",
        "    <td style=\"text-align: left;\"><em>Verb</em> <em>NP</em></td>\n",
        "  </tr>\n",
        "  <tr>\n",
        "    <td style=\"text-align: right;\"><em>PP</em></td>\n",
        "    <td style=\"text-align: center;\">&rarr;</td>\n",
        "    <td style=\"text-align: left;\"><em>Preposition</em> <em>NP</em></td>\n",
        "  </tr>\n",
        "  <tr>\n",
        "    <td style=\"text-align: right;\"><em>Det</em></td>\n",
        "    <td style=\"text-align: center;\">&rarr;</td>\n",
        "    <td style=\"text-align: left;\"><code>a</code> | <code>an</code> | <code>the</code> | <code>this</code> | <code>that</code> | <code>my</code> | ...</td>\n",
        "  </tr>\n",
        "  <tr>\n",
        "    <td style=\"text-align: right;\"><em>Pronoun</em></td>\n",
        "    <td style=\"text-align: center;\">&rarr;</td>\n",
        "    <td style=\"text-align: left;\"><code>me</code> | <code>I</code> | <code>you</code> | <code>it</code> | ...</td>\n",
        "  </tr>\n",
        "  <tr>\n",
        "    <td style=\"text-align: right;\"><em>Noun</em></td>\n",
        "    <td style=\"text-align: center;\">&rarr;</td>\n",
        "    <td style=\"text-align: left;\"><code>flights</code> | <code>flight</code> | <code>breeze</code> | <code>trip</code> | <code>morning</code> | <code>elephant</code> | <code>pajamas</code> | ...</td>\n",
        "  </tr>\n",
        "  <tr>\n",
        "    <td style=\"text-align: right;\"><em>Verb</em></td>\n",
        "    <td style=\"text-align: center;\">&rarr;</td>\n",
        "    <td style=\"text-align: left;\"><code>is</code> | <code>prefer</code> | <code>like</code> | <code>need</code> | <code>want</code> | <code>fly</code> | <code>do</code> | <code>shot</code> | ...</td>\n",
        "  </tr>\n",
        "  <tr>\n",
        "    <td style=\"text-align: right;\"><em>Preposition</em></td>\n",
        "    <td style=\"text-align: center;\">&rarr;</td>\n",
        "    <td style=\"text-align: left;\"><code>from</code> | <code>to</code> | <code>on</code> | <code>near</code> | <code>in</code> | ...</td>\n",
        "  </tr>\n",
        "</table>"
      ]
    },
    {
      "cell_type": "markdown",
      "metadata": {
        "id": "I0kUed_2eP3A"
      },
      "source": [
        "### Completed diagram for your notes\n",
        "\n",
        "Apologies for the low-tech image\n",
        "\n",
        "<div>\n",
        "<img src=\"https://github.com/ericmanley/f23-CS195NLP/blob/main/images/cky_example.jpg?raw=1\" width = 700/>\n",
        "</div>"
      ]
    },
    {
      "cell_type": "markdown",
      "metadata": {
        "id": "2-CQbyO0eP3A"
      },
      "source": [
        "### Checking our work with NLTK's ChartParser"
      ]
    },
    {
      "cell_type": "code",
      "execution_count": null,
      "metadata": {
        "id": "m7tEjuYteP3A",
        "outputId": "7e190b9e-c294-4e58-9258-b5c05585319f",
        "colab": {
          "base_uri": "https://localhost:8080/",
          "height": 648
        }
      },
      "outputs": [
        {
          "output_type": "display_data",
          "data": {
            "text/plain": [
              "Tree('S', [Tree('NP', ['I']), Tree('VP', [Tree('X', [Tree('Verb', ['shot']), Tree('NP', [Tree('Det', ['an']), Tree('Nominal', ['elephant'])])]), Tree('PP', [Tree('Preposition', ['in']), Tree('NP', [Tree('Det', ['my']), Tree('Nominal', ['pajamas'])])])])])"
            ],
            "image/svg+xml": "<svg baseProfile=\"full\" height=\"264px\" preserveAspectRatio=\"xMidYMid meet\" style=\"font-family: times, serif; font-weight: normal; font-style: normal; font-size: 16px;\" version=\"1.1\" viewBox=\"0,0,416.0,264.0\" width=\"416px\" xmlns=\"http://www.w3.org/2000/svg\" xmlns:ev=\"http://www.w3.org/2001/xml-events\" xmlns:xlink=\"http://www.w3.org/1999/xlink\"><defs /><svg width=\"100%\" x=\"0\" y=\"0px\"><defs /><text text-anchor=\"middle\" x=\"50%\" y=\"16px\">S</text></svg><svg width=\"7.69231%\" x=\"0%\" y=\"48px\"><defs /><svg width=\"100%\" x=\"0\" y=\"0px\"><defs /><text text-anchor=\"middle\" x=\"50%\" y=\"16px\">NP</text></svg><svg width=\"100%\" x=\"0%\" y=\"48px\"><defs /><svg width=\"100%\" x=\"0\" y=\"0px\"><defs /><text text-anchor=\"middle\" x=\"50%\" y=\"16px\">I</text></svg></svg><line stroke=\"black\" x1=\"50%\" x2=\"50%\" y1=\"19.2px\" y2=\"48px\" /></svg><line stroke=\"black\" x1=\"50%\" x2=\"3.84615%\" y1=\"19.2px\" y2=\"48px\" /><svg width=\"92.3077%\" x=\"7.69231%\" y=\"48px\"><defs /><svg width=\"100%\" x=\"0\" y=\"0px\"><defs /><text text-anchor=\"middle\" x=\"50%\" y=\"16px\">VP</text></svg><svg width=\"43.75%\" x=\"0%\" y=\"48px\"><defs /><svg width=\"100%\" x=\"0\" y=\"0px\"><defs /><text text-anchor=\"middle\" x=\"50%\" y=\"16px\">X</text></svg><svg width=\"28.5714%\" x=\"0%\" y=\"48px\"><defs /><svg width=\"100%\" x=\"0\" y=\"0px\"><defs /><text text-anchor=\"middle\" x=\"50%\" y=\"16px\">Verb</text></svg><svg width=\"100%\" x=\"0%\" y=\"48px\"><defs /><svg width=\"100%\" x=\"0\" y=\"0px\"><defs /><text text-anchor=\"middle\" x=\"50%\" y=\"16px\">shot</text></svg></svg><line stroke=\"black\" x1=\"50%\" x2=\"50%\" y1=\"19.2px\" y2=\"48px\" /></svg><line stroke=\"black\" x1=\"50%\" x2=\"14.2857%\" y1=\"19.2px\" y2=\"48px\" /><svg width=\"71.4286%\" x=\"28.5714%\" y=\"48px\"><defs /><svg width=\"100%\" x=\"0\" y=\"0px\"><defs /><text text-anchor=\"middle\" x=\"50%\" y=\"16px\">NP</text></svg><svg width=\"33.3333%\" x=\"0%\" y=\"48px\"><defs /><svg width=\"100%\" x=\"0\" y=\"0px\"><defs /><text text-anchor=\"middle\" x=\"50%\" y=\"16px\">Det</text></svg><svg width=\"100%\" x=\"0%\" y=\"48px\"><defs /><svg width=\"100%\" x=\"0\" y=\"0px\"><defs /><text text-anchor=\"middle\" x=\"50%\" y=\"16px\">an</text></svg></svg><line stroke=\"black\" x1=\"50%\" x2=\"50%\" y1=\"19.2px\" y2=\"48px\" /></svg><line stroke=\"black\" x1=\"50%\" x2=\"16.6667%\" y1=\"19.2px\" y2=\"48px\" /><svg width=\"66.6667%\" x=\"33.3333%\" y=\"48px\"><defs /><svg width=\"100%\" x=\"0\" y=\"0px\"><defs /><text text-anchor=\"middle\" x=\"50%\" y=\"16px\">Nominal</text></svg><svg width=\"100%\" x=\"0%\" y=\"48px\"><defs /><svg width=\"100%\" x=\"0\" y=\"0px\"><defs /><text text-anchor=\"middle\" x=\"50%\" y=\"16px\">elephant</text></svg></svg><line stroke=\"black\" x1=\"50%\" x2=\"50%\" y1=\"19.2px\" y2=\"48px\" /></svg><line stroke=\"black\" x1=\"50%\" x2=\"66.6667%\" y1=\"19.2px\" y2=\"48px\" /></svg><line stroke=\"black\" x1=\"50%\" x2=\"64.2857%\" y1=\"19.2px\" y2=\"48px\" /></svg><line stroke=\"black\" x1=\"50%\" x2=\"21.875%\" y1=\"19.2px\" y2=\"48px\" /><svg width=\"56.25%\" x=\"43.75%\" y=\"48px\"><defs /><svg width=\"100%\" x=\"0\" y=\"0px\"><defs /><text text-anchor=\"middle\" x=\"50%\" y=\"16px\">PP</text></svg><svg width=\"48.1481%\" x=\"0%\" y=\"48px\"><defs /><svg width=\"100%\" x=\"0\" y=\"0px\"><defs /><text text-anchor=\"middle\" x=\"50%\" y=\"16px\">Preposition</text></svg><svg width=\"100%\" x=\"0%\" y=\"48px\"><defs /><svg width=\"100%\" x=\"0\" y=\"0px\"><defs /><text text-anchor=\"middle\" x=\"50%\" y=\"16px\">in</text></svg></svg><line stroke=\"black\" x1=\"50%\" x2=\"50%\" y1=\"19.2px\" y2=\"48px\" /></svg><line stroke=\"black\" x1=\"50%\" x2=\"24.0741%\" y1=\"19.2px\" y2=\"48px\" /><svg width=\"51.8519%\" x=\"48.1481%\" y=\"48px\"><defs /><svg width=\"100%\" x=\"0\" y=\"0px\"><defs /><text text-anchor=\"middle\" x=\"50%\" y=\"16px\">NP</text></svg><svg width=\"35.7143%\" x=\"0%\" y=\"48px\"><defs /><svg width=\"100%\" x=\"0\" y=\"0px\"><defs /><text text-anchor=\"middle\" x=\"50%\" y=\"16px\">Det</text></svg><svg width=\"100%\" x=\"0%\" y=\"48px\"><defs /><svg width=\"100%\" x=\"0\" y=\"0px\"><defs /><text text-anchor=\"middle\" x=\"50%\" y=\"16px\">my</text></svg></svg><line stroke=\"black\" x1=\"50%\" x2=\"50%\" y1=\"19.2px\" y2=\"48px\" /></svg><line stroke=\"black\" x1=\"50%\" x2=\"17.8571%\" y1=\"19.2px\" y2=\"48px\" /><svg width=\"64.2857%\" x=\"35.7143%\" y=\"48px\"><defs /><svg width=\"100%\" x=\"0\" y=\"0px\"><defs /><text text-anchor=\"middle\" x=\"50%\" y=\"16px\">Nominal</text></svg><svg width=\"100%\" x=\"0%\" y=\"48px\"><defs /><svg width=\"100%\" x=\"0\" y=\"0px\"><defs /><text text-anchor=\"middle\" x=\"50%\" y=\"16px\">pajamas</text></svg></svg><line stroke=\"black\" x1=\"50%\" x2=\"50%\" y1=\"19.2px\" y2=\"48px\" /></svg><line stroke=\"black\" x1=\"50%\" x2=\"67.8571%\" y1=\"19.2px\" y2=\"48px\" /></svg><line stroke=\"black\" x1=\"50%\" x2=\"74.0741%\" y1=\"19.2px\" y2=\"48px\" /></svg><line stroke=\"black\" x1=\"50%\" x2=\"71.875%\" y1=\"19.2px\" y2=\"48px\" /></svg><line stroke=\"black\" x1=\"50%\" x2=\"53.8462%\" y1=\"19.2px\" y2=\"48px\" /></svg>"
          },
          "metadata": {}
        },
        {
          "output_type": "display_data",
          "data": {
            "text/plain": [
              "Tree('S', [Tree('NP', ['I']), Tree('VP', [Tree('Verb', ['shot']), Tree('NP', [Tree('Det', ['an']), Tree('Nominal', [Tree('Nominal', ['elephant']), Tree('PP', [Tree('Preposition', ['in']), Tree('NP', [Tree('Det', ['my']), Tree('Nominal', ['pajamas'])])])])])])])"
            ],
            "image/svg+xml": "<svg baseProfile=\"full\" height=\"360px\" preserveAspectRatio=\"xMidYMid meet\" style=\"font-family: times, serif; font-weight: normal; font-style: normal; font-size: 16px;\" version=\"1.1\" viewBox=\"0,0,416.0,360.0\" width=\"416px\" xmlns=\"http://www.w3.org/2000/svg\" xmlns:ev=\"http://www.w3.org/2001/xml-events\" xmlns:xlink=\"http://www.w3.org/1999/xlink\"><defs /><svg width=\"100%\" x=\"0\" y=\"0px\"><defs /><text text-anchor=\"middle\" x=\"50%\" y=\"16px\">S</text></svg><svg width=\"7.69231%\" x=\"0%\" y=\"48px\"><defs /><svg width=\"100%\" x=\"0\" y=\"0px\"><defs /><text text-anchor=\"middle\" x=\"50%\" y=\"16px\">NP</text></svg><svg width=\"100%\" x=\"0%\" y=\"48px\"><defs /><svg width=\"100%\" x=\"0\" y=\"0px\"><defs /><text text-anchor=\"middle\" x=\"50%\" y=\"16px\">I</text></svg></svg><line stroke=\"black\" x1=\"50%\" x2=\"50%\" y1=\"19.2px\" y2=\"48px\" /></svg><line stroke=\"black\" x1=\"50%\" x2=\"3.84615%\" y1=\"19.2px\" y2=\"48px\" /><svg width=\"92.3077%\" x=\"7.69231%\" y=\"48px\"><defs /><svg width=\"100%\" x=\"0\" y=\"0px\"><defs /><text text-anchor=\"middle\" x=\"50%\" y=\"16px\">VP</text></svg><svg width=\"12.5%\" x=\"0%\" y=\"48px\"><defs /><svg width=\"100%\" x=\"0\" y=\"0px\"><defs /><text text-anchor=\"middle\" x=\"50%\" y=\"16px\">Verb</text></svg><svg width=\"100%\" x=\"0%\" y=\"48px\"><defs /><svg width=\"100%\" x=\"0\" y=\"0px\"><defs /><text text-anchor=\"middle\" x=\"50%\" y=\"16px\">shot</text></svg></svg><line stroke=\"black\" x1=\"50%\" x2=\"50%\" y1=\"19.2px\" y2=\"48px\" /></svg><line stroke=\"black\" x1=\"50%\" x2=\"6.25%\" y1=\"19.2px\" y2=\"48px\" /><svg width=\"87.5%\" x=\"12.5%\" y=\"48px\"><defs /><svg width=\"100%\" x=\"0\" y=\"0px\"><defs /><text text-anchor=\"middle\" x=\"50%\" y=\"16px\">NP</text></svg><svg width=\"11.9048%\" x=\"0%\" y=\"48px\"><defs /><svg width=\"100%\" x=\"0\" y=\"0px\"><defs /><text text-anchor=\"middle\" x=\"50%\" y=\"16px\">Det</text></svg><svg width=\"100%\" x=\"0%\" y=\"48px\"><defs /><svg width=\"100%\" x=\"0\" y=\"0px\"><defs /><text text-anchor=\"middle\" x=\"50%\" y=\"16px\">an</text></svg></svg><line stroke=\"black\" x1=\"50%\" x2=\"50%\" y1=\"19.2px\" y2=\"48px\" /></svg><line stroke=\"black\" x1=\"50%\" x2=\"5.95238%\" y1=\"19.2px\" y2=\"48px\" /><svg width=\"88.0952%\" x=\"11.9048%\" y=\"48px\"><defs /><svg width=\"100%\" x=\"0\" y=\"0px\"><defs /><text text-anchor=\"middle\" x=\"50%\" y=\"16px\">Nominal</text></svg><svg width=\"27.027%\" x=\"0%\" y=\"48px\"><defs /><svg width=\"100%\" x=\"0\" y=\"0px\"><defs /><text text-anchor=\"middle\" x=\"50%\" y=\"16px\">Nominal</text></svg><svg width=\"100%\" x=\"0%\" y=\"48px\"><defs /><svg width=\"100%\" x=\"0\" y=\"0px\"><defs /><text text-anchor=\"middle\" x=\"50%\" y=\"16px\">elephant</text></svg></svg><line stroke=\"black\" x1=\"50%\" x2=\"50%\" y1=\"19.2px\" y2=\"48px\" /></svg><line stroke=\"black\" x1=\"50%\" x2=\"13.5135%\" y1=\"19.2px\" y2=\"48px\" /><svg width=\"72.973%\" x=\"27.027%\" y=\"48px\"><defs /><svg width=\"100%\" x=\"0\" y=\"0px\"><defs /><text text-anchor=\"middle\" x=\"50%\" y=\"16px\">PP</text></svg><svg width=\"48.1481%\" x=\"0%\" y=\"48px\"><defs /><svg width=\"100%\" x=\"0\" y=\"0px\"><defs /><text text-anchor=\"middle\" x=\"50%\" y=\"16px\">Preposition</text></svg><svg width=\"100%\" x=\"0%\" y=\"48px\"><defs /><svg width=\"100%\" x=\"0\" y=\"0px\"><defs /><text text-anchor=\"middle\" x=\"50%\" y=\"16px\">in</text></svg></svg><line stroke=\"black\" x1=\"50%\" x2=\"50%\" y1=\"19.2px\" y2=\"48px\" /></svg><line stroke=\"black\" x1=\"50%\" x2=\"24.0741%\" y1=\"19.2px\" y2=\"48px\" /><svg width=\"51.8519%\" x=\"48.1481%\" y=\"48px\"><defs /><svg width=\"100%\" x=\"0\" y=\"0px\"><defs /><text text-anchor=\"middle\" x=\"50%\" y=\"16px\">NP</text></svg><svg width=\"35.7143%\" x=\"0%\" y=\"48px\"><defs /><svg width=\"100%\" x=\"0\" y=\"0px\"><defs /><text text-anchor=\"middle\" x=\"50%\" y=\"16px\">Det</text></svg><svg width=\"100%\" x=\"0%\" y=\"48px\"><defs /><svg width=\"100%\" x=\"0\" y=\"0px\"><defs /><text text-anchor=\"middle\" x=\"50%\" y=\"16px\">my</text></svg></svg><line stroke=\"black\" x1=\"50%\" x2=\"50%\" y1=\"19.2px\" y2=\"48px\" /></svg><line stroke=\"black\" x1=\"50%\" x2=\"17.8571%\" y1=\"19.2px\" y2=\"48px\" /><svg width=\"64.2857%\" x=\"35.7143%\" y=\"48px\"><defs /><svg width=\"100%\" x=\"0\" y=\"0px\"><defs /><text text-anchor=\"middle\" x=\"50%\" y=\"16px\">Nominal</text></svg><svg width=\"100%\" x=\"0%\" y=\"48px\"><defs /><svg width=\"100%\" x=\"0\" y=\"0px\"><defs /><text text-anchor=\"middle\" x=\"50%\" y=\"16px\">pajamas</text></svg></svg><line stroke=\"black\" x1=\"50%\" x2=\"50%\" y1=\"19.2px\" y2=\"48px\" /></svg><line stroke=\"black\" x1=\"50%\" x2=\"67.8571%\" y1=\"19.2px\" y2=\"48px\" /></svg><line stroke=\"black\" x1=\"50%\" x2=\"74.0741%\" y1=\"19.2px\" y2=\"48px\" /></svg><line stroke=\"black\" x1=\"50%\" x2=\"63.5135%\" y1=\"19.2px\" y2=\"48px\" /></svg><line stroke=\"black\" x1=\"50%\" x2=\"55.9524%\" y1=\"19.2px\" y2=\"48px\" /></svg><line stroke=\"black\" x1=\"50%\" x2=\"56.25%\" y1=\"19.2px\" y2=\"48px\" /></svg><line stroke=\"black\" x1=\"50%\" x2=\"53.8462%\" y1=\"19.2px\" y2=\"48px\" /></svg>"
          },
          "metadata": {}
        }
      ],
      "source": [
        "import nltk\n",
        "\n",
        "#since last class I discovered this nifty way of defining the grammar\n",
        "#that doesn't involve all the nltk.Production and nltk.Nonterminal objects\n",
        "grammar = nltk.CFG.fromstring(\"\"\"\n",
        "    S -> NP VP\n",
        "    NP -> Det Nominal\n",
        "    NP ->  'me' | 'I' | 'you' | 'it'\n",
        "    NP -> Nominal Noun | Nominal PP\n",
        "    NP -> 'flights' | 'flight' | 'breeze' | 'trip' | 'morning' | 'elephant' | 'pajamas'\n",
        "    Nominal -> Nominal Noun | Nominal PP\n",
        "    Nominal -> 'flights' | 'flight' | 'breeze' | 'trip' | 'morning' | 'elephant' | 'pajamas'\n",
        "    VP -> Verb NP | X PP | Verb PP\n",
        "    X -> Verb NP\n",
        "    PP -> Preposition NP\n",
        "    Det -> 'a' | 'an' | 'the' | 'this' | 'that' | 'my'\n",
        "    Pronoun -> 'me' | 'I' | 'you' | 'it'\n",
        "    Noun -> 'flights' | 'flight' | 'breeze' | 'trip' | 'morning' | 'elephant' | 'pajamas'\n",
        "    Verb -> 'is' | 'prefer' | 'like' | 'need' | 'want' | 'fly' | 'do' | 'shot'\n",
        "    Preposition -> 'from' | 'to' | 'on' | 'near' | 'in'\n",
        "    \"\"\")\n",
        "\n",
        "parser = nltk.ChartParser(grammar)\n",
        "sentence = \"I shot an elephant in my pajamas\".split()\n",
        "for tree in parser.parse(sentence):\n",
        "    display(tree)"
      ]
    },
    {
      "cell_type": "markdown",
      "metadata": {
        "id": "hmJLM-a1eP3A"
      },
      "source": [
        "## Group Exercise\n",
        "\n",
        "Parse the sentence \"I need a morning flight\" by hand\n",
        "\n",
        "<table>\n",
        "  <tr>\n",
        "    <td style=\"text-align: right;\"><em>S</em></td>\n",
        "    <td style=\"text-align: center;\">&rarr;</td>\n",
        "    <td style=\"text-align: left;\"><em>NP</em> <em>VP</em></td>\n",
        "  </tr>\n",
        "  <tr>\n",
        "    <td style=\"text-align: right;\"><em>NP</em></td>\n",
        "    <td style=\"text-align: center;\">&rarr;</td>\n",
        "    <td style=\"text-align: left;\"><em>Det</em> <em>Nominal</em> |</td>\n",
        "  </tr>\n",
        "  <tr>\n",
        "    <td style=\"text-align: right;\"><em></em></td>\n",
        "    <td style=\"text-align: center;\"></td>\n",
        "    <td style=\"text-align: left;\">| <code>me</code> | <code>I</code> | <code>you</code> | <code>it</code> | ...</td>\n",
        "  </tr>\n",
        "    <tr>\n",
        "    <td style=\"text-align: right;\"><em></em></td>\n",
        "    <td style=\"text-align: center;\"></td>\n",
        "    <td style=\"text-align: left;\">| <em>Nominal</em> <em>Noun</em> | <em>Nominal</em> <em>PP</em></td>\n",
        "  </tr>\n",
        "  <tr>\n",
        "    <td style=\"text-align: right;\"><em></em></td>\n",
        "    <td style=\"text-align: center;\"></td>\n",
        "    <td style=\"text-align: left;\">| <code>flights</code> | <code>flight</code> | <code>breeze</code> | <code>trip</code> | <code>morning</code> | <code>elephant</code> | <code>pajamas</code> | ...</td>\n",
        "  </tr>\n",
        "  <tr>\n",
        "    <td style=\"text-align: right;\"><em>Nominal</em></td>\n",
        "    <td style=\"text-align: center;\">&rarr;</td>\n",
        "      <td style=\"text-align: left;\"><em>Nominal</em> <em>Noun</em> | <em>Nominal</em> <em>PP</em></td>\n",
        "  </tr>\n",
        "  <tr>\n",
        "    <td style=\"text-align: right;\"><em></em></td>\n",
        "    <td style=\"text-align: center;\"></td>\n",
        "      <td style=\"text-align: left;\">| <code>flights</code> | <code>flight</code> | <code>breeze</code> | <code>trip</code> | <code>morning</code> | <code>elephant</code> | <code>pajamas</code> | ...</td>\n",
        "  </tr>\n",
        "  <tr>\n",
        "    <td style=\"text-align: right;\"><em>VP</em></td>\n",
        "    <td style=\"text-align: center;\">&rarr;</td>\n",
        "    <td style=\"text-align: left;\"><em>Verb</em> <em>NP</em> | <em>X</em> <em>PP</em> | <em>Verb</em> <em>PP</em></td>\n",
        "  </tr>\n",
        "  <tr>\n",
        "    <td style=\"text-align: right;\"><em>X</em></td>\n",
        "    <td style=\"text-align: center;\">&rarr;</td>\n",
        "    <td style=\"text-align: left;\"><em>Verb</em> <em>NP</em></td>\n",
        "  </tr>\n",
        "  <tr>\n",
        "    <td style=\"text-align: right;\"><em>PP</em></td>\n",
        "    <td style=\"text-align: center;\">&rarr;</td>\n",
        "    <td style=\"text-align: left;\"><em>Preposition</em> <em>NP</em></td>\n",
        "  </tr>\n",
        "  <tr>\n",
        "    <td style=\"text-align: right;\"><em>Det</em></td>\n",
        "    <td style=\"text-align: center;\">&rarr;</td>\n",
        "    <td style=\"text-align: left;\"><code>a</code> | <code>an</code> | <code>the</code> | <code>this</code> | <code>that</code> | <code>my</code> | ...</td>\n",
        "  </tr>\n",
        "  <tr>\n",
        "    <td style=\"text-align: right;\"><em>Pronoun</em></td>\n",
        "    <td style=\"text-align: center;\">&rarr;</td>\n",
        "    <td style=\"text-align: left;\"><code>me</code> | <code>I</code> | <code>you</code> | <code>it</code> | ...</td>\n",
        "  </tr>\n",
        "  <tr>\n",
        "    <td style=\"text-align: right;\"><em>Noun</em></td>\n",
        "    <td style=\"text-align: center;\">&rarr;</td>\n",
        "    <td style=\"text-align: left;\"><code>flights</code> | <code>flight</code> | <code>breeze</code> | <code>trip</code> | <code>morning</code> | <code>elephant</code> | <code>pajamas</code> | ...</td>\n",
        "  </tr>\n",
        "  <tr>\n",
        "    <td style=\"text-align: right;\"><em>Verb</em></td>\n",
        "    <td style=\"text-align: center;\">&rarr;</td>\n",
        "    <td style=\"text-align: left;\"><code>is</code> | <code>prefer</code> | <code>like</code> | <code>need</code> | <code>want</code> | <code>fly</code> | <code>do</code> | <code>shot</code> | ...</td>\n",
        "  </tr>\n",
        "  <tr>\n",
        "    <td style=\"text-align: right;\"><em>Preposition</em></td>\n",
        "    <td style=\"text-align: center;\">&rarr;</td>\n",
        "    <td style=\"text-align: left;\"><code>from</code> | <code>to</code> | <code>on</code> | <code>near</code> | <code>in</code> | ...</td>\n",
        "  </tr>\n",
        "</table>"
      ]
    },
    {
      "cell_type": "markdown",
      "metadata": {
        "id": "LWiwfh41eP3A"
      },
      "source": [
        "## Applied Exploration\n",
        "\n",
        "Come up with a sentence that is structurally different that the examples and exercises we've done so far.\n",
        "* Work out the CKY chart by hand - take a photo and attach it with your portfolio\n",
        "* Compare the hand-computed trees against what `nltk.ChartParser` produces\n",
        "* Describe: do they match?\n",
        "\n",
        "Feel free to add rules to the grammar, especially to increase the vobulary."
      ]
    },
    {
      "cell_type": "markdown",
      "metadata": {
        "id": "04GGxYqSeP3B"
      },
      "source": [
        "## Creative Synthesis Ideas\n",
        "\n",
        "Recall: This is the code for inferring the Penn Treebank Grammar\n",
        "\n",
        "One problem - this grammar has a limited vocabulary.\n",
        "* Note: I had to sub a word for `pajamas`\n",
        "\n",
        "Another problem - this may take a while to run\n",
        "* I suspect that it could be improved by only including the\n",
        "  <tr>\n",
        "    <td style=\"text-align: right;\"><em>A</em></td>\n",
        "    <td style=\"text-align: center;\">&rarr;</td>\n",
        "    <td style=\"text-align: left;\"><code>terminal</code></td>\n",
        "  </tr>\n",
        "rules for words that are actually in the sentence you're parsing.\n",
        "\n",
        "Ideas\n",
        "* Make the parts-of-speech the terminals and to POS-tagging before parsing\n",
        "* Use WordNet to get the list of possible parts-of-speech for each word, and include rules only for those\n",
        "* You will need to edit the grammar or only include productions without terminals - will need some exploration"
      ]
    },
    {
      "cell_type": "code",
      "execution_count": null,
      "metadata": {
        "id": "1vARFpO2eP3B"
      },
      "outputs": [],
      "source": [
        "import nltk\n",
        "from nltk.corpus import treebank\n",
        "\n",
        "# Download the Penn Treebank corpus\n",
        "#nltk.download('treebank')\n",
        "\n",
        "# Extract and prepare treebank sentences\n",
        "treebank_sents = treebank.parsed_sents()\n",
        "\n",
        "# go through each parsed sentence and put its production\n",
        "# into a big list of productions\n",
        "productions = []\n",
        "for sent in treebank.parsed_sents():\n",
        "    for curr_production in sent.productions():\n",
        "        productions.append( curr_production )\n",
        "\n",
        "treebank_grammar = nltk.CFG(nltk.Nonterminal('S'), productions)\n",
        "\n",
        "parser = nltk.ChartParser(treebank_grammar)\n",
        "sentence = \"I shot an elephant in my car\".split()\n",
        "for tree in parser.parse(sentence):\n",
        "    display(tree)"
      ]
    }
  ],
  "metadata": {
    "celltoolbar": "Slideshow",
    "colab": {
      "provenance": []
    },
    "kernelspec": {
      "display_name": "Python 3 (ipykernel)",
      "language": "python",
      "name": "python3"
    },
    "language_info": {
      "codemirror_mode": {
        "name": "ipython",
        "version": 3
      },
      "file_extension": ".py",
      "mimetype": "text/x-python",
      "name": "python",
      "nbconvert_exporter": "python",
      "pygments_lexer": "ipython3",
      "version": "3.10.6"
    }
  },
  "nbformat": 4,
  "nbformat_minor": 0
}
