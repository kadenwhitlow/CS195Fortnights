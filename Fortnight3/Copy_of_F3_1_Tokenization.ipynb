{
  "cells": [
    {
      "cell_type": "markdown",
      "metadata": {
        "id": "C192SOmJS6lw"
      },
      "source": [
        "# CS 195: Natural Language Processing\n",
        "## Tokenization\n",
        "\n",
        "[![Open In Colab](https://colab.research.google.com/assets/colab-badge.svg)](https://colab.research.google.com/github/ericmanley/f23-CS195NLP/blob/main/F3_1_Tokenization.ipynb)\n"
      ]
    },
    {
      "cell_type": "markdown",
      "metadata": {
        "id": "fqzor2cVTPEk"
      },
      "source": [
        "## References\n",
        "\n",
        "Python `requests` library quickstart: https://requests.readthedocs.io/en/latest/user/quickstart/\n",
        "\n",
        "Beautiful Soup documentation: https://www.crummy.com/software/BeautifulSoup/bs4/doc/\n",
        "\n",
        "GPT Tokenizer Illustration: https://platform.openai.com/tokenizer\n",
        "\n",
        "Python `split` method: https://docs.python.org/3/library/stdtypes.html#str.split\n",
        "\n",
        "Hugging Face Byte-Pair Encoding tokenization: https://huggingface.co/learn/nlp-course/chapter6/5?fw=pt\n",
        "\n",
        "Hugging Face WordPiece tokenization: https://huggingface.co/learn/nlp-course/chapter6/6?fw=pt"
      ]
    },
    {
      "cell_type": "code",
      "execution_count": null,
      "metadata": {
        "id": "ZOwVZ895TPEl",
        "outputId": "5e0439dc-152f-448e-84dd-8b7d1917a02c",
        "colab": {
          "base_uri": "https://localhost:8080/"
        }
      },
      "outputs": [
        {
          "output_type": "stream",
          "name": "stdout",
          "text": [
            "Requirement already satisfied: requests in /usr/local/lib/python3.10/dist-packages (2.31.0)\n",
            "Requirement already satisfied: chardet in /usr/local/lib/python3.10/dist-packages (5.2.0)\n",
            "Requirement already satisfied: nltk in /usr/local/lib/python3.10/dist-packages (3.8.1)\n",
            "Requirement already satisfied: beautifulsoup4 in /usr/local/lib/python3.10/dist-packages (4.11.2)\n",
            "Collecting tokenizers\n",
            "  Downloading tokenizers-0.14.0-cp310-cp310-manylinux_2_17_x86_64.manylinux2014_x86_64.whl (3.8 MB)\n",
            "\u001b[2K     \u001b[90m━━━━━━━━━━━━━━━━━━━━━━━━━━━━━━━━━━━━━━━━\u001b[0m \u001b[32m3.8/3.8 MB\u001b[0m \u001b[31m19.1 MB/s\u001b[0m eta \u001b[36m0:00:00\u001b[0m\n",
            "\u001b[?25hCollecting transformers\n",
            "  Downloading transformers-4.33.2-py3-none-any.whl (7.6 MB)\n",
            "\u001b[2K     \u001b[90m━━━━━━━━━━━━━━━━━━━━━━━━━━━━━━━━━━━━━━━━\u001b[0m \u001b[32m7.6/7.6 MB\u001b[0m \u001b[31m59.3 MB/s\u001b[0m eta \u001b[36m0:00:00\u001b[0m\n",
            "\u001b[?25hRequirement already satisfied: charset-normalizer<4,>=2 in /usr/local/lib/python3.10/dist-packages (from requests) (3.2.0)\n",
            "Requirement already satisfied: idna<4,>=2.5 in /usr/local/lib/python3.10/dist-packages (from requests) (3.4)\n",
            "Requirement already satisfied: urllib3<3,>=1.21.1 in /usr/local/lib/python3.10/dist-packages (from requests) (2.0.4)\n",
            "Requirement already satisfied: certifi>=2017.4.17 in /usr/local/lib/python3.10/dist-packages (from requests) (2023.7.22)\n",
            "Requirement already satisfied: click in /usr/local/lib/python3.10/dist-packages (from nltk) (8.1.7)\n",
            "Requirement already satisfied: joblib in /usr/local/lib/python3.10/dist-packages (from nltk) (1.3.2)\n",
            "Requirement already satisfied: regex>=2021.8.3 in /usr/local/lib/python3.10/dist-packages (from nltk) (2023.6.3)\n",
            "Requirement already satisfied: tqdm in /usr/local/lib/python3.10/dist-packages (from nltk) (4.66.1)\n",
            "Requirement already satisfied: soupsieve>1.2 in /usr/local/lib/python3.10/dist-packages (from beautifulsoup4) (2.5)\n",
            "Collecting huggingface_hub<0.17,>=0.16.4 (from tokenizers)\n",
            "  Downloading huggingface_hub-0.16.4-py3-none-any.whl (268 kB)\n",
            "\u001b[2K     \u001b[90m━━━━━━━━━━━━━━━━━━━━━━━━━━━━━━━━━━━━━━\u001b[0m \u001b[32m268.8/268.8 kB\u001b[0m \u001b[31m30.0 MB/s\u001b[0m eta \u001b[36m0:00:00\u001b[0m\n",
            "\u001b[?25hRequirement already satisfied: filelock in /usr/local/lib/python3.10/dist-packages (from transformers) (3.12.2)\n",
            "Requirement already satisfied: numpy>=1.17 in /usr/local/lib/python3.10/dist-packages (from transformers) (1.23.5)\n",
            "Requirement already satisfied: packaging>=20.0 in /usr/local/lib/python3.10/dist-packages (from transformers) (23.1)\n",
            "Requirement already satisfied: pyyaml>=5.1 in /usr/local/lib/python3.10/dist-packages (from transformers) (6.0.1)\n",
            "Collecting tokenizers\n",
            "  Downloading tokenizers-0.13.3-cp310-cp310-manylinux_2_17_x86_64.manylinux2014_x86_64.whl (7.8 MB)\n",
            "\u001b[2K     \u001b[90m━━━━━━━━━━━━━━━━━━━━━━━━━━━━━━━━━━━━━━━━\u001b[0m \u001b[32m7.8/7.8 MB\u001b[0m \u001b[31m87.7 MB/s\u001b[0m eta \u001b[36m0:00:00\u001b[0m\n",
            "\u001b[?25hCollecting safetensors>=0.3.1 (from transformers)\n",
            "  Downloading safetensors-0.3.3-cp310-cp310-manylinux_2_17_x86_64.manylinux2014_x86_64.whl (1.3 MB)\n",
            "\u001b[2K     \u001b[90m━━━━━━━━━━━━━━━━━━━━━━━━━━━━━━━━━━━━━━━━\u001b[0m \u001b[32m1.3/1.3 MB\u001b[0m \u001b[31m58.0 MB/s\u001b[0m eta \u001b[36m0:00:00\u001b[0m\n",
            "\u001b[?25hRequirement already satisfied: fsspec in /usr/local/lib/python3.10/dist-packages (from huggingface_hub<0.17,>=0.16.4->tokenizers) (2023.6.0)\n",
            "Requirement already satisfied: typing-extensions>=3.7.4.3 in /usr/local/lib/python3.10/dist-packages (from huggingface_hub<0.17,>=0.16.4->tokenizers) (4.5.0)\n",
            "Installing collected packages: tokenizers, safetensors, huggingface_hub, transformers\n",
            "Successfully installed huggingface_hub-0.16.4 safetensors-0.3.3 tokenizers-0.13.3 transformers-4.33.2\n"
          ]
        }
      ],
      "source": [
        "import sys\n",
        "!{sys.executable} -m pip install requests chardet nltk beautifulsoup4 tokenizers transformers"
      ]
    },
    {
      "cell_type": "code",
      "execution_count": null,
      "metadata": {
        "id": "mHqQUoshTPEm"
      },
      "outputs": [],
      "source": [
        "#you shouldn't need to do this in Colab, but I had to do it on my own machine\n",
        "#in order to connect to the nltk service\n",
        "import nltk\n",
        "import ssl\n",
        "\n",
        "try:\n",
        "    _create_unverified_https_context = ssl._create_unverified_context\n",
        "except AttributeError:\n",
        "    pass\n",
        "else:\n",
        "    ssl._create_default_https_context = _create_unverified_https_context\n"
      ]
    },
    {
      "cell_type": "markdown",
      "metadata": {
        "id": "QSBcp-27TPEm"
      },
      "source": [
        "## Tokenization\n",
        "\n",
        "Before you can feed input into most NLP algorithms, you have to **tokenize** the text - break apart the string into units (the *tokens*) that the algorithm needs to work with.\n",
        "\n",
        "A set of tokens can be\n",
        "* letter\n",
        "* words\n",
        "* a mix of words and punctuation\n",
        "* parts of words\n",
        "\n",
        "See how GPT tokenizes here: https://platform.openai.com/tokenizer\n",
        "\n",
        "It can be accomplished with *rule-based* methods or automatically learned.\n",
        "\n",
        "As we saw previously, the Python string `split` method can be very useful for rule-based methods:\n",
        "* if you give it a parameter, it will break up the string using that delimiter\n",
        "* if you don't it separates by whitespace"
      ]
    },
    {
      "cell_type": "code",
      "execution_count": null,
      "metadata": {
        "id": "wTl0wQZgTPEn",
        "outputId": "f08c95f1-0bf9-4fbf-d71c-9f5610221a98",
        "colab": {
          "base_uri": "https://localhost:8080/"
        }
      },
      "outputs": [
        {
          "output_type": "stream",
          "name": "stdout",
          "text": [
            "['I', 'code', 'when', 'I', 'am', 'happy', '.', 'I', 'am', 'happy', 'therefore', 'I', 'code', '.']\n"
          ]
        }
      ],
      "source": [
        "text = \"I code when I am happy . I am happy therefore I code . \"\n",
        "text_tokens = text.split()\n",
        "\n",
        "print(text_tokens)"
      ]
    },
    {
      "cell_type": "code",
      "execution_count": null,
      "metadata": {
        "id": "xI8BN0f4TPEn",
        "outputId": "5f4cac34-3acf-4653-b48f-7dc261f78f81",
        "colab": {
          "base_uri": "https://localhost:8080/"
        }
      },
      "outputs": [
        {
          "output_type": "stream",
          "name": "stdout",
          "text": [
            "['', ' code when ', ' am happy . ', ' am happy therefore ', ' code . ']\n"
          ]
        }
      ],
      "source": [
        "text = \"I code when I am happy . I am happy therefore I code . \"\n",
        "text_tokens = text.split(\"I\") #you probably don't want to do this\n",
        "\n",
        "print(text_tokens)"
      ]
    },
    {
      "cell_type": "markdown",
      "metadata": {
        "id": "J0mJUqpVTPEo"
      },
      "source": [
        "## The requests library\n",
        "\n",
        "The `requests` library is useful for loading data stored on the web.\n",
        "\n",
        "Here's how we can request the text version of *The Adventures of Sherlock Holmes* from Project Gutenberg: https://www.gutenberg.org/ebooks/1661\n"
      ]
    },
    {
      "cell_type": "code",
      "execution_count": null,
      "metadata": {
        "id": "LDTIoxWqTPEp",
        "outputId": "a082e695-73ab-4756-d369-1b4618bef309",
        "colab": {
          "base_uri": "https://localhost:8080/"
        }
      },
      "outputs": [
        {
          "output_type": "stream",
          "name": "stdout",
          "text": [
            "<Response [200]>\n",
            "{'date': 'Tue, 26 Sep 2023 21:05:13 GMT', 'server': 'Apache', 'last-modified': 'Wed, 09 Jun 2021 16:45:05 GMT', 'accept-ranges': 'bytes', 'content-length': '607430', 'content-type': 'text/plain'}\n"
          ]
        }
      ],
      "source": [
        "import requests\n",
        "\n",
        "response = requests.get(\"https://www.gutenberg.org/files/1661/1661-0.txt\")\n",
        "\n",
        "print(response)\n",
        "print(response.headers)"
      ]
    },
    {
      "cell_type": "markdown",
      "metadata": {
        "id": "gS0-zG30TPEp"
      },
      "source": [
        "A response code of 200 means it worked, and we can look at some of the other metadata that came back with it with `.headers`\n",
        "\n",
        "Now let's look at what some of this text looks like:"
      ]
    },
    {
      "cell_type": "code",
      "execution_count": null,
      "metadata": {
        "id": "s2D7NBkRTPEq",
        "outputId": "7f5566d9-147b-4009-e642-bacdd5625e5e",
        "colab": {
          "base_uri": "https://localhost:8080/"
        }
      },
      "outputs": [
        {
          "output_type": "stream",
          "name": "stdout",
          "text": [
            " my former friend and companion.\r\n",
            "\r\n",
            "One nightâit was on the twentieth of March, 1888âI was returning from a\r\n",
            "journey to a patient (for I had now returned to civil practice), when\r\n",
            "my way led me through Baker Street. As I passed the well-remembered\r\n",
            "door, which must always be associated in my mind with my wooing, and\r\n",
            "with the dark incidents of the Study in Scarlet, I was seized with a\r\n",
            "keen desire to see Holmes again, and to know how he was employing his\r\n",
            "extraordinary powers. His rooms were brilliantly lit, and, even as I\r\n",
            "looked up, I saw his tall, spare figure pass twice in a dark silhouette\r\n",
            "against the blind. He was pacing the room swiftly, eagerly, with his\r\n",
            "head sunk upon his chest and his hands clasped behind him. To me, who\r\n",
            "knew his every mood and habit, his attitude and manner told their own\r\n",
            "story. He was at work again. He had risen out of his drug-created\r\n",
            "dreams and was hot upon the scent of some new problem. I rang the bell\r\n",
            "and was shown up to the chamber which had formerly been in part my own.\r\n",
            "\r\n",
            "His manner was not effusive. It seldom was; but he was glad, I think,\r\n",
            "to see me. With hardly a word spoken, but with a kindly eye, he waved\r\n",
            "me to an armchair, threw across his case of cigars, and indicated a\r\n",
            "spirit case and a gasogene in the corner. Then he stood before the fire\r\n",
            "and looked me over in his singular introspective fashion.\r\n",
            "\r\n",
            "âWedlock suits you,â he remarked. âI think, Watson, that you have put\r\n",
            "on seven and a half pounds since I saw you.â\r\n",
            "\r\n",
            "âSeven!â I answered.\r\n",
            "\r\n",
            "âIndeed, I should have thought a little more. Just a trifle more, I\r\n",
            "fancy, Watson. And in practice again, I observe. You did not tell me\r\n",
            "that you intended to go into harness.â\r\n",
            "\r\n",
            "âThen, how do you know?â\r\n",
            "\r\n",
            "âI see it, I deduce it. How do I know that you have been getting\r\n",
            "yourself very wet lately, and that you have a most clumsy and careless\r\n",
            "servant girl?â\r\n",
            "\r\n",
            "âMy dear Holmes,â said I, âthis is too much. You would certainly have\r\n",
            "been burned, \n"
          ]
        }
      ],
      "source": [
        "#print(response.text) #uncomment to print the whole thing\n",
        "print(response.text[4000:6000]) #printing a sample of some text in the middle"
      ]
    },
    {
      "cell_type": "markdown",
      "metadata": {
        "id": "uXnNl09JTPEq"
      },
      "source": [
        "Notice: There are a lot of weird characters like â - if this looks different than what you see when you open the file, it means something went wrong.\n",
        "\n",
        "Usually, the `response` library can figure out the format that the characters are stored in, and that's what `response.text` does - it assumed these were the [ISO-8859-1](https://en.wikipedia.org/wiki/ISO/IEC_8859-1) encoding, but that's not quite right.\n"
      ]
    },
    {
      "cell_type": "code",
      "execution_count": null,
      "metadata": {
        "id": "GAbZHgu3TPEq",
        "outputId": "c02759ce-dcec-44ed-af5f-15b762484828",
        "colab": {
          "base_uri": "https://localhost:8080/"
        }
      },
      "outputs": [
        {
          "output_type": "stream",
          "name": "stdout",
          "text": [
            "ISO-8859-1\n"
          ]
        }
      ],
      "source": [
        "print(response.encoding)"
      ]
    },
    {
      "cell_type": "markdown",
      "metadata": {
        "id": "SRGHj3kfTPEq"
      },
      "source": [
        "Let's see what the requests module documentation suggests: https://requests.readthedocs.io/en/latest/user/quickstart/#response-content\n",
        "\n",
        "look for clues by looking at `response.content`, which will show the text in it's more raw form:"
      ]
    },
    {
      "cell_type": "code",
      "execution_count": null,
      "metadata": {
        "id": "tOIVk-oDTPEq",
        "outputId": "b7487f50-eecd-4ac4-db2c-078a9f31220f",
        "colab": {
          "base_uri": "https://localhost:8080/"
        }
      },
      "outputs": [
        {
          "output_type": "stream",
          "name": "stdout",
          "text": [
            "b' my former friend and companion.\\r\\n\\r\\nOne night\\xe2\\x80\\x94it was on the twentieth of March, 1888\\xe2\\x80\\x94I was returning from a\\r\\njourney to a patient (for I had now returned to civil practice), when\\r\\nmy way led me through Baker Street. As I passed the well-remembered\\r\\ndoor, which must always be associated in my mind with my wooing, and\\r\\nwith the dark incidents of the Study in Scarlet, I was seized with a\\r\\nkeen desire to see Holmes again, and to know how he was employing his\\r\\nextraordinary powers. His rooms were brilliantly lit, and, even as I\\r\\nlooked up, I saw his tall, spare figure pass twice in a dark silhouette\\r\\nagainst the blind. He was pacing the room swiftly, eagerly, with his\\r\\nhead sunk upon his chest and his hands clasped behind him. To me, who\\r\\nknew his every mood and habit, his attitude and manner told their own\\r\\nstory. He was at work again. He had risen out of his drug-created\\r\\ndreams and was hot upon the scent of some new problem. I rang the bell\\r\\nand was shown up to the chamber which had formerly been in part my own.\\r\\n\\r\\nHis manner was not effusive. It seldom was; but he was glad, I think,\\r\\nto see me. With hardly a word spoken, but with a kindly eye, he waved\\r\\nme to an armchair, threw across his case of cigars, and indicated a\\r\\nspirit case and a gasogene in the corner. Then he stood before the fire\\r\\nand looked me over in his singular introspective fashion.\\r\\n\\r\\n\\xe2\\x80\\x9cWedlock suits you,\\xe2\\x80\\x9d he remarked. \\xe2\\x80\\x9cI think, Watson, that you have put\\r\\non seven and a half pounds since I saw you.\\xe2\\x80\\x9d\\r\\n\\r\\n\\xe2\\x80\\x9cSeven!\\xe2\\x80\\x9d I answered.\\r\\n\\r\\n\\xe2\\x80\\x9cIndeed, I should have thought a little more. Just a trifle more, I\\r\\nfancy, Watson. And in practice again, I observe. You did not tell me\\r\\nthat you intended to go into harness.\\xe2\\x80\\x9d\\r\\n\\r\\n\\xe2\\x80\\x9cThen, how do you know?\\xe2\\x80\\x9d\\r\\n\\r\\n\\xe2\\x80\\x9cI see it, I deduce it. How do I know that you have been getting\\r\\nyourself very wet lately, and that you have a most clumsy and careless\\r\\nservant girl?\\xe2\\x80\\x9d\\r\\n\\r\\n\\xe2\\x80\\x9cMy dear Holmes,\\xe2\\x80\\x9d said I, \\xe2\\x80\\x9cthis is too much. You would certainly have\\r\\nbeen burned, '\n"
          ]
        }
      ],
      "source": [
        "#print(response.content)\n",
        "print(response.content[4000:6000])"
      ]
    },
    {
      "cell_type": "markdown",
      "metadata": {
        "id": "fIriPWpnTPEr"
      },
      "source": [
        "One thing to notice: newlines are represented as `\\r\\n` rather than the usual `\\n` - that will be important later, so remember it\n",
        "\n",
        "Now we can use a module like `chardet` to detect the encoding"
      ]
    },
    {
      "cell_type": "code",
      "execution_count": null,
      "metadata": {
        "id": "XitH23dnTPEr",
        "outputId": "13c47395-790a-4d7c-91ec-c3a54d3541da",
        "colab": {
          "base_uri": "https://localhost:8080/"
        }
      },
      "outputs": [
        {
          "output_type": "stream",
          "name": "stdout",
          "text": [
            "{'encoding': 'UTF-8-SIG', 'confidence': 1.0, 'language': ''}\n"
          ]
        }
      ],
      "source": [
        "import chardet\n",
        "\n",
        "\n",
        "encoding_info = chardet.detect(response.content)\n",
        "print(encoding_info)"
      ]
    },
    {
      "cell_type": "markdown",
      "metadata": {
        "id": "lz7J-fw-TPEr"
      },
      "source": [
        "Looks like it is actuall a variant of the popular encoding [UTF-8](https://en.wikipedia.org/wiki/UTF-8)\n",
        "\n",
        "and now we can set the encoding to match"
      ]
    },
    {
      "cell_type": "code",
      "execution_count": null,
      "metadata": {
        "id": "Mn-MON6fTPEs",
        "outputId": "8f0b80ee-59c6-4d59-c412-132f79fdfce7",
        "colab": {
          "base_uri": "https://localhost:8080/"
        }
      },
      "outputs": [
        {
          "output_type": "stream",
          "name": "stdout",
          "text": [
            "r friend and companion.\r\n",
            "\r\n",
            "One night—it was on the twentieth of March, 1888—I was returning from a\r\n",
            "journey to a patient (for I had now returned to civil practice), when\r\n",
            "my way led me through Baker Street. As I passed the well-remembered\r\n",
            "door, which must always be associated in my mind with my wooing, and\r\n",
            "with the dark incidents of the Study in Scarlet, I was seized with a\r\n",
            "keen desire to see Holmes again, and to know how he was employing his\r\n",
            "extraordinary powers. His rooms were brilliantly lit, and, even as I\r\n",
            "looked up, I saw his tall, spare figure pass twice in a dark silhouette\r\n",
            "against the blind. He was pacing the room swiftly, eagerly, with his\r\n",
            "head sunk upon his chest and his hands clasped behind him. To me, who\r\n",
            "knew his every mood and habit, his attitude and manner told their own\r\n",
            "story. He was at work again. He had risen out of his drug-created\r\n",
            "dreams and was hot upon the scent of some new problem. I rang the bell\r\n",
            "and was shown up to the chamber which had formerly been in part my own.\r\n",
            "\r\n",
            "His manner was not effusive. It seldom was; but he was glad, I think,\r\n",
            "to see me. With hardly a word spoken, but with a kindly eye, he waved\r\n",
            "me to an armchair, threw across his case of cigars, and indicated a\r\n",
            "spirit case and a gasogene in the corner. Then he stood before the fire\r\n",
            "and looked me over in his singular introspective fashion.\r\n",
            "\r\n",
            "“Wedlock suits you,” he remarked. “I think, Watson, that you have put\r\n",
            "on seven and a half pounds since I saw you.”\r\n",
            "\r\n",
            "“Seven!” I answered.\r\n",
            "\r\n",
            "“Indeed, I should have thought a little more. Just a trifle more, I\r\n",
            "fancy, Watson. And in practice again, I observe. You did not tell me\r\n",
            "that you intended to go into harness.”\r\n",
            "\r\n",
            "“Then, how do you know?”\r\n",
            "\r\n",
            "“I see it, I deduce it. How do I know that you have been getting\r\n",
            "yourself very wet lately, and that you have a most clumsy and careless\r\n",
            "servant girl?”\r\n",
            "\r\n",
            "“My dear Holmes,” said I, “this is too much. You would certainly have\r\n",
            "been burned, had you lived a few centuries ago. It is tr\n"
          ]
        }
      ],
      "source": [
        "response.encoding = 'UTF-8-SIG'\n",
        "print(response.text[4000:6000])"
      ]
    },
    {
      "cell_type": "markdown",
      "metadata": {
        "id": "MV6hBS8STPEs"
      },
      "source": [
        "## Cutting to the content\n",
        "\n",
        "This ebook has markers showing where the actual content of the book start and stop, so we can cut out the Project Gutenberg preamble and license stuff at the end."
      ]
    },
    {
      "cell_type": "code",
      "execution_count": null,
      "metadata": {
        "id": "x3MuSQ8-TPEs",
        "outputId": "dc85d15e-0051-414a-c0cd-cff3f18d66eb",
        "colab": {
          "base_uri": "https://localhost:8080/"
        }
      },
      "outputs": [
        {
          "output_type": "stream",
          "name": "stdout",
          "text": [
            "Start and end index of the text 912 575060\n",
            "\r\n",
            "\r\n",
            "cover\r\n",
            "\r\n",
            "\r\n",
            "\r\n",
            "\r\n",
            "The Adventures of Sherlock Holmes\r\n",
            "\r\n",
            "by Arthur Conan Doyle\r\n",
            "\r\n",
            "\r\n",
            "Contents\r\n",
            "\r\n",
            "   I.     A Scandal in Bohemia\r\n",
            "   II.    The Red-Headed League\r\n",
            "   III.   A Case of Identity\r\n",
            "   IV.    The Boscombe Valley Mystery\r\n",
            "   V.     The Five Orange Pips\r\n",
            "   VI.    The Man with the Twisted Lip\r\n",
            "   VII.   The Adventure of the Blue Carbuncle\r\n",
            "   VIII.  The Adventure of the Speckled Band\r\n",
            "   IX.    The Adventure of the Engineer’s Thumb\r\n",
            "   X.     The Adventure of the Noble Bachelor\r\n",
            "   XI.    The Adventure of the Beryl Coronet\r\n",
            "   XII.   The Adventure of the Copper Beeches\r\n",
            "\r\n",
            "\r\n",
            "\r\n",
            "\r\n",
            "I. A SCANDAL IN BOHEMIA\r\n",
            "\r\n",
            "\r\n",
            "I.\r\n",
            "\r\n",
            "To Sherlock Holmes she is always _the_ woman. I have seldom heard him\r\n",
            "mention her under any other name. In his eyes she eclipses and\r\n",
            "predominates the whole of her sex. It was not that he felt any emotion\r\n",
            "akin to love for Irene Adler. All emotions, and that one particularly,\r\n",
            "were abhorrent to his cold, precise but admirably balanced mind. He\r\n",
            "was, I take it, the most p\n"
          ]
        }
      ],
      "source": [
        "start_text = \"*** START OF THE PROJECT GUTENBERG EBOOK THE ADVENTURES OF SHERLOCK HOLMES ***\"\n",
        "end_text = \"*** END OF THE PROJECT GUTENBERG EBOOK THE ADVENTURES OF SHERLOCK HOLMES ***\"\n",
        "start_index = response.text.index(start_text)+len(start_text)\n",
        "end_index = response.text.index(end_text)\n",
        "print(\"Start and end index of the text\",start_index,end_index)\n",
        "sherlock_text = response.text[start_index:end_index]\n",
        "#print(sherlock_text)\n",
        "print(sherlock_text[:1000])"
      ]
    },
    {
      "cell_type": "markdown",
      "metadata": {
        "id": "MhNp2qHhTPEt"
      },
      "source": [
        "## Now we're ready to tokenize\n",
        "\n",
        "A question we need to answer: what do we want our tokens to look like?\n",
        "\n",
        "Do we want to include punctuation? Should it be a separate token?\n",
        "\n",
        "Do we want it broken into letters? words? sentences?\n",
        "\n",
        "For this example, let's assume we want to keep punctuation but break it apart from the words it is next to.\n",
        "\n",
        "Unfortunately, a simple `.split()` won't do the trick - notice the periods are stuck to the words they're next to.\n",
        "\n"
      ]
    },
    {
      "cell_type": "code",
      "execution_count": null,
      "metadata": {
        "id": "swzvMfHyTPEt",
        "outputId": "54692ccf-439c-456b-fb32-4274f0f2dfcc",
        "colab": {
          "base_uri": "https://localhost:8080/"
        }
      },
      "outputs": [
        {
          "output_type": "stream",
          "name": "stdout",
          "text": [
            "['cover', 'The', 'Adventures', 'of', 'Sherlock', 'Holmes', 'by', 'Arthur', 'Conan', 'Doyle', 'Contents', 'I.', 'A', 'Scandal', 'in', 'Bohemia', 'II.', 'The', 'Red-Headed', 'League', 'III.', 'A', 'Case', 'of', 'Identity', 'IV.', 'The', 'Boscombe', 'Valley', 'Mystery', 'V.', 'The', 'Five', 'Orange', 'Pips', 'VI.', 'The', 'Man', 'with', 'the', 'Twisted', 'Lip', 'VII.', 'The', 'Adventure', 'of', 'the', 'Blue', 'Carbuncle', 'VIII.', 'The', 'Adventure', 'of', 'the', 'Speckled', 'Band', 'IX.', 'The', 'Adventure', 'of', 'the', 'Engineer’s', 'Thumb', 'X.', 'The', 'Adventure', 'of', 'the', 'Noble', 'Bachelor', 'XI.', 'The', 'Adventure', 'of', 'the', 'Beryl', 'Coronet', 'XII.', 'The', 'Adventure', 'of', 'the', 'Copper', 'Beeches', 'I.', 'A', 'SCANDAL', 'IN', 'BOHEMIA', 'I.', 'To', 'Sherlock', 'Holmes', 'she', 'is', 'always', '_the_', 'woman.', 'I', 'have', 'seldom', 'heard', 'him', 'mention', 'her', 'under', 'any', 'other', 'name.', 'In', 'his', 'eyes', 'she', 'eclipses', 'and', 'predominates', 'the', 'whole', 'of', 'her', 'sex.', 'It', 'was', 'not', 'that', 'he', 'felt', 'any', 'emotion', 'akin', 'to', 'love', 'for', 'Irene', 'Adler.', 'All', 'emotions,', 'and', 'that', 'one', 'particularly,', 'were', 'abhorrent', 'to', 'his', 'cold,', 'precise', 'but', 'admirably', 'balanced', 'mind.', 'He', 'was,', 'I', 'take', 'it,', 'the', 'most', 'p']\n"
          ]
        }
      ],
      "source": [
        "print(sherlock_text[:1000].split())"
      ]
    },
    {
      "cell_type": "markdown",
      "metadata": {
        "id": "rCkKZLWeTPEt"
      },
      "source": [
        "One strategy use the `replace` method to put spaces before and after the periods"
      ]
    },
    {
      "cell_type": "code",
      "execution_count": null,
      "metadata": {
        "id": "izg-8x4VTPEt",
        "outputId": "c0ffcc70-f138-49fb-eb6e-b8181849c3d5",
        "colab": {
          "base_uri": "https://localhost:8080/"
        }
      },
      "outputs": [
        {
          "output_type": "stream",
          "name": "stdout",
          "text": [
            "\r\n",
            "\r\n",
            "cover\r\n",
            "\r\n",
            "\r\n",
            "\r\n",
            "\r\n",
            "The Adventures of Sherlock Holmes\r\n",
            "\r\n",
            "by Arthur Conan Doyle\r\n",
            "\r\n",
            "\r\n",
            "Contents\r\n",
            "\r\n",
            "   I .      A Scandal in Bohemia\r\n",
            "   II .     The Red-Headed League\r\n",
            "   III .    A Case of Identity\r\n",
            "   IV .     The Boscombe Valley Mystery\r\n",
            "   V .      The Five Orange Pips\r\n",
            "   VI .     The Man with the Twisted Lip\r\n",
            "   VII .    The Adventure of the Blue Carbuncle\r\n",
            "   VIII .   The Adventure of the Speckled Band\r\n",
            "   IX .     The Adventure of the Engineer’s Thumb\r\n",
            "   X .      The Adventure of the Noble Bachelor\r\n",
            "   XI .     The Adventure of the Beryl Coronet\r\n",
            "   XII .    The Adventure of the Copper Beeches\r\n",
            "\r\n",
            "\r\n",
            "\r\n",
            "\r\n",
            "I .  A SCANDAL IN BOHEMIA\r\n",
            "\r\n",
            "\r\n",
            "I . \r\n",
            "\r\n",
            "To Sherlock Holmes she is always _the_ woman .  I have seldom heard him\r\n",
            "mention her under any other name .  In his eyes she eclipses and\r\n",
            "predominates the whole of her sex .  It was not that he felt any emotion\r\n",
            "akin to love for Irene Adler .  All emotions, and that one particularly,\r\n",
            "were abhorrent to his cold, precise but admirably balanced mind .  He\r\n",
            "was, I take it, the most p\n",
            "['cover', 'The', 'Adventures', 'of', 'Sherlock', 'Holmes', 'by', 'Arthur', 'Conan', 'Doyle', 'Contents', 'I', '.', 'A', 'Scandal', 'in', 'Bohemia', 'II', '.', 'The', 'Red-Headed', 'League', 'III', '.', 'A', 'Case', 'of', 'Identity', 'IV', '.', 'The', 'Boscombe', 'Valley', 'Mystery', 'V', '.', 'The', 'Five', 'Orange', 'Pips', 'VI', '.', 'The', 'Man', 'with', 'the', 'Twisted', 'Lip', 'VII', '.', 'The', 'Adventure', 'of', 'the', 'Blue', 'Carbuncle', 'VIII', '.', 'The', 'Adventure', 'of', 'the', 'Speckled', 'Band', 'IX', '.', 'The', 'Adventure', 'of', 'the', 'Engineer’s', 'Thumb', 'X', '.', 'The', 'Adventure', 'of', 'the', 'Noble', 'Bachelor', 'XI', '.', 'The', 'Adventure', 'of', 'the', 'Beryl', 'Coronet', 'XII', '.', 'The', 'Adventure', 'of', 'the', 'Copper', 'Beeches', 'I', '.', 'A', 'SCANDAL', 'IN', 'BOHEMIA', 'I', '.', 'To', 'Sherlock', 'Holmes', 'she', 'is', 'always', '_the_', 'woman', '.', 'I', 'have', 'seldom', 'heard', 'him', 'mention', 'her', 'under', 'any', 'other', 'name', '.', 'In', 'his', 'eyes', 'she', 'eclipses', 'and', 'predominates', 'the', 'whole', 'of', 'her', 'sex', '.', 'It', 'was', 'not', 'that', 'he', 'felt', 'any', 'emotion', 'akin', 'to', 'love', 'for', 'Irene', 'Adler', '.', 'All', 'emotions,', 'and', 'that', 'one', 'particularly,', 'were', 'abhorrent', 'to', 'his', 'cold,', 'precise', 'but', 'admirably', 'balanced', 'mind', '.', 'He', 'was,', 'I', 'take', 'it,', 'the', 'most', 'p']\n"
          ]
        }
      ],
      "source": [
        "example_strategy = sherlock_text[:1000].replace(\".\",\" . \")\n",
        "print(example_strategy)\n",
        "print(example_strategy.split()) #now . are separate tokens"
      ]
    },
    {
      "cell_type": "markdown",
      "metadata": {
        "id": "wUS_aOP1TPEt"
      },
      "source": [
        "OK - let's do the whole text and separate lots of other punctuation while we're at it"
      ]
    },
    {
      "cell_type": "code",
      "execution_count": null,
      "metadata": {
        "id": "onFljc7UTPEt",
        "outputId": "eb24ac8a-41ad-48a5-fab1-c414b58e49cf",
        "colab": {
          "base_uri": "https://localhost:8080/"
        }
      },
      "outputs": [
        {
          "output_type": "stream",
          "name": "stdout",
          "text": [
            "w his every mood and habit ,  his attitude and manner told their own\r\n",
            "story .  He was at work again .  He had risen out of his drug - created\r\n",
            "dreams and was hot upon the scent of some new problem .  I rang the bell\r\n",
            "and was shown up to the chamber which had formerly been in part my own . \r\n",
            "\r\n",
            "His manner was not effusive .  It seldom was ;  but he was glad ,  I think , \r\n",
            "to see me .  With hardly a word spoken ,  but with a kindly eye ,  he waved\r\n",
            "me to an armchair ,  threw across his case of cigars ,  and indicated a\r\n",
            "spirit case and a gasogene in the corner .  Then he stood before the fire\r\n",
            "and looked me over in his singular introspective fashion . \r\n",
            "\r\n",
            " “ Wedlock suits you ,  ”  he remarked .   “ I think ,  Watson ,  that you have put\r\n",
            "on seven and a half pounds since I saw you .  ” \r\n",
            "\r\n",
            " “ Seven !  ”  I answered . \r\n",
            "\r\n",
            " “ Indeed ,  I should have thought a little more .  Just a trifle more ,  I\r\n",
            "fancy ,  Watson .  And in practice again ,  I observe .  You did not tell me\r\n",
            "that you intended to go into harness .  ” \r\n",
            "\r\n",
            " “ Then ,  how do you know ?  ” \r\n",
            "\r\n",
            " “ I see it ,  I deduce it .  How do I know that you have been getting\r\n",
            "yourself very wet lately ,  and that you have a most clumsy and careless\r\n",
            "servant girl ?  ” \r\n",
            "\r\n",
            " “ My dear Holmes ,  ”  said I ,   “ this is too much .  You would certainly have\r\n",
            "been burned ,  had you lived a few centuries ago .  It is true that I had a\r\n",
            "country walk on Thursday and came home in a dreadful mess ,  but as I\r\n",
            "have changed my clothes I can ’ t imagine how you deduce it .  As to Mary\r\n",
            "Jane ,  she is incorrigible ,  and my wife has given her notice ,  but there , \r\n",
            "again ,  I fail to see how you work it out .  ” \r\n",
            "\r\n",
            "He chuckled to himself and rubbed his long ,  nervous hands together . \r\n",
            "\r\n",
            " “ It is simplicity itself ,  ”  said he ;   “ my eyes tell me that on the inside\r\n",
            "of your left shoe ,  just where the firelight strikes it ,  the leather is\r\n",
            "scored by six almost parallel cuts .  Obviously they have been caused by\r\n",
            "someone who has ve\n"
          ]
        }
      ],
      "source": [
        "sherlock_text_intermediate = sherlock_text\n",
        "sherlock_text_intermediate = sherlock_text_intermediate.replace(\".\",\" . \")\n",
        "sherlock_text_intermediate = sherlock_text_intermediate.replace(\",\",\" , \")\n",
        "sherlock_text_intermediate = sherlock_text_intermediate.replace(\"!\",\" ! \")\n",
        "sherlock_text_intermediate = sherlock_text_intermediate.replace(\"?\",\" ? \")\n",
        "sherlock_text_intermediate = sherlock_text_intermediate.replace(\":\",\" : \")\n",
        "sherlock_text_intermediate = sherlock_text_intermediate.replace(\";\",\" ; \")\n",
        "sherlock_text_intermediate = sherlock_text_intermediate.replace(\"“\",\" “ \")\n",
        "sherlock_text_intermediate = sherlock_text_intermediate.replace(\"”\",\" ” \")\n",
        "sherlock_text_intermediate = sherlock_text_intermediate.replace(\"’\",\" ’ \")\n",
        "sherlock_text_intermediate = sherlock_text_intermediate.replace(\"‘\",\" ‘ \")\n",
        "sherlock_text_intermediate = sherlock_text_intermediate.replace(\"-\",\" - \")\n",
        "sherlock_text_intermediate = sherlock_text_intermediate.replace(\"—\",\" - \")\n",
        "\n",
        "print(sherlock_text_intermediate[4000:6000])"
      ]
    },
    {
      "cell_type": "code",
      "execution_count": null,
      "metadata": {
        "id": "gMY87AZ4TPEu",
        "outputId": "8f614ec2-8ed1-4aef-f000-9648014a79ed",
        "colab": {
          "base_uri": "https://localhost:8080/"
        }
      },
      "outputs": [
        {
          "output_type": "stream",
          "name": "stdout",
          "text": [
            "['cover', 'The', 'Adventures', 'of', 'Sherlock', 'Holmes', 'by', 'Arthur', 'Conan', 'Doyle', 'Contents', 'I', '.', 'A', 'Scandal', 'in', 'Bohemia', 'II', '.', 'The', 'Red', '-', 'Headed', 'League', 'III', '.', 'A', 'Case', 'of', 'Identity', 'IV', '.', 'The', 'Boscombe', 'Valley', 'Mystery', 'V', '.', 'The', 'Five', 'Orange', 'Pips', 'VI', '.', 'The', 'Man', 'with', 'the', 'Twisted', 'Lip', 'VII', '.', 'The', 'Adventure', 'of', 'the', 'Blue', 'Carbuncle', 'VIII', '.', 'The', 'Adventure', 'of', 'the', 'Speckled', 'Band', 'IX', '.', 'The', 'Adventure', 'of', 'the', 'Engineer', '’', 's', 'Thumb', 'X', '.', 'The', 'Adventure', 'of', 'the', 'Noble', 'Bachelor', 'XI', '.', 'The', 'Adventure', 'of', 'the', 'Beryl', 'Coronet', 'XII', '.', 'The', 'Adventure', 'of', 'the', 'Copper', 'Beeches', 'I', '.', 'A', 'SCANDAL', 'IN', 'BOHEMIA', 'I', '.', 'To', 'Sherlock', 'Holmes', 'she', 'is', 'always', '_the_', 'woman', '.', 'I', 'have', 'seldom', 'heard', 'him', 'mention', 'her', 'under', 'any', 'other', 'name', '.', 'In', 'his', 'eyes', 'she', 'eclipses', 'and', 'predominates', 'the', 'whole', 'of', 'her', 'sex', '.', 'It', 'was', 'not', 'that', 'he', 'felt', 'any', 'emotion', 'akin', 'to', 'love', 'for', 'Irene', 'Adler', '.', 'All', 'emotions', ',', 'and', 'that', 'one', 'particularly', ',', 'were', 'abhorrent', 'to', 'his', 'cold', ',', 'precise', 'but', 'admirably', 'balanced', 'mind', '.', 'He', 'was', ',', 'I', 'take', 'it', ',', 'the', 'most', 'perfect', 'reasoning', 'and', 'observing', 'machine', 'that', 'the', 'world', 'has', 'seen', ',', 'but', 'as', 'a', 'lover', 'he', 'would', 'have', 'placed', 'himself', 'in', 'a', 'false', 'position', '.', 'He', 'never', 'spoke', 'of', 'the', 'softer', 'passions', ',', 'save', 'with', 'a', 'gibe', 'and', 'a', 'sneer', '.', 'They', 'were', 'admirable', 'things', 'for', 'the', 'observer', '-', 'excellent', 'for', 'drawing', 'the', 'veil', 'from', 'men', '’', 's', 'motives', 'and', 'actions', '.', 'But', 'for', 'the', 'trained', 'reasoner', 'to', 'admit', 'such', 'intrusions', 'into', 'his', 'own', 'delicate', 'and', 'finely', 'adjusted', 'temperament', 'was', 'to', 'introduce', 'a', 'distracting', 'factor', 'which', 'might', 'throw', 'a', 'doubt', 'upon', 'all', 'his', 'mental', 'results', '.', 'Grit', 'in', 'a', 'sensitive', 'instrument', ',', 'or', 'a', 'crack', 'in', 'one', 'of', 'his', 'own', 'high', '-', 'power', 'lenses', ',', 'would', 'not', 'be', 'more', 'disturbing', 'than', 'a', 'strong', 'emotion', 'in', 'a', 'nature', 'such', 'as', 'his', '.', 'And', 'yet', 'there', 'was', 'but', 'one', 'woman', 'to', 'him', ',', 'and', 'that', 'woman', 'was', 'the', 'late', 'Irene', 'Adler', ',', 'of', 'dubious', 'and', 'questionable', 'memory', '.', 'I', 'had', 'seen', 'little', 'of', 'Holmes', 'lately', '.', 'My', 'marriage', 'had', 'drifted', 'us', 'away', 'from', 'each', 'other', '.', 'My', 'own', 'complete', 'happiness', ',', 'and', 'the', 'home', '-', 'centred', 'interests', 'which', 'rise', 'up', 'around', 'the', 'man', 'who', 'first', 'finds', 'himself', 'master', 'of', 'his', 'own', 'establishment', ',', 'were', 'sufficient', 'to', 'absorb', 'all', 'my', 'attention', ',', 'while', 'Holmes', ',', 'who', 'loathed', 'every', 'form', 'of', 'society', 'with', 'his', 'whole', 'Bohemian', 'soul', ',', 'remained', 'in', 'our', 'lodgings', 'in', 'Baker', 'Street', ',', 'buried', 'among', 'his', 'old', 'books', ',', 'and', 'alternating', 'from', 'week', 'to', 'week', 'between', 'cocaine', 'and', 'ambition', ',', 'the', 'drowsiness', 'of', 'the', 'drug', ',', 'and', 'the', 'fierce', 'energy', 'of', 'his', 'own', 'keen', 'nature', '.', 'He', 'was', 'still', ',', 'as', 'ever', ',', 'deeply', 'attracted', 'by', 'the', 'study', 'of', 'crime', ',', 'and', 'occupied', 'his', 'immense', 'faculties', 'and', 'extraordinary', 'powers', 'of', 'observation', 'in', 'following', 'out', 'those', 'clues', ',', 'and', 'clearing', 'up', 'those', 'mysteries', 'which', 'had', 'been', 'abandoned', 'as', 'hopeless', 'by', 'the', 'official', 'police', '.', 'From', 'time', 'to', 'time', 'I', 'heard', 'some', 'vague', 'account', 'of', 'his', 'doings', ':', 'of', 'his', 'summons', 'to', 'Odessa', 'in', 'the', 'case', 'of', 'the', 'Trepoff', 'murder', ',', 'of', 'his', 'clearing', 'up', 'of', 'the', 'singular', 'tragedy', 'of', 'the', 'Atkinson', 'brothers', 'at', 'Trincomalee', ',', 'and', 'finally', 'of', 'the', 'mission', 'which', 'he', 'had', 'accomplished', 'so', 'delicately', 'and', 'successfully', 'for', 'the', 'reigning', 'family', 'of', 'Holland', '.', 'Beyond', 'these', 'signs', 'of', 'his', 'activity', ',', 'however', ',', 'which', 'I', 'merely', 'shared', 'with', 'all', 'the', 'readers', 'of', 'the', 'daily', 'press', ',', 'I', 'knew', 'little', 'of', 'my', 'former', 'friend', 'and', 'companion', '.', 'One', 'night', '-', 'it', 'was', 'on', 'the', 'twentieth', 'of', 'March', ',', '1888', '-', 'I', 'was', 'returning', 'from', 'a', 'journey', 'to', 'a', 'patient', '(for', 'I', 'had', 'now', 'returned', 'to', 'civil', 'practice)', ',', 'when', 'my', 'way', 'led', 'me', 'through', 'Baker', 'Street', '.', 'As', 'I', 'passed', 'the', 'well', '-', 'remembered', 'door', ',', 'which', 'must', 'always', 'be', 'associated', 'in', 'my', 'mind', 'with', 'my', 'wooing', ',', 'and', 'with', 'the', 'dark', 'incidents', 'of', 'the', 'Study', 'in', 'Scarlet', ',', 'I', 'was', 'seized', 'with', 'a', 'keen', 'desire', 'to', 'see', 'Holmes', 'again', ',', 'and', 'to', 'know', 'how', 'he', 'was', 'employing', 'his', 'extraordinary', 'powers', '.', 'His', 'rooms', 'were', 'brilliantly', 'lit', ',', 'and', ',', 'even', 'as', 'I', 'looked', 'up', ',', 'I', 'saw', 'his', 'tall', ',', 'spare', 'figure', 'pass', 'twice', 'in', 'a', 'dark', 'silhouette', 'against', 'the', 'blind', '.', 'He', 'was', 'pacing', 'the', 'room', 'swiftly', ',', 'eagerly', ',', 'with', 'his', 'head', 'sunk', 'upon', 'his', 'chest', 'and', 'his', 'hands', 'clasped', 'behind', 'him', '.', 'To', 'me', ',', 'who', 'knew', 'his', 'every', 'mood', 'and', 'habit', ',', 'his', 'attitude', 'and', 'manner', 'told', 'their', 'own', 'story', '.', 'He', 'was', 'at', 'work', 'again', '.', 'He', 'had', 'risen', 'out', 'of', 'his', 'drug', '-', 'created', 'dreams', 'and', 'was', 'hot', 'upon', 'the', 'scent', 'of', 'some', 'new', 'problem', '.', 'I', 'rang', 'the', 'bell', 'and', 'was', 'shown', 'up', 'to', 'the', 'chamber', 'which', 'had', 'formerly', 'been', 'in', 'part', 'my', 'own', '.', 'His', 'manner', 'was', 'not', 'effusive', '.', 'It', 'seldom', 'was', ';', 'but', 'he', 'was', 'glad', ',', 'I', 'think', ',', 'to', 'see', 'me', '.', 'With', 'hardly', 'a', 'word', 'spoken', ',', 'but', 'with', 'a', 'kindly', 'eye', ',', 'he', 'waved', 'me', 'to', 'an', 'armchair', ',', 'threw', 'across', 'his', 'case', 'of', 'cigars', ',', 'and', 'indicated', 'a', 'spirit', 'case', 'and', 'a', 'gasogene', 'in', 'the', 'corner', '.', 'Then', 'he', 'stood', 'before', 'the', 'fire', 'and', 'looked', 'me', 'over', 'in', 'his', 'singular', 'introspective', 'fashion', '.', '“', 'Wedlock', 'suits', 'you', ',', '”', 'he', 'remarked', '.', '“', 'I', 'think', ',', 'Watson', ',', 'that', 'you', 'have', 'put', 'on', 'seven', 'and', 'a', 'half', 'pounds', 'since', 'I', 'saw', 'you', '.', '”', '“', 'Seven', '!', '”', 'I', 'answered', '.', '“', 'Indeed', ',', 'I', 'should', 'have', 'thought', 'a', 'little', 'more', '.', 'Just', 'a', 'trifle', 'more', ',', 'I', 'fancy', ',', 'Watson', '.', 'And', 'in', 'practice', 'again', ',', 'I', 'observe', '.', 'You', 'did', 'not', 'tell', 'me', 'that', 'you', 'intended', 'to', 'go', 'into', 'harness', '.', '”', '“', 'Then', ',', 'how', 'do', 'you', 'know', '?', '”', '“', 'I', 'see', 'it', ',', 'I', 'deduce', 'it', '.', 'How', 'do', 'I', 'know', 'that', 'you', 'have', 'been', 'getting', 'yourself', 'very', 'wet', 'lately', ',', 'and', 'that', 'you', 'have']\n"
          ]
        }
      ],
      "source": [
        "sherlock_tokens = sherlock_text_intermediate.split()\n",
        "print(sherlock_tokens[:1000])"
      ]
    },
    {
      "cell_type": "code",
      "source": [
        "sherlock_text.index(\"_\")"
      ],
      "metadata": {
        "colab": {
          "base_uri": "https://localhost:8080/"
        },
        "id": "FnM99pAPae8M",
        "outputId": "d7f740d0-d2a0-435d-bc14-10c22eb82ce0"
      },
      "execution_count": null,
      "outputs": [
        {
          "output_type": "execute_result",
          "data": {
            "text/plain": [
              "659"
            ]
          },
          "metadata": {},
          "execution_count": 39
        }
      ]
    },
    {
      "cell_type": "code",
      "source": [
        "sherlock_text[600:700]"
      ],
      "metadata": {
        "colab": {
          "base_uri": "https://localhost:8080/",
          "height": 36
        },
        "id": "asRSkrNlapUf",
        "outputId": "ce0f7e94-bcff-44d2-c3f2-571ec8cbda27"
      },
      "execution_count": null,
      "outputs": [
        {
          "output_type": "execute_result",
          "data": {
            "text/plain": [
              "'DAL IN BOHEMIA\\r\\n\\r\\n\\r\\nI.\\r\\n\\r\\nTo Sherlock Holmes she is always _the_ woman. I have seldom heard him\\r\\nmen'"
            ],
            "application/vnd.google.colaboratory.intrinsic+json": {
              "type": "string"
            }
          },
          "metadata": {},
          "execution_count": 40
        }
      ]
    },
    {
      "cell_type": "markdown",
      "metadata": {
        "id": "Mic9JoJBTPEu"
      },
      "source": [
        "## Exercise\n",
        "\n",
        "The text also contains some underscores. What do these signify?\n",
        "\n",
        "Should we separate them out? Should we remove them? Go ahead and do what you think you should do.\n",
        "\n",
        "Can you find any other special characters we should deal with?"
      ]
    },
    {
      "cell_type": "markdown",
      "source": [
        "The text also contains some underscores. What do these signify?\n",
        "\n",
        "- Italics\n",
        "\n",
        "Should we separate them out? Should we remove them? Go ahead and do what you think you should do."
      ],
      "metadata": {
        "id": "e1G0ccpBa3uI"
      }
    },
    {
      "cell_type": "code",
      "source": [
        "sherlock_text = sherlock_text.replace(\"_\", \"\")"
      ],
      "metadata": {
        "id": "weWeHmi_bP5z"
      },
      "execution_count": null,
      "outputs": []
    },
    {
      "cell_type": "code",
      "source": [
        "sherlock_text[600:700]"
      ],
      "metadata": {
        "colab": {
          "base_uri": "https://localhost:8080/",
          "height": 36
        },
        "id": "UKF9yzctbY6K",
        "outputId": "5376fb98-d326-41c7-c503-b2ca0e6939d2"
      },
      "execution_count": null,
      "outputs": [
        {
          "output_type": "execute_result",
          "data": {
            "text/plain": [
              "'DAL IN BOHEMIA\\r\\n\\r\\n\\r\\nI.\\r\\n\\r\\nTo Sherlock Holmes she is always the woman. I have seldom heard him\\r\\nmenti'"
            ],
            "application/vnd.google.colaboratory.intrinsic+json": {
              "type": "string"
            }
          },
          "metadata": {},
          "execution_count": 44
        }
      ]
    },
    {
      "cell_type": "markdown",
      "metadata": {
        "id": "TeaRA6ATTPEu"
      },
      "source": [
        "## What if I wanted it broken down by sentences?\n",
        "\n",
        "In this example, suppose we want\n",
        "* broken down by words\n",
        "* no punctuation\n",
        "* structured by sentence"
      ]
    },
    {
      "cell_type": "code",
      "execution_count": null,
      "metadata": {
        "id": "0pPxdbCnTPEu",
        "outputId": "bb85c194-8792-40cb-a4d3-8f59a0aff9ec",
        "colab": {
          "base_uri": "https://localhost:8080/"
        }
      },
      "outputs": [
        {
          "output_type": "stream",
          "name": "stdout",
          "text": [
            "['\\r\\n\\r\\ncover\\r\\n\\r\\n\\r\\n\\r\\n\\r\\nThe Adventures of Sherlock Holmes\\r\\n\\r\\nby Arthur Conan Doyle\\r\\n\\r\\n\\r\\nContents\\r\\n\\r\\n   I', '     A Scandal in Bohemia\\r\\n   II', '    The Red-Headed League\\r\\n   III', '   A Case of Identity\\r\\n   IV', '    The Boscombe Valley Mystery\\r\\n   V', '     The Five Orange Pips\\r\\n   VI', '    The Man with the Twisted Lip\\r\\n   VII', '   The Adventure of the Blue Carbuncle\\r\\n   VIII', '  The Adventure of the Speckled Band\\r\\n   IX', '    The Adventure of the Engineer’s Thumb\\r\\n   X', '     The Adventure of the Noble Bachelor\\r\\n   XI', '    The Adventure of the Beryl Coronet\\r\\n   XII', '   The Adventure of the Copper Beeches\\r\\n\\r\\n\\r\\n\\r\\n\\r\\nI', ' A SCANDAL IN BOHEMIA\\r\\n\\r\\n\\r\\nI', '\\r\\n\\r\\nTo Sherlock Holmes she is always _the_ woman', ' I have seldom heard him\\r\\nmention her under any other name', ' In his eyes she eclipses and\\r\\npredominates the whole of her sex', ' It was not that he felt any emotion\\r\\nakin to love for Irene Adler', ' All emotions, and that one particularly,\\r\\nwere abhorrent to his cold, precise but admirably balanced mind', ' He\\r\\nwas, I take it, the most perfect reasoning and observing machine that\\r\\nthe world has seen, but as a lover he would have placed himself in a\\r\\nfalse position', ' He never spoke of the softer passions, save with a gibe\\r\\nand a sneer', ' They were admirable things for the observer—excellent for\\r\\ndrawing the veil from men’s motives and actions', ' But for the trained\\r\\nreasoner to admit such intrusions into his own delicate and finely\\r\\nadjusted temperament was to introduce a distracting factor which might\\r\\nthrow a doubt upon all his mental results', ' Grit in a sensitive\\r\\ninstrument, or a crack in one of his own high-power lenses, would not\\r\\nbe more disturbing than a strong emotion in a nature such as his', ' And\\r\\nyet there was but one woman to him, and that woman was the late Irene\\r\\nAdler, of dubious and questionable memory', '\\r\\n\\r\\nI had seen little of Holmes lately', ' My marriage had drifted us away\\r\\nfrom each other', ' My own complete happiness, and the home-centred\\r\\ninterests which rise up around the man who first finds himself master\\r\\nof his own establishment, were sufficient to absorb all my attention,\\r\\nwhile Holmes, who loathed every form of society with his whole Bohemian\\r\\nsoul, remained in our lodgings in Baker Street, buried among his old\\r\\nbooks, and alternating from week to week between cocaine and ambition,\\r\\nthe drowsiness of the drug, and the fierce energy of his own keen\\r\\nnature', ' He was still, as ever, deeply attracted by the study of crime,\\r\\nand occupied his immense faculties and extraordinary powers of\\r\\nobservation in following out those clues, and clearing up those\\r\\nmysteries which had been abandoned as hopeless by the official police', '\\r\\nFrom time to time I heard some vague account of his doings: of his\\r\\nsummons to Odessa in the case of the Trepoff murder, of his clearing up\\r\\nof the singular tragedy of the Atkinson brothers at Trincomalee, and\\r\\nfinally of the mission which he had accomplished so delicately and\\r\\nsuccessfully for the reigning family of Holland', ' Beyond these signs of\\r\\nhis activity, however, which I merely shared with all the readers of\\r\\nthe daily press, I knew little of my former friend and companion', '\\r\\n\\r\\nOne night—it was on the twentieth of March, 1888—I was returning from a\\r\\njourney to a patient (for I had now returned to civil practice), when\\r\\nmy way led me through Baker Street', ' As I passed the well-remembered\\r\\ndoor, which must always be associated in my mind with my wooing, and\\r\\nwith the dark incidents of the Study in Scarlet, I was seized with a\\r\\nkeen desire to see Holmes again, and to know how he was employing his\\r\\nextraordinary powers', ' His rooms were brilliantly lit, and, even as I\\r\\nlooked up, I saw his tall, spare figure pass twice in a dark silhouette\\r\\nagainst the blind', ' He was pacing the room swiftly, eagerly, with his\\r\\nhead sunk upon his chest and his hands clasped behind him', ' To me, who\\r\\nknew his every mood and habit, his attitude and manner told their own\\r\\nstory', ' He was at work again', ' He had risen out of his drug-created\\r\\ndreams and was hot upon the scent of some new problem', ' I rang the bell\\r\\nand was shown up to the chamber which had formerly been in part my own', '\\r\\n\\r\\nHis manner was not effusive', ' It seldom was; but he was glad, I think,\\r\\nto see me', ' With hardly a word spoken, but with a kindly eye, he waved\\r\\nme to an armchair, threw across his case of cigars, and indicated a\\r\\nspirit case and a gasogene in the corner', ' Then he stood before the fire\\r\\nand looked me over in his singular introspective fashion', '\\r\\n\\r\\n“Wedlock suits you,” he remarked', ' “I think, Watson, that you have put\\r\\non seven and a half pounds since I saw you', '”\\r\\n\\r\\n“Seven!” I answered', '\\r\\n\\r\\n“Indeed, I should have thought a little more', ' Just a trifle more, I\\r\\nfancy, Watson', ' And in practice again, I observe', ' You did not tell me\\r\\nthat you intended to go into harness', '”\\r\\n\\r\\n“Then, how do you know?”\\r\\n\\r\\n“I see it, I deduce it', ' How do I know that you have been getting\\r\\nyourself very wet lately, and that you have a most clumsy and careless\\r\\nservant girl?”\\r\\n\\r\\n“My dear Holmes,” said I, “this is too much', ' You would certainly have\\r\\nbeen burned, had you lived a few centuries ago', ' It is true that I had a\\r\\ncountry walk on Thursday and came home in a dreadful mess, but as I\\r\\nhave changed my clothes I can’t imagine how you deduce it', ' As to Mary\\r\\nJane, she is incorrigible, and my wife has given her notice, but there,\\r\\nagain, I fail to see how you work it out', '”\\r\\n\\r\\nHe chuckled to himself and rubbed his long, nervous hands together', '\\r\\n\\r\\n“It is simplicity itself,” said he; “my eyes tell me that on the inside\\r\\nof your left shoe, just where the firelight strikes it, the leather is\\r\\nscored by six almost parallel cuts', ' Obviously they have been caused by\\r\\nsomeone who has very carelessly scraped round the edges of the sole in\\r\\norder to remove crusted mud from it', ' Hence, you see, my double\\r\\ndeduction that you had been out in vile weather, and that you had a\\r\\nparticularly malignant boot-slitting specimen of the London slavey', ' As\\r\\nto your practice, if a gentleman walks into my rooms smelling of\\r\\niodoform, with a black mark of nitrate of silver upon his right\\r\\nforefinger, and a bulge on the right side of his top-hat to show where\\r\\nhe has secreted his stethoscope, I must be dull, indeed, if I do not\\r\\npronounce him to be an active member of the medical profession', '”\\r\\n\\r\\nI could not help laughing at the ease with which he explained his\\r\\nprocess of deduction', ' “When I hear you give your reasons,” I remarked,\\r\\n“the thing always appears to me to be so ridiculously simple that I\\r\\ncould easily do it myself, though at each successive instance of your\\r\\nreasoning I am baffled until you explain your process', ' And yet I\\r\\nbelieve that my eyes are as good as yours', '”\\r\\n\\r\\n“Quite so,” he answered, lighting a cigarette, and throwing himself\\r\\ndown into an armchair', ' “You see, but you do not observe', ' The\\r\\ndistinction is clear', ' For example, you have frequently seen the steps\\r\\nwhich lead up from the hall to this room', '”\\r\\n\\r\\n“Frequently', '”\\r\\n\\r\\n“How often?”\\r\\n\\r\\n“Well, some hundreds of times', '”\\r\\n\\r\\n“Then how many are there?”\\r\\n\\r\\n“How many? I don’t know', '”\\r\\n\\r\\n“Quite so! You have not observed', ' And yet you have seen', ' That is just\\r\\nmy point', ' Now, I know that there are seventeen steps, because I have\\r\\nboth seen and observed', ' By the way, since you are interested in these\\r\\nlittle problems, and since you are good enough to chronicle one or two\\r\\nof my trifling experiences, you may be interested in this', '” He threw\\r\\nover a sheet of thick, pink-tinted notepaper which had been lying open\\r\\nupon the table', ' “It came by the last post,” said he', ' “Read it aloud', '”\\r\\n\\r\\nThe note was undated, and without either signature or address', '\\r\\n\\r\\n“There will call upon you to-night, at a quarter to eight o’clock,” it\\r\\nsaid, “a gentleman who desires to consult you upon a matter of the very\\r\\ndeepest moment', ' Your recent services to one of the royal houses of\\r\\nEurope have shown that you are one who may safely be trusted with\\r\\nmatters which are of an importance which can hardly be exaggerated', '\\r\\nThis account of you we have from all quarters received', ' Be in your\\r\\nchamber then at that hour, and do not take it amiss if your visitor\\r\\nwear a mask', '”\\r\\n\\r\\n“This is indeed a mystery,” I remarked', ' “What do you imagine that it\\r\\nmeans?”\\r\\n\\r\\n“I have no data yet', ' It is a capital mistake to theorise before one has\\r\\ndata', ' Insensibly one begins to twist facts to suit theories, instead of\\r\\ntheories to suit facts', ' But the note itself', ' What do you deduce from\\r\\nit?”\\r\\n\\r\\nI carefully examined the writing, and the paper upon which it was\\r\\nwritten', '\\r\\n\\r\\n“The man who wrote it was presumably well to do,” I remarked,\\r\\nendeavouring to imitate my companion’s processes', ' “Such paper could not\\r\\nbe bought under half a crown a packet', ' It is peculiarly strong and\\r\\nstiff', '”\\r\\n\\r\\n“Peculiar—that is the very word,” said Holmes', ' “It is not an English\\r\\npaper at all', ' Hold it up to the light', '”\\r\\n\\r\\nI did so, and saw a large “E” with a small “g,” a “P,” and a large “G”\\r\\nwith a small “t” woven into the texture of the paper', '\\r\\n\\r\\n“What do you make of that?” asked Holmes', '\\r\\n\\r\\n“The name of the maker, no doubt; or his monogram, rather', '”\\r\\n\\r\\n“Not at all', ' The ‘G’ with the small ‘t’ stands for ‘Gesellschaft,’\\r\\nwhich is the German for ‘Company']\n"
          ]
        }
      ],
      "source": [
        "#split into lists by period\n",
        "sherlock_sentences = sherlock_text.split(\".\")\n",
        "print(sherlock_sentences[:100])"
      ]
    },
    {
      "cell_type": "code",
      "execution_count": null,
      "metadata": {
        "id": "nJysSLcgTPEu",
        "outputId": "e6df5551-94a6-4feb-f610-c30b856555df",
        "colab": {
          "base_uri": "https://localhost:8080/"
        }
      },
      "outputs": [
        {
          "output_type": "stream",
          "name": "stdout",
          "text": [
            "[['cover', 'The', 'Adventures', 'of', 'Sherlock', 'Holmes', 'by', 'Arthur', 'Conan', 'Doyle', 'Contents', 'I'], ['A', 'Scandal', 'in', 'Bohemia', 'II'], ['The', 'Red', 'Headed', 'League', 'III'], ['A', 'Case', 'of', 'Identity', 'IV'], ['The', 'Boscombe', 'Valley', 'Mystery', 'V'], ['The', 'Five', 'Orange', 'Pips', 'VI'], ['The', 'Man', 'with', 'the', 'Twisted', 'Lip', 'VII'], ['The', 'Adventure', 'of', 'the', 'Blue', 'Carbuncle', 'VIII'], ['The', 'Adventure', 'of', 'the', 'Speckled', 'Band', 'IX'], ['The', 'Adventure', 'of', 'the', 'Engineers', 'Thumb', 'X'], ['The', 'Adventure', 'of', 'the', 'Noble', 'Bachelor', 'XI'], ['The', 'Adventure', 'of', 'the', 'Beryl', 'Coronet', 'XII'], ['The', 'Adventure', 'of', 'the', 'Copper', 'Beeches', 'I'], ['A', 'SCANDAL', 'IN', 'BOHEMIA', 'I'], ['To', 'Sherlock', 'Holmes', 'she', 'is', 'always', '_the_', 'woman'], ['I', 'have', 'seldom', 'heard', 'him', 'mention', 'her', 'under', 'any', 'other', 'name'], ['In', 'his', 'eyes', 'she', 'eclipses', 'and', 'predominates', 'the', 'whole', 'of', 'her', 'sex'], ['It', 'was', 'not', 'that', 'he', 'felt', 'any', 'emotion', 'akin', 'to', 'love', 'for', 'Irene', 'Adler'], ['All', 'emotions', 'and', 'that', 'one', 'particularly', 'were', 'abhorrent', 'to', 'his', 'cold', 'precise', 'but', 'admirably', 'balanced', 'mind'], ['He', 'was', 'I', 'take', 'it', 'the', 'most', 'perfect', 'reasoning', 'and', 'observing', 'machine', 'that', 'the', 'world', 'has', 'seen', 'but', 'as', 'a', 'lover', 'he', 'would', 'have', 'placed', 'himself', 'in', 'a', 'false', 'position'], ['He', 'never', 'spoke', 'of', 'the', 'softer', 'passions', 'save', 'with', 'a', 'gibe', 'and', 'a', 'sneer'], ['They', 'were', 'admirable', 'things', 'for', 'the', 'observer', 'excellent', 'for', 'drawing', 'the', 'veil', 'from', 'mens', 'motives', 'and', 'actions'], ['But', 'for', 'the', 'trained', 'reasoner', 'to', 'admit', 'such', 'intrusions', 'into', 'his', 'own', 'delicate', 'and', 'finely', 'adjusted', 'temperament', 'was', 'to', 'introduce', 'a', 'distracting', 'factor', 'which', 'might', 'throw', 'a', 'doubt', 'upon', 'all', 'his', 'mental', 'results'], ['Grit', 'in', 'a', 'sensitive', 'instrument', 'or', 'a', 'crack', 'in', 'one', 'of', 'his', 'own', 'high', 'power', 'lenses', 'would', 'not', 'be', 'more', 'disturbing', 'than', 'a', 'strong', 'emotion', 'in', 'a', 'nature', 'such', 'as', 'his'], ['And', 'yet', 'there', 'was', 'but', 'one', 'woman', 'to', 'him', 'and', 'that', 'woman', 'was', 'the', 'late', 'Irene', 'Adler', 'of', 'dubious', 'and', 'questionable', 'memory'], ['I', 'had', 'seen', 'little', 'of', 'Holmes', 'lately'], ['My', 'marriage', 'had', 'drifted', 'us', 'away', 'from', 'each', 'other'], ['My', 'own', 'complete', 'happiness', 'and', 'the', 'home', 'centred', 'interests', 'which', 'rise', 'up', 'around', 'the', 'man', 'who', 'first', 'finds', 'himself', 'master', 'of', 'his', 'own', 'establishment', 'were', 'sufficient', 'to', 'absorb', 'all', 'my', 'attention', 'while', 'Holmes', 'who', 'loathed', 'every', 'form', 'of', 'society', 'with', 'his', 'whole', 'Bohemian', 'soul', 'remained', 'in', 'our', 'lodgings', 'in', 'Baker', 'Street', 'buried', 'among', 'his', 'old', 'books', 'and', 'alternating', 'from', 'week', 'to', 'week', 'between', 'cocaine', 'and', 'ambition', 'the', 'drowsiness', 'of', 'the', 'drug', 'and', 'the', 'fierce', 'energy', 'of', 'his', 'own', 'keen', 'nature'], ['He', 'was', 'still', 'as', 'ever', 'deeply', 'attracted', 'by', 'the', 'study', 'of', 'crime', 'and', 'occupied', 'his', 'immense', 'faculties', 'and', 'extraordinary', 'powers', 'of', 'observation', 'in', 'following', 'out', 'those', 'clues', 'and', 'clearing', 'up', 'those', 'mysteries', 'which', 'had', 'been', 'abandoned', 'as', 'hopeless', 'by', 'the', 'official', 'police'], ['From', 'time', 'to', 'time', 'I', 'heard', 'some', 'vague', 'account', 'of', 'his', 'doings', 'of', 'his', 'summons', 'to', 'Odessa', 'in', 'the', 'case', 'of', 'the', 'Trepoff', 'murder', 'of', 'his', 'clearing', 'up', 'of', 'the', 'singular', 'tragedy', 'of', 'the', 'Atkinson', 'brothers', 'at', 'Trincomalee', 'and', 'finally', 'of', 'the', 'mission', 'which', 'he', 'had', 'accomplished', 'so', 'delicately', 'and', 'successfully', 'for', 'the', 'reigning', 'family', 'of', 'Holland'], ['Beyond', 'these', 'signs', 'of', 'his', 'activity', 'however', 'which', 'I', 'merely', 'shared', 'with', 'all', 'the', 'readers', 'of', 'the', 'daily', 'press', 'I', 'knew', 'little', 'of', 'my', 'former', 'friend', 'and', 'companion'], ['One', 'night', 'it', 'was', 'on', 'the', 'twentieth', 'of', 'March', '1888', 'I', 'was', 'returning', 'from', 'a', 'journey', 'to', 'a', 'patient', '(for', 'I', 'had', 'now', 'returned', 'to', 'civil', 'practice)', 'when', 'my', 'way', 'led', 'me', 'through', 'Baker', 'Street'], ['As', 'I', 'passed', 'the', 'well', 'remembered', 'door', 'which', 'must', 'always', 'be', 'associated', 'in', 'my', 'mind', 'with', 'my', 'wooing', 'and', 'with', 'the', 'dark', 'incidents', 'of', 'the', 'Study', 'in', 'Scarlet', 'I', 'was', 'seized', 'with', 'a', 'keen', 'desire', 'to', 'see', 'Holmes', 'again', 'and', 'to', 'know', 'how', 'he', 'was', 'employing', 'his', 'extraordinary', 'powers'], ['His', 'rooms', 'were', 'brilliantly', 'lit', 'and', 'even', 'as', 'I', 'looked', 'up', 'I', 'saw', 'his', 'tall', 'spare', 'figure', 'pass', 'twice', 'in', 'a', 'dark', 'silhouette', 'against', 'the', 'blind'], ['He', 'was', 'pacing', 'the', 'room', 'swiftly', 'eagerly', 'with', 'his', 'head', 'sunk', 'upon', 'his', 'chest', 'and', 'his', 'hands', 'clasped', 'behind', 'him'], ['To', 'me', 'who', 'knew', 'his', 'every', 'mood', 'and', 'habit', 'his', 'attitude', 'and', 'manner', 'told', 'their', 'own', 'story'], ['He', 'was', 'at', 'work', 'again'], ['He', 'had', 'risen', 'out', 'of', 'his', 'drug', 'created', 'dreams', 'and', 'was', 'hot', 'upon', 'the', 'scent', 'of', 'some', 'new', 'problem'], ['I', 'rang', 'the', 'bell', 'and', 'was', 'shown', 'up', 'to', 'the', 'chamber', 'which', 'had', 'formerly', 'been', 'in', 'part', 'my', 'own'], ['His', 'manner', 'was', 'not', 'effusive'], ['It', 'seldom', 'was', 'but', 'he', 'was', 'glad', 'I', 'think', 'to', 'see', 'me'], ['With', 'hardly', 'a', 'word', 'spoken', 'but', 'with', 'a', 'kindly', 'eye', 'he', 'waved', 'me', 'to', 'an', 'armchair', 'threw', 'across', 'his', 'case', 'of', 'cigars', 'and', 'indicated', 'a', 'spirit', 'case', 'and', 'a', 'gasogene', 'in', 'the', 'corner'], ['Then', 'he', 'stood', 'before', 'the', 'fire', 'and', 'looked', 'me', 'over', 'in', 'his', 'singular', 'introspective', 'fashion'], ['Wedlock', 'suits', 'you', 'he', 'remarked'], ['I', 'think', 'Watson', 'that', 'you', 'have', 'put', 'on', 'seven', 'and', 'a', 'half', 'pounds', 'since', 'I', 'saw', 'you'], ['Seven', 'I', 'answered'], ['Indeed', 'I', 'should', 'have', 'thought', 'a', 'little', 'more'], ['Just', 'a', 'trifle', 'more', 'I', 'fancy', 'Watson'], ['And', 'in', 'practice', 'again', 'I', 'observe'], ['You', 'did', 'not', 'tell', 'me', 'that', 'you', 'intended', 'to', 'go', 'into', 'harness'], ['Then', 'how', 'do', 'you', 'know', 'I', 'see', 'it', 'I', 'deduce', 'it'], ['How', 'do', 'I', 'know', 'that', 'you', 'have', 'been', 'getting', 'yourself', 'very', 'wet', 'lately', 'and', 'that', 'you', 'have', 'a', 'most', 'clumsy', 'and', 'careless', 'servant', 'girl', 'My', 'dear', 'Holmes', 'said', 'I', 'this', 'is', 'too', 'much'], ['You', 'would', 'certainly', 'have', 'been', 'burned', 'had', 'you', 'lived', 'a', 'few', 'centuries', 'ago'], ['It', 'is', 'true', 'that', 'I', 'had', 'a', 'country', 'walk', 'on', 'Thursday', 'and', 'came', 'home', 'in', 'a', 'dreadful', 'mess', 'but', 'as', 'I', 'have', 'changed', 'my', 'clothes', 'I', 'cant', 'imagine', 'how', 'you', 'deduce', 'it'], ['As', 'to', 'Mary', 'Jane', 'she', 'is', 'incorrigible', 'and', 'my', 'wife', 'has', 'given', 'her', 'notice', 'but', 'there', 'again', 'I', 'fail', 'to', 'see', 'how', 'you', 'work', 'it', 'out'], ['He', 'chuckled', 'to', 'himself', 'and', 'rubbed', 'his', 'long', 'nervous', 'hands', 'together'], ['It', 'is', 'simplicity', 'itself', 'said', 'he', 'my', 'eyes', 'tell', 'me', 'that', 'on', 'the', 'inside', 'of', 'your', 'left', 'shoe', 'just', 'where', 'the', 'firelight', 'strikes', 'it', 'the', 'leather', 'is', 'scored', 'by', 'six', 'almost', 'parallel', 'cuts'], ['Obviously', 'they', 'have', 'been', 'caused', 'by', 'someone', 'who', 'has', 'very', 'carelessly', 'scraped', 'round', 'the', 'edges', 'of', 'the', 'sole', 'in', 'order', 'to', 'remove', 'crusted', 'mud', 'from', 'it'], ['Hence', 'you', 'see', 'my', 'double', 'deduction', 'that', 'you', 'had', 'been', 'out', 'in', 'vile', 'weather', 'and', 'that', 'you', 'had', 'a', 'particularly', 'malignant', 'boot', 'slitting', 'specimen', 'of', 'the', 'London', 'slavey'], ['As', 'to', 'your', 'practice', 'if', 'a', 'gentleman', 'walks', 'into', 'my', 'rooms', 'smelling', 'of', 'iodoform', 'with', 'a', 'black', 'mark', 'of', 'nitrate', 'of', 'silver', 'upon', 'his', 'right', 'forefinger', 'and', 'a', 'bulge', 'on', 'the', 'right', 'side', 'of', 'his', 'top', 'hat', 'to', 'show', 'where', 'he', 'has', 'secreted', 'his', 'stethoscope', 'I', 'must', 'be', 'dull', 'indeed', 'if', 'I', 'do', 'not', 'pronounce', 'him', 'to', 'be', 'an', 'active', 'member', 'of', 'the', 'medical', 'profession'], ['I', 'could', 'not', 'help', 'laughing', 'at', 'the', 'ease', 'with', 'which', 'he', 'explained', 'his', 'process', 'of', 'deduction'], ['When', 'I', 'hear', 'you', 'give', 'your', 'reasons', 'I', 'remarked', 'the', 'thing', 'always', 'appears', 'to', 'me', 'to', 'be', 'so', 'ridiculously', 'simple', 'that', 'I', 'could', 'easily', 'do', 'it', 'myself', 'though', 'at', 'each', 'successive', 'instance', 'of', 'your', 'reasoning', 'I', 'am', 'baffled', 'until', 'you', 'explain', 'your', 'process'], ['And', 'yet', 'I', 'believe', 'that', 'my', 'eyes', 'are', 'as', 'good', 'as', 'yours'], ['Quite', 'so', 'he', 'answered', 'lighting', 'a', 'cigarette', 'and', 'throwing', 'himself', 'down', 'into', 'an', 'armchair'], ['You', 'see', 'but', 'you', 'do', 'not', 'observe'], ['The', 'distinction', 'is', 'clear'], ['For', 'example', 'you', 'have', 'frequently', 'seen', 'the', 'steps', 'which', 'lead', 'up', 'from', 'the', 'hall', 'to', 'this', 'room'], ['Frequently'], ['How', 'often', 'Well', 'some', 'hundreds', 'of', 'times'], ['Then', 'how', 'many', 'are', 'there', 'How', 'many', 'I', 'dont', 'know'], ['Quite', 'so', 'You', 'have', 'not', 'observed'], ['And', 'yet', 'you', 'have', 'seen'], ['That', 'is', 'just', 'my', 'point'], ['Now', 'I', 'know', 'that', 'there', 'are', 'seventeen', 'steps', 'because', 'I', 'have', 'both', 'seen', 'and', 'observed'], ['By', 'the', 'way', 'since', 'you', 'are', 'interested', 'in', 'these', 'little', 'problems', 'and', 'since', 'you', 'are', 'good', 'enough', 'to', 'chronicle', 'one', 'or', 'two', 'of', 'my', 'trifling', 'experiences', 'you', 'may', 'be', 'interested', 'in', 'this'], ['He', 'threw', 'over', 'a', 'sheet', 'of', 'thick', 'pink', 'tinted', 'notepaper', 'which', 'had', 'been', 'lying', 'open', 'upon', 'the', 'table'], ['It', 'came', 'by', 'the', 'last', 'post', 'said', 'he'], ['Read', 'it', 'aloud'], ['The', 'note', 'was', 'undated', 'and', 'without', 'either', 'signature', 'or', 'address'], ['There', 'will', 'call', 'upon', 'you', 'to', 'night', 'at', 'a', 'quarter', 'to', 'eight', 'oclock', 'it', 'said', 'a', 'gentleman', 'who', 'desires', 'to', 'consult', 'you', 'upon', 'a', 'matter', 'of', 'the', 'very', 'deepest', 'moment'], ['Your', 'recent', 'services', 'to', 'one', 'of', 'the', 'royal', 'houses', 'of', 'Europe', 'have', 'shown', 'that', 'you', 'are', 'one', 'who', 'may', 'safely', 'be', 'trusted', 'with', 'matters', 'which', 'are', 'of', 'an', 'importance', 'which', 'can', 'hardly', 'be', 'exaggerated'], ['This', 'account', 'of', 'you', 'we', 'have', 'from', 'all', 'quarters', 'received'], ['Be', 'in', 'your', 'chamber', 'then', 'at', 'that', 'hour', 'and', 'do', 'not', 'take', 'it', 'amiss', 'if', 'your', 'visitor', 'wear', 'a', 'mask'], ['This', 'is', 'indeed', 'a', 'mystery', 'I', 'remarked'], ['What', 'do', 'you', 'imagine', 'that', 'it', 'means', 'I', 'have', 'no', 'data', 'yet'], ['It', 'is', 'a', 'capital', 'mistake', 'to', 'theorise', 'before', 'one', 'has', 'data'], ['Insensibly', 'one', 'begins', 'to', 'twist', 'facts', 'to', 'suit', 'theories', 'instead', 'of', 'theories', 'to', 'suit', 'facts'], ['But', 'the', 'note', 'itself'], ['What', 'do', 'you', 'deduce', 'from', 'it', 'I', 'carefully', 'examined', 'the', 'writing', 'and', 'the', 'paper', 'upon', 'which', 'it', 'was', 'written'], ['The', 'man', 'who', 'wrote', 'it', 'was', 'presumably', 'well', 'to', 'do', 'I', 'remarked', 'endeavouring', 'to', 'imitate', 'my', 'companions', 'processes'], ['Such', 'paper', 'could', 'not', 'be', 'bought', 'under', 'half', 'a', 'crown', 'a', 'packet'], ['It', 'is', 'peculiarly', 'strong', 'and', 'stiff'], ['Peculiar', 'that', 'is', 'the', 'very', 'word', 'said', 'Holmes'], ['It', 'is', 'not', 'an', 'English', 'paper', 'at', 'all'], ['Hold', 'it', 'up', 'to', 'the', 'light'], ['I', 'did', 'so', 'and', 'saw', 'a', 'large', 'E', 'with', 'a', 'small', 'g', 'a', 'P', 'and', 'a', 'large', 'G', 'with', 'a', 'small', 't', 'woven', 'into', 'the', 'texture', 'of', 'the', 'paper'], ['What', 'do', 'you', 'make', 'of', 'that', 'asked', 'Holmes'], ['The', 'name', 'of', 'the', 'maker', 'no', 'doubt', 'or', 'his', 'monogram', 'rather'], ['Not', 'at', 'all'], ['The', 'G', 'with', 'the', 'small', 't', 'stands', 'for', 'Gesellschaft', 'which', 'is', 'the', 'German', 'for', 'Company']]\n"
          ]
        }
      ],
      "source": [
        "chars_to_remove = [\",\",\"!\",\"?\",\";\",\":\",\"“\",\"”\",\"’\",\"‘\"]\n",
        "chars_to_change_to_spaces = [\"-\",\"—\",\"\\r\\n\"]\n",
        "\n",
        "for idx in range(len(sherlock_sentences)):\n",
        "    for c in chars_to_remove:\n",
        "        sherlock_sentences[idx] = sherlock_sentences[idx].replace(c,\"\") #replace those characters with the empty string\n",
        "    for c in chars_to_change_to_spaces:\n",
        "        sherlock_sentences[idx] = sherlock_sentences[idx].replace(c,\" \") #replace those characters with a space\n",
        "    sherlock_sentences[idx] = sherlock_sentences[idx].split()\n",
        "\n",
        "print(sherlock_sentences[:100])"
      ]
    },
    {
      "cell_type": "markdown",
      "metadata": {
        "id": "ehTkgmsTTPEu"
      },
      "source": [
        "## Exercise\n",
        "\n",
        "What if we wanted to covert all of the uppercase letters to lowercase? Edit the code to do this to each sentence.\n",
        "\n",
        "Recall, you can use the `.lower()` string method."
      ]
    },
    {
      "cell_type": "code",
      "execution_count": null,
      "metadata": {
        "id": "ehGGi1BFTPEu",
        "outputId": "9fb55e13-baf5-4275-f83c-d09cbfd8ea8a"
      },
      "outputs": [
        {
          "name": "stdout",
          "output_type": "stream",
          "text": [
            "here’s another vacancy on the league of the red-headed men\n"
          ]
        }
      ],
      "source": [
        "my_string = \"here’s another vacancy on the League of the Red-headed Men\"\n",
        "my_string_lower = my_string.lower()\n",
        "print(my_string_lower)"
      ]
    },
    {
      "cell_type": "code",
      "source": [
        "chars_to_remove2 = [\",\",\"!\",\"?\",\";\",\":\",\"“\",\"”\",\"’\",\"‘\"]\n",
        "chars_to_change_to_spaces2 = [\"-\",\"—\",\"\\r\\n\"]\n",
        "\n",
        "for idx in range(len(sherlock_sentences)):\n",
        "    sherlock_sentences[idx] = sherlock_sentences[idx].lower()\n",
        "    for c in chars_to_remove2:\n",
        "        sherlock_sentences[idx] = sherlock_sentences[idx].replace(c,\"\") #replace those characters with the empty string\n",
        "    for c in chars_to_change_to_spaces2:\n",
        "        sherlock_sentences[idx] = sherlock_sentences[idx].replace(c,\" \") #replace those characters with a space\n",
        "    sherlock_sentences[idx] = sherlock_sentences[idx].split()\n",
        "\n",
        "print(sherlock_sentences[:100])"
      ],
      "metadata": {
        "colab": {
          "base_uri": "https://localhost:8080/"
        },
        "id": "xKFZUthfV1rG",
        "outputId": "1cbbcd6c-1869-4089-f19a-e70ad054a5a1"
      },
      "execution_count": null,
      "outputs": [
        {
          "output_type": "stream",
          "name": "stdout",
          "text": [
            "[['cover', 'the', 'adventures', 'of', 'sherlock', 'holmes', 'by', 'arthur', 'conan', 'doyle', 'contents', 'i'], ['a', 'scandal', 'in', 'bohemia', 'ii'], ['the', 'red', 'headed', 'league', 'iii'], ['a', 'case', 'of', 'identity', 'iv'], ['the', 'boscombe', 'valley', 'mystery', 'v'], ['the', 'five', 'orange', 'pips', 'vi'], ['the', 'man', 'with', 'the', 'twisted', 'lip', 'vii'], ['the', 'adventure', 'of', 'the', 'blue', 'carbuncle', 'viii'], ['the', 'adventure', 'of', 'the', 'speckled', 'band', 'ix'], ['the', 'adventure', 'of', 'the', 'engineers', 'thumb', 'x'], ['the', 'adventure', 'of', 'the', 'noble', 'bachelor', 'xi'], ['the', 'adventure', 'of', 'the', 'beryl', 'coronet', 'xii'], ['the', 'adventure', 'of', 'the', 'copper', 'beeches', 'i'], ['a', 'scandal', 'in', 'bohemia', 'i'], ['to', 'sherlock', 'holmes', 'she', 'is', 'always', '_the_', 'woman'], ['i', 'have', 'seldom', 'heard', 'him', 'mention', 'her', 'under', 'any', 'other', 'name'], ['in', 'his', 'eyes', 'she', 'eclipses', 'and', 'predominates', 'the', 'whole', 'of', 'her', 'sex'], ['it', 'was', 'not', 'that', 'he', 'felt', 'any', 'emotion', 'akin', 'to', 'love', 'for', 'irene', 'adler'], ['all', 'emotions', 'and', 'that', 'one', 'particularly', 'were', 'abhorrent', 'to', 'his', 'cold', 'precise', 'but', 'admirably', 'balanced', 'mind'], ['he', 'was', 'i', 'take', 'it', 'the', 'most', 'perfect', 'reasoning', 'and', 'observing', 'machine', 'that', 'the', 'world', 'has', 'seen', 'but', 'as', 'a', 'lover', 'he', 'would', 'have', 'placed', 'himself', 'in', 'a', 'false', 'position'], ['he', 'never', 'spoke', 'of', 'the', 'softer', 'passions', 'save', 'with', 'a', 'gibe', 'and', 'a', 'sneer'], ['they', 'were', 'admirable', 'things', 'for', 'the', 'observer', 'excellent', 'for', 'drawing', 'the', 'veil', 'from', 'mens', 'motives', 'and', 'actions'], ['but', 'for', 'the', 'trained', 'reasoner', 'to', 'admit', 'such', 'intrusions', 'into', 'his', 'own', 'delicate', 'and', 'finely', 'adjusted', 'temperament', 'was', 'to', 'introduce', 'a', 'distracting', 'factor', 'which', 'might', 'throw', 'a', 'doubt', 'upon', 'all', 'his', 'mental', 'results'], ['grit', 'in', 'a', 'sensitive', 'instrument', 'or', 'a', 'crack', 'in', 'one', 'of', 'his', 'own', 'high', 'power', 'lenses', 'would', 'not', 'be', 'more', 'disturbing', 'than', 'a', 'strong', 'emotion', 'in', 'a', 'nature', 'such', 'as', 'his'], ['and', 'yet', 'there', 'was', 'but', 'one', 'woman', 'to', 'him', 'and', 'that', 'woman', 'was', 'the', 'late', 'irene', 'adler', 'of', 'dubious', 'and', 'questionable', 'memory'], ['i', 'had', 'seen', 'little', 'of', 'holmes', 'lately'], ['my', 'marriage', 'had', 'drifted', 'us', 'away', 'from', 'each', 'other'], ['my', 'own', 'complete', 'happiness', 'and', 'the', 'home', 'centred', 'interests', 'which', 'rise', 'up', 'around', 'the', 'man', 'who', 'first', 'finds', 'himself', 'master', 'of', 'his', 'own', 'establishment', 'were', 'sufficient', 'to', 'absorb', 'all', 'my', 'attention', 'while', 'holmes', 'who', 'loathed', 'every', 'form', 'of', 'society', 'with', 'his', 'whole', 'bohemian', 'soul', 'remained', 'in', 'our', 'lodgings', 'in', 'baker', 'street', 'buried', 'among', 'his', 'old', 'books', 'and', 'alternating', 'from', 'week', 'to', 'week', 'between', 'cocaine', 'and', 'ambition', 'the', 'drowsiness', 'of', 'the', 'drug', 'and', 'the', 'fierce', 'energy', 'of', 'his', 'own', 'keen', 'nature'], ['he', 'was', 'still', 'as', 'ever', 'deeply', 'attracted', 'by', 'the', 'study', 'of', 'crime', 'and', 'occupied', 'his', 'immense', 'faculties', 'and', 'extraordinary', 'powers', 'of', 'observation', 'in', 'following', 'out', 'those', 'clues', 'and', 'clearing', 'up', 'those', 'mysteries', 'which', 'had', 'been', 'abandoned', 'as', 'hopeless', 'by', 'the', 'official', 'police'], ['from', 'time', 'to', 'time', 'i', 'heard', 'some', 'vague', 'account', 'of', 'his', 'doings', 'of', 'his', 'summons', 'to', 'odessa', 'in', 'the', 'case', 'of', 'the', 'trepoff', 'murder', 'of', 'his', 'clearing', 'up', 'of', 'the', 'singular', 'tragedy', 'of', 'the', 'atkinson', 'brothers', 'at', 'trincomalee', 'and', 'finally', 'of', 'the', 'mission', 'which', 'he', 'had', 'accomplished', 'so', 'delicately', 'and', 'successfully', 'for', 'the', 'reigning', 'family', 'of', 'holland'], ['beyond', 'these', 'signs', 'of', 'his', 'activity', 'however', 'which', 'i', 'merely', 'shared', 'with', 'all', 'the', 'readers', 'of', 'the', 'daily', 'press', 'i', 'knew', 'little', 'of', 'my', 'former', 'friend', 'and', 'companion'], ['one', 'night', 'it', 'was', 'on', 'the', 'twentieth', 'of', 'march', '1888', 'i', 'was', 'returning', 'from', 'a', 'journey', 'to', 'a', 'patient', '(for', 'i', 'had', 'now', 'returned', 'to', 'civil', 'practice)', 'when', 'my', 'way', 'led', 'me', 'through', 'baker', 'street'], ['as', 'i', 'passed', 'the', 'well', 'remembered', 'door', 'which', 'must', 'always', 'be', 'associated', 'in', 'my', 'mind', 'with', 'my', 'wooing', 'and', 'with', 'the', 'dark', 'incidents', 'of', 'the', 'study', 'in', 'scarlet', 'i', 'was', 'seized', 'with', 'a', 'keen', 'desire', 'to', 'see', 'holmes', 'again', 'and', 'to', 'know', 'how', 'he', 'was', 'employing', 'his', 'extraordinary', 'powers'], ['his', 'rooms', 'were', 'brilliantly', 'lit', 'and', 'even', 'as', 'i', 'looked', 'up', 'i', 'saw', 'his', 'tall', 'spare', 'figure', 'pass', 'twice', 'in', 'a', 'dark', 'silhouette', 'against', 'the', 'blind'], ['he', 'was', 'pacing', 'the', 'room', 'swiftly', 'eagerly', 'with', 'his', 'head', 'sunk', 'upon', 'his', 'chest', 'and', 'his', 'hands', 'clasped', 'behind', 'him'], ['to', 'me', 'who', 'knew', 'his', 'every', 'mood', 'and', 'habit', 'his', 'attitude', 'and', 'manner', 'told', 'their', 'own', 'story'], ['he', 'was', 'at', 'work', 'again'], ['he', 'had', 'risen', 'out', 'of', 'his', 'drug', 'created', 'dreams', 'and', 'was', 'hot', 'upon', 'the', 'scent', 'of', 'some', 'new', 'problem'], ['i', 'rang', 'the', 'bell', 'and', 'was', 'shown', 'up', 'to', 'the', 'chamber', 'which', 'had', 'formerly', 'been', 'in', 'part', 'my', 'own'], ['his', 'manner', 'was', 'not', 'effusive'], ['it', 'seldom', 'was', 'but', 'he', 'was', 'glad', 'i', 'think', 'to', 'see', 'me'], ['with', 'hardly', 'a', 'word', 'spoken', 'but', 'with', 'a', 'kindly', 'eye', 'he', 'waved', 'me', 'to', 'an', 'armchair', 'threw', 'across', 'his', 'case', 'of', 'cigars', 'and', 'indicated', 'a', 'spirit', 'case', 'and', 'a', 'gasogene', 'in', 'the', 'corner'], ['then', 'he', 'stood', 'before', 'the', 'fire', 'and', 'looked', 'me', 'over', 'in', 'his', 'singular', 'introspective', 'fashion'], ['wedlock', 'suits', 'you', 'he', 'remarked'], ['i', 'think', 'watson', 'that', 'you', 'have', 'put', 'on', 'seven', 'and', 'a', 'half', 'pounds', 'since', 'i', 'saw', 'you'], ['seven', 'i', 'answered'], ['indeed', 'i', 'should', 'have', 'thought', 'a', 'little', 'more'], ['just', 'a', 'trifle', 'more', 'i', 'fancy', 'watson'], ['and', 'in', 'practice', 'again', 'i', 'observe'], ['you', 'did', 'not', 'tell', 'me', 'that', 'you', 'intended', 'to', 'go', 'into', 'harness'], ['then', 'how', 'do', 'you', 'know', 'i', 'see', 'it', 'i', 'deduce', 'it'], ['how', 'do', 'i', 'know', 'that', 'you', 'have', 'been', 'getting', 'yourself', 'very', 'wet', 'lately', 'and', 'that', 'you', 'have', 'a', 'most', 'clumsy', 'and', 'careless', 'servant', 'girl', 'my', 'dear', 'holmes', 'said', 'i', 'this', 'is', 'too', 'much'], ['you', 'would', 'certainly', 'have', 'been', 'burned', 'had', 'you', 'lived', 'a', 'few', 'centuries', 'ago'], ['it', 'is', 'true', 'that', 'i', 'had', 'a', 'country', 'walk', 'on', 'thursday', 'and', 'came', 'home', 'in', 'a', 'dreadful', 'mess', 'but', 'as', 'i', 'have', 'changed', 'my', 'clothes', 'i', 'cant', 'imagine', 'how', 'you', 'deduce', 'it'], ['as', 'to', 'mary', 'jane', 'she', 'is', 'incorrigible', 'and', 'my', 'wife', 'has', 'given', 'her', 'notice', 'but', 'there', 'again', 'i', 'fail', 'to', 'see', 'how', 'you', 'work', 'it', 'out'], ['he', 'chuckled', 'to', 'himself', 'and', 'rubbed', 'his', 'long', 'nervous', 'hands', 'together'], ['it', 'is', 'simplicity', 'itself', 'said', 'he', 'my', 'eyes', 'tell', 'me', 'that', 'on', 'the', 'inside', 'of', 'your', 'left', 'shoe', 'just', 'where', 'the', 'firelight', 'strikes', 'it', 'the', 'leather', 'is', 'scored', 'by', 'six', 'almost', 'parallel', 'cuts'], ['obviously', 'they', 'have', 'been', 'caused', 'by', 'someone', 'who', 'has', 'very', 'carelessly', 'scraped', 'round', 'the', 'edges', 'of', 'the', 'sole', 'in', 'order', 'to', 'remove', 'crusted', 'mud', 'from', 'it'], ['hence', 'you', 'see', 'my', 'double', 'deduction', 'that', 'you', 'had', 'been', 'out', 'in', 'vile', 'weather', 'and', 'that', 'you', 'had', 'a', 'particularly', 'malignant', 'boot', 'slitting', 'specimen', 'of', 'the', 'london', 'slavey'], ['as', 'to', 'your', 'practice', 'if', 'a', 'gentleman', 'walks', 'into', 'my', 'rooms', 'smelling', 'of', 'iodoform', 'with', 'a', 'black', 'mark', 'of', 'nitrate', 'of', 'silver', 'upon', 'his', 'right', 'forefinger', 'and', 'a', 'bulge', 'on', 'the', 'right', 'side', 'of', 'his', 'top', 'hat', 'to', 'show', 'where', 'he', 'has', 'secreted', 'his', 'stethoscope', 'i', 'must', 'be', 'dull', 'indeed', 'if', 'i', 'do', 'not', 'pronounce', 'him', 'to', 'be', 'an', 'active', 'member', 'of', 'the', 'medical', 'profession'], ['i', 'could', 'not', 'help', 'laughing', 'at', 'the', 'ease', 'with', 'which', 'he', 'explained', 'his', 'process', 'of', 'deduction'], ['when', 'i', 'hear', 'you', 'give', 'your', 'reasons', 'i', 'remarked', 'the', 'thing', 'always', 'appears', 'to', 'me', 'to', 'be', 'so', 'ridiculously', 'simple', 'that', 'i', 'could', 'easily', 'do', 'it', 'myself', 'though', 'at', 'each', 'successive', 'instance', 'of', 'your', 'reasoning', 'i', 'am', 'baffled', 'until', 'you', 'explain', 'your', 'process'], ['and', 'yet', 'i', 'believe', 'that', 'my', 'eyes', 'are', 'as', 'good', 'as', 'yours'], ['quite', 'so', 'he', 'answered', 'lighting', 'a', 'cigarette', 'and', 'throwing', 'himself', 'down', 'into', 'an', 'armchair'], ['you', 'see', 'but', 'you', 'do', 'not', 'observe'], ['the', 'distinction', 'is', 'clear'], ['for', 'example', 'you', 'have', 'frequently', 'seen', 'the', 'steps', 'which', 'lead', 'up', 'from', 'the', 'hall', 'to', 'this', 'room'], ['frequently'], ['how', 'often', 'well', 'some', 'hundreds', 'of', 'times'], ['then', 'how', 'many', 'are', 'there', 'how', 'many', 'i', 'dont', 'know'], ['quite', 'so', 'you', 'have', 'not', 'observed'], ['and', 'yet', 'you', 'have', 'seen'], ['that', 'is', 'just', 'my', 'point'], ['now', 'i', 'know', 'that', 'there', 'are', 'seventeen', 'steps', 'because', 'i', 'have', 'both', 'seen', 'and', 'observed'], ['by', 'the', 'way', 'since', 'you', 'are', 'interested', 'in', 'these', 'little', 'problems', 'and', 'since', 'you', 'are', 'good', 'enough', 'to', 'chronicle', 'one', 'or', 'two', 'of', 'my', 'trifling', 'experiences', 'you', 'may', 'be', 'interested', 'in', 'this'], ['he', 'threw', 'over', 'a', 'sheet', 'of', 'thick', 'pink', 'tinted', 'notepaper', 'which', 'had', 'been', 'lying', 'open', 'upon', 'the', 'table'], ['it', 'came', 'by', 'the', 'last', 'post', 'said', 'he'], ['read', 'it', 'aloud'], ['the', 'note', 'was', 'undated', 'and', 'without', 'either', 'signature', 'or', 'address'], ['there', 'will', 'call', 'upon', 'you', 'to', 'night', 'at', 'a', 'quarter', 'to', 'eight', 'oclock', 'it', 'said', 'a', 'gentleman', 'who', 'desires', 'to', 'consult', 'you', 'upon', 'a', 'matter', 'of', 'the', 'very', 'deepest', 'moment'], ['your', 'recent', 'services', 'to', 'one', 'of', 'the', 'royal', 'houses', 'of', 'europe', 'have', 'shown', 'that', 'you', 'are', 'one', 'who', 'may', 'safely', 'be', 'trusted', 'with', 'matters', 'which', 'are', 'of', 'an', 'importance', 'which', 'can', 'hardly', 'be', 'exaggerated'], ['this', 'account', 'of', 'you', 'we', 'have', 'from', 'all', 'quarters', 'received'], ['be', 'in', 'your', 'chamber', 'then', 'at', 'that', 'hour', 'and', 'do', 'not', 'take', 'it', 'amiss', 'if', 'your', 'visitor', 'wear', 'a', 'mask'], ['this', 'is', 'indeed', 'a', 'mystery', 'i', 'remarked'], ['what', 'do', 'you', 'imagine', 'that', 'it', 'means', 'i', 'have', 'no', 'data', 'yet'], ['it', 'is', 'a', 'capital', 'mistake', 'to', 'theorise', 'before', 'one', 'has', 'data'], ['insensibly', 'one', 'begins', 'to', 'twist', 'facts', 'to', 'suit', 'theories', 'instead', 'of', 'theories', 'to', 'suit', 'facts'], ['but', 'the', 'note', 'itself'], ['what', 'do', 'you', 'deduce', 'from', 'it', 'i', 'carefully', 'examined', 'the', 'writing', 'and', 'the', 'paper', 'upon', 'which', 'it', 'was', 'written'], ['the', 'man', 'who', 'wrote', 'it', 'was', 'presumably', 'well', 'to', 'do', 'i', 'remarked', 'endeavouring', 'to', 'imitate', 'my', 'companions', 'processes'], ['such', 'paper', 'could', 'not', 'be', 'bought', 'under', 'half', 'a', 'crown', 'a', 'packet'], ['it', 'is', 'peculiarly', 'strong', 'and', 'stiff'], ['peculiar', 'that', 'is', 'the', 'very', 'word', 'said', 'holmes'], ['it', 'is', 'not', 'an', 'english', 'paper', 'at', 'all'], ['hold', 'it', 'up', 'to', 'the', 'light'], ['i', 'did', 'so', 'and', 'saw', 'a', 'large', 'e', 'with', 'a', 'small', 'g', 'a', 'p', 'and', 'a', 'large', 'g', 'with', 'a', 'small', 't', 'woven', 'into', 'the', 'texture', 'of', 'the', 'paper'], ['what', 'do', 'you', 'make', 'of', 'that', 'asked', 'holmes'], ['the', 'name', 'of', 'the', 'maker', 'no', 'doubt', 'or', 'his', 'monogram', 'rather'], ['not', 'at', 'all'], ['the', 'g', 'with', 'the', 'small', 't', 'stands', 'for', 'gesellschaft', 'which', 'is', 'the', 'german', 'for', 'company']]\n"
          ]
        }
      ]
    },
    {
      "cell_type": "markdown",
      "metadata": {
        "id": "E6x9FAMITPEu"
      },
      "source": [
        "## What if I wanted it broken down by paragraph?\n",
        "\n",
        "This time, we'll leave punctuation in."
      ]
    },
    {
      "cell_type": "code",
      "execution_count": null,
      "metadata": {
        "id": "njdcG9oMTPEu",
        "outputId": "e002bfb6-1e35-4d74-e2d7-2676feab5706"
      },
      "outputs": [
        {
          "name": "stdout",
          "output_type": "stream",
          "text": [
            "['', '', 'cover', '', '', '', '', 'The Adventures of Sherlock Holmes', '', 'by Arthur Conan Doyle', '', '', 'Contents', '', '   I.     A Scandal in Bohemia', '   II.    The Red-Headed League', '   III.   A Case of Identity', '   IV.    The Boscombe Valley Mystery', '   V.     The Five Orange Pips', '   VI.    The Man with the Twisted Lip', '   VII.   The Adventure of the Blue Carbuncle', '   VIII.  The Adventure of the Speckled Band', '   IX.    The Adventure of the Engineer’s Thumb', '   X.     The Adventure of the Noble Bachelor', '   XI.    The Adventure of the Beryl Coronet', '   XII.   The Adventure of the Copper Beeches', '', '', '', '', 'I. A SCANDAL IN BOHEMIA', '', '', 'I.', '', 'To Sherlock Holmes she is always _the_ woman. I have seldom heard him', 'mention her under any other name. In his eyes she eclipses and', 'predominates the whole of her sex. It was not that he felt any emotion', 'akin to love for Irene Adler. All emotions, and that one particularly,', 'were abhorrent to his cold, precise but admirably balanced mind. He', 'was, I take it, the most perfect reasoning and observing machine that', 'the world has seen, but as a lover he would have placed himself in a', 'false position. He never spoke of the softer passions, save with a gibe', 'and a sneer. They were admirable things for the observer—excellent for', 'drawing the veil from men’s motives and actions. But for the trained', 'reasoner to admit such intrusions into his own delicate and finely', 'adjusted temperament was to introduce a distracting factor which might', 'throw a doubt upon all his mental results. Grit in a sensitive', 'instrument, or a crack in one of his own high-power lenses, would not', 'be more disturbing than a strong emotion in a nature such as his. And']\n"
          ]
        }
      ],
      "source": [
        "sherlock_paragraphs = sherlock_text.split(\"\\r\\n\")\n",
        "print(sherlock_paragraphs[:50]) #look at the first few paragraphs"
      ]
    },
    {
      "cell_type": "code",
      "execution_count": null,
      "metadata": {
        "id": "4JOghMLoTPEu",
        "outputId": "2f5e7c65-dda7-4783-b6d6-9ec4bf1679ef"
      },
      "outputs": [
        {
          "name": "stdout",
          "output_type": "stream",
          "text": [
            "[[], [], ['cover'], [], [], [], [], ['The', 'Adventures', 'of', 'Sherlock', 'Holmes'], [], ['by', 'Arthur', 'Conan', 'Doyle'], [], [], ['Contents'], [], ['I', '.', 'A', 'Scandal', 'in', 'Bohemia'], ['II', '.', 'The', 'Red', '-', 'Headed', 'League'], ['III', '.', 'A', 'Case', 'of', 'Identity'], ['IV', '.', 'The', 'Boscombe', 'Valley', 'Mystery'], ['V', '.', 'The', 'Five', 'Orange', 'Pips'], ['VI', '.', 'The', 'Man', 'with', 'the', 'Twisted', 'Lip'], ['VII', '.', 'The', 'Adventure', 'of', 'the', 'Blue', 'Carbuncle'], ['VIII', '.', 'The', 'Adventure', 'of', 'the', 'Speckled', 'Band'], ['IX', '.', 'The', 'Adventure', 'of', 'the', 'Engineer', '’', 's', 'Thumb'], ['X', '.', 'The', 'Adventure', 'of', 'the', 'Noble', 'Bachelor'], ['XI', '.', 'The', 'Adventure', 'of', 'the', 'Beryl', 'Coronet'], ['XII', '.', 'The', 'Adventure', 'of', 'the', 'Copper', 'Beeches'], [], [], [], [], ['I', '.', 'A', 'SCANDAL', 'IN', 'BOHEMIA'], [], [], ['I', '.'], [], ['To', 'Sherlock', 'Holmes', 'she', 'is', 'always', '_the_', 'woman', '.', 'I', 'have', 'seldom', 'heard', 'him'], ['mention', 'her', 'under', 'any', 'other', 'name', '.', 'In', 'his', 'eyes', 'she', 'eclipses', 'and'], ['predominates', 'the', 'whole', 'of', 'her', 'sex', '.', 'It', 'was', 'not', 'that', 'he', 'felt', 'any', 'emotion'], ['akin', 'to', 'love', 'for', 'Irene', 'Adler', '.', 'All', 'emotions', ',', 'and', 'that', 'one', 'particularly', ','], ['were', 'abhorrent', 'to', 'his', 'cold', ',', 'precise', 'but', 'admirably', 'balanced', 'mind', '.', 'He'], ['was', ',', 'I', 'take', 'it', ',', 'the', 'most', 'perfect', 'reasoning', 'and', 'observing', 'machine', 'that'], ['the', 'world', 'has', 'seen', ',', 'but', 'as', 'a', 'lover', 'he', 'would', 'have', 'placed', 'himself', 'in', 'a'], ['false', 'position', '.', 'He', 'never', 'spoke', 'of', 'the', 'softer', 'passions', ',', 'save', 'with', 'a', 'gibe'], ['and', 'a', 'sneer', '.', 'They', 'were', 'admirable', 'things', 'for', 'the', 'observer', '—', 'excellent', 'for'], ['drawing', 'the', 'veil', 'from', 'men', '’', 's', 'motives', 'and', 'actions', '.', 'But', 'for', 'the', 'trained'], ['reasoner', 'to', 'admit', 'such', 'intrusions', 'into', 'his', 'own', 'delicate', 'and', 'finely'], ['adjusted', 'temperament', 'was', 'to', 'introduce', 'a', 'distracting', 'factor', 'which', 'might'], ['throw', 'a', 'doubt', 'upon', 'all', 'his', 'mental', 'results', '.', 'Grit', 'in', 'a', 'sensitive'], ['instrument', ',', 'or', 'a', 'crack', 'in', 'one', 'of', 'his', 'own', 'high', '-', 'power', 'lenses', ',', 'would', 'not'], ['be', 'more', 'disturbing', 'than', 'a', 'strong', 'emotion', 'in', 'a', 'nature', 'such', 'as', 'his', '.', 'And']]\n"
          ]
        }
      ],
      "source": [
        "chars_to_separate = [\",\",\"!\",\"?\",\";\",\":\",\"“\",\"”\",\"’\",\"‘\",\"-\",\"—\",\".\"]\n",
        "\n",
        "for idx in range(len(sherlock_paragraphs)):\n",
        "    for c in chars_to_separate:\n",
        "        sherlock_paragraphs[idx] = sherlock_paragraphs[idx].replace(c,\" \"+c+\" \") #put a space before and after the character\n",
        "\n",
        "    sherlock_paragraphs[idx] = sherlock_paragraphs[idx].split()\n",
        "\n",
        "print(sherlock_paragraphs[:50])"
      ]
    },
    {
      "cell_type": "markdown",
      "metadata": {
        "id": "Wo40zqXNTPEu"
      },
      "source": [
        "## Exercise\n",
        "\n",
        "Remove empty paragraphs from `sherlock_paragraphs`."
      ]
    },
    {
      "cell_type": "markdown",
      "metadata": {
        "id": "UdDtios8TPEv"
      },
      "source": [
        "## Working with HTML data\n",
        "\n",
        "Most data you retrieve from the web is not in text format - it is usually has lots of html tags like `<title>`, `</br>`, and `<p>`.\n"
      ]
    },
    {
      "cell_type": "code",
      "execution_count": null,
      "metadata": {
        "id": "FT4rqvIETPEv",
        "outputId": "5fc20a47-fcc3-4848-a2c7-ed4b126e5846"
      },
      "outputs": [
        {
          "name": "stdout",
          "output_type": "stream",
          "text": [
            "<Response [200]>\n",
            "{'date': 'Mon, 25 Sep 2023 12:17:58 GMT', 'server': 'mw2309.codfw.wmnet', 'x-content-type-options': 'nosniff', 'content-language': 'en', 'accept-ch': '', 'vary': 'Accept-Encoding,Cookie', 'last-modified': 'Mon, 25 Sep 2023 12:02:48 GMT', 'content-type': 'text/html; charset=UTF-8', 'content-encoding': 'gzip', 'age': '60160', 'x-cache': 'cp2027 hit, cp2027 hit/44', 'x-cache-status': 'hit-front', 'server-timing': 'cache;desc=\"hit-front\", host;desc=\"cp2027\"', 'strict-transport-security': 'max-age=106384710; includeSubDomains; preload', 'report-to': '{ \"group\": \"wm_nel\", \"max_age\": 604800, \"endpoints\": [{ \"url\": \"https://intake-logging.wikimedia.org/v1/events?stream=w3c.reportingapi.network_error&schema_uri=/w3c/reportingapi/network_error/1.0.0\" }] }', 'nel': '{ \"report_to\": \"wm_nel\", \"max_age\": 604800, \"failure_fraction\": 0.05, \"success_fraction\": 0.0}', 'set-cookie': 'WMF-Last-Access=26-Sep-2023;Path=/;HttpOnly;secure;Expires=Sat, 28 Oct 2023 00:00:00 GMT, WMF-Last-Access-Global=26-Sep-2023;Path=/;Domain=.wikipedia.org;HttpOnly;secure;Expires=Sat, 28 Oct 2023 00:00:00 GMT, WMF-DP=ca0;Path=/;HttpOnly;secure;Expires=Tue, 26 Sep 2023 00:00:00 GMT, GeoIP=US:IA:Des_Moines:41.59:-93.62:v4; Path=/; secure; Domain=.wikipedia.org, NetworkProbeLimit=0.001;Path=/;Secure;Max-Age=3600', 'x-client-ip': '75.162.186.253', 'cache-control': 'private, s-maxage=0, max-age=0, must-revalidate', 'accept-ranges': 'bytes', 'content-length': '120924'}\n"
          ]
        }
      ],
      "source": [
        "import requests\n",
        "\n",
        "response = requests.get(\"https://en.wikipedia.org/wiki/Sherlock_Holmes\")\n",
        "\n",
        "print(response)\n",
        "print(response.headers)"
      ]
    },
    {
      "cell_type": "code",
      "execution_count": null,
      "metadata": {
        "id": "8pNdBy8WTPEv",
        "outputId": "5b71bf7a-4d2f-48df-9ea1-c64b2e6f82aa"
      },
      "outputs": [
        {
          "data": {
            "text/plain": [
              "'<!DOCTYPE html>\\n<html class=\"client-nojs vector-feature-language-in-header-enabled vector-feature-language-in-main-page-header-disabled vector-feature-sticky-header-disabled vector-feature-page-tools-pinned-disabled vector-feature-toc-pinned-clientpref-1 vector-feature-main-menu-pinned-disabled vector-feature-limited-width-clientpref-1 vector-feature-limited-width-content-enabled vector-feature-zebra-design-disabled vector-feature-custom-font-size-clientpref-disabled vector-feature-client-preferences-disabled\" lang=\"en\" dir=\"ltr\">\\n<head>\\n<meta charset=\"UTF-8\">\\n<title>Sherlock Holmes - Wikipedia</title>\\n<script>(function(){var className=\"client-js vector-feature-language-in-header-enabled vector-feature-language-in-main-page-header-disabled vector-feature-sticky-header-disabled vector-feature-page-tools-pinned-disabled vector-feature-toc-pinned-clientpref-1 vector-feature-main-menu-pinned-disabled vector-feature-limited-width-clientpref-1 vector-feature-limited-width-content-enabled vector-feature-zebra-design-disabled vector-feature-custom-font-size-clientpref-disabled vector-feature-client-preferences-disabled\";var cookie=document.cookie.match(/(?:^|; )enwikimwclientpreferences=([^;]+)/);if(cookie){cookie[1].split(\\'%2C\\').forEach(function(pref){className=className.replace(new RegExp(\\'(^| )\\'+pref.replace(/-clientpref-\\\\w+$|[^\\\\w-]+/g,\\'\\')+\\'-clientpref-\\\\\\\\w+( |$)\\'),\\'$1\\'+pref+\\'$2\\');});}document.documentElement.className=className;}());RLCONF={\"wgBreakFrames\":false,\"wgSeparatorTransformTable\":[\"\",\"\"],\"wgDigitTransformTable\":[\"\",\"\"],\"wgDefaultDateFormat\":\"dmy\",\"wgMonthNames\":[\"\",\"January\",\"February\",\\n\"March\",\"April\",\"May\",\"June\",\"July\",\"August\",\"September\",\"October\",\"November\",\"December\"],\"wgRequestId\":\"b3914f09-9e66-4414-abe2-50eb0a1ba426\",\"wgCanonicalNamespace\":\"\",\"wgCanonicalSpecialPageName\":false,\"wgNamespaceNumber\":0,\"wgPageName\":\"Sherlock_Holmes\",\"wgTitle\":\"Sherlock Holmes\",\"wgCurRevisionId\":1171425990,\"wgRevisionId\":1171425990,\"wgArticleId\":27159,\"wgIsArticle\":true,\"wgIsRedirect\":false,\"wgAction\":\"view\",\"wgUserName\":null,\"wgUserGroups\":[\"*\"],\"wgCategories\":[\"Webarchive template wayback links\",\"Articles with short description\",\"Short description matches Wikidata\",\"Wikipedia indefinitely semi-protected pages\",\"Use dmy dates from June 2021\",\"Use British English from June 2021\",\"Short description is different from Wikidata\",\"Articles using Infobox character with multiple unlabeled fields\",\"Pages using Sister project links with hidden wikidata\",\"Pages using Sister project links with default search\",\"Articles with FAST identifiers\",\"Articles with ISNI identifiers\",\\n\"Articles with VIAF identifiers\",\"Articles with BIBSYS identifiers\",\"Articles with BNF identifiers\",\"Articles with BNFdata identifiers\",\"Articles with CANTICN identifiers\",\"Articles with GND identifiers\",\"Articles with J9U identifiers\",\"Articles with LCCN identifiers\",\"Articles with Libris identifiers\",\"Articles with NKC identifiers\",\"Articles with NLA identifiers\",\"Articles with NLK identifie'"
            ]
          },
          "execution_count": 22,
          "metadata": {},
          "output_type": "execute_result"
        }
      ],
      "source": [
        "response.text[:3000]"
      ]
    },
    {
      "cell_type": "markdown",
      "metadata": {
        "id": "92GK3V_STPEv"
      },
      "source": [
        "## Beautiful Soup\n",
        "\n",
        "The Beautiful Soup package is great for *parsing* and manipulating HTML: https://www.crummy.com/software/BeautifulSoup/bs4/doc/"
      ]
    },
    {
      "cell_type": "code",
      "execution_count": null,
      "metadata": {
        "id": "ujOqGfmxTPEw"
      },
      "outputs": [],
      "source": [
        "from bs4 import BeautifulSoup\n",
        "import requests\n",
        "\n",
        "response = requests.get(\"https://en.wikipedia.org/wiki/Sherlock_Holmes\")\n",
        "sherlock_wiki_html = BeautifulSoup(response.text, 'html.parser')"
      ]
    },
    {
      "cell_type": "markdown",
      "metadata": {
        "id": "aED95rGqTPEw"
      },
      "source": [
        "You can look for a title tag:"
      ]
    },
    {
      "cell_type": "code",
      "execution_count": null,
      "metadata": {
        "id": "m2XxL6CjTPEw",
        "outputId": "68b3ea21-a07c-4fa7-80e9-52db013711d9"
      },
      "outputs": [
        {
          "name": "stdout",
          "output_type": "stream",
          "text": [
            "<title>Sherlock Holmes - Wikipedia</title>\n"
          ]
        }
      ],
      "source": [
        "print(sherlock_wiki_html.title)"
      ]
    },
    {
      "cell_type": "markdown",
      "metadata": {
        "id": "pwddh6HRTPEx"
      },
      "source": [
        "Or look for all of the `<a>` tags which are the links to other pages"
      ]
    },
    {
      "cell_type": "code",
      "execution_count": null,
      "metadata": {
        "id": "UumIUZTmTPEx",
        "outputId": "451addb7-7930-40ad-90ff-840929c9edb8"
      },
      "outputs": [
        {
          "name": "stdout",
          "output_type": "stream",
          "text": [
            "#bodyContent\n",
            "/wiki/Main_Page\n",
            "/wiki/Wikipedia:Contents\n",
            "/wiki/Portal:Current_events\n",
            "/wiki/Special:Random\n",
            "/wiki/Wikipedia:About\n",
            "//en.wikipedia.org/wiki/Wikipedia:Contact_us\n",
            "https://donate.wikimedia.org/wiki/Special:FundraiserRedirector?utm_source=donate&utm_medium=sidebar&utm_campaign=C13_en.wikipedia.org&uselang=en\n",
            "/wiki/Help:Contents\n",
            "/wiki/Help:Introduction\n",
            "/wiki/Wikipedia:Community_portal\n",
            "/wiki/Special:RecentChanges\n",
            "/wiki/Wikipedia:File_upload_wizard\n",
            "/wiki/Main_Page\n",
            "/wiki/Special:Search\n",
            "/w/index.php?title=Special:CreateAccount&returnto=Sherlock+Holmes\n",
            "/w/index.php?title=Special:UserLogin&returnto=Sherlock+Holmes\n",
            "/w/index.php?title=Special:CreateAccount&returnto=Sherlock+Holmes\n",
            "/w/index.php?title=Special:UserLogin&returnto=Sherlock+Holmes\n",
            "/wiki/Help:Introduction\n",
            "/wiki/Special:MyContributions\n",
            "/wiki/Special:MyTalk\n",
            "#\n",
            "#Inspiration_for_the_character\n",
            "#Fictional_character_biography\n",
            "#Family_and_early_life\n",
            "#Life_with_Watson\n",
            "#Practice\n",
            "#The_Great_Hiatus\n",
            "#Retirement\n",
            "#Personality_and_habits\n",
            "#Drug_use\n",
            "#Finances\n",
            "#Attitudes_towards_women\n",
            "#Irene_Adler\n",
            "#Knowledge_and_skills\n",
            "#Holmesian_deduction\n",
            "#Forensic_science\n",
            "#Disguises\n",
            "#Agents\n",
            "#Combat\n",
            "#Pistols\n",
            "#Other_weapons\n",
            "#Personal_combat\n",
            "#Reception\n",
            "#Popularity\n",
            "#Honours\n",
            "#Societies\n",
            "#Legacy\n",
            "#The_detective_story\n",
            "#\"Elementary,_my_dear_Watson\"\n",
            "#The_Great_Game\n",
            "#Museums_and_special_collections\n",
            "#Postcolonial_criticism\n",
            "#Adaptations_and_derived_works\n",
            "#Related_and_derivative_writings\n",
            "#Adaptations_in_other_media\n",
            "#Copyright_issues\n",
            "#Works\n",
            "#Novels\n",
            "#Short_story_collections\n",
            "#See_also\n",
            "#Notes\n",
            "#Sherlock_Holmes_story_references\n",
            "#Citations\n",
            "#Further_reading\n",
            "#External_links\n",
            "https://ar.wikipedia.org/wiki/%D8%B4%D8%B1%D9%84%D9%88%D9%83_%D9%87%D9%88%D9%84%D9%85%D8%B2\n",
            "https://as.wikipedia.org/wiki/%E0%A6%9B%E0%A6%BE%E0%A7%B0%E0%A7%8D%E0%A6%B2%E0%A6%95_%E0%A6%B9%27%E0%A6%AE%E0%A7%8D%E2%80%8C%E0%A6%9B\n",
            "https://ast.wikipedia.org/wiki/Sherlock_Holmes\n",
            "https://az.wikipedia.org/wiki/%C5%9Eerlok_Holms\n",
            "https://bn.wikipedia.org/wiki/%E0%A6%B6%E0%A6%BE%E0%A6%B0%E0%A7%8D%E0%A6%B2%E0%A6%95_%E0%A6%B9%E0%A7%8B%E0%A6%AE%E0%A6%B8\n",
            "https://zh-min-nan.wikipedia.org/wiki/Sherlock_Holmes\n",
            "https://be.wikipedia.org/wiki/%D0%A8%D1%8D%D1%80%D0%BB%D0%B0%D0%BA_%D0%A5%D0%BE%D0%BB%D0%BC%D1%81\n",
            "https://be-tarask.wikipedia.org/wiki/%D0%A8%D1%8D%D1%80%D0%BB%D0%B0%D0%BA_%D0%93%D0%BE%D0%BB%D0%BC%D0%B7\n",
            "https://bcl.wikipedia.org/wiki/Sherlock_Holmes\n",
            "https://bg.wikipedia.org/wiki/%D0%A8%D0%B5%D1%80%D0%BB%D0%BE%D0%BA_%D0%A5%D0%BE%D0%BB%D0%BC%D1%81\n",
            "https://bs.wikipedia.org/wiki/Sherlock_Holmes\n",
            "https://br.wikipedia.org/wiki/Sherlock_Holmes\n",
            "https://ca.wikipedia.org/wiki/Sherlock_Holmes\n",
            "https://cv.wikipedia.org/wiki/%D0%A8%D0%B5%D1%80%D0%BB%D0%BE%D0%BA_%D0%A5%D0%BE%D0%BB%D0%BC%D1%81\n",
            "https://ceb.wikipedia.org/wiki/Sherlock_Holmes\n",
            "https://cs.wikipedia.org/wiki/Sherlock_Holmes\n",
            "https://cy.wikipedia.org/wiki/Sherlock_Holmes\n",
            "https://da.wikipedia.org/wiki/Sherlock_Holmes\n",
            "https://de.wikipedia.org/wiki/Sherlock_Holmes\n",
            "https://et.wikipedia.org/wiki/Sherlock_Holmes\n",
            "https://el.wikipedia.org/wiki/%CE%A3%CE%AD%CF%81%CE%BB%CE%BF%CE%BA_%CE%A7%CE%BF%CE%BB%CE%BC%CF%82\n",
            "https://es.wikipedia.org/wiki/Sherlock_Holmes\n",
            "https://eo.wikipedia.org/wiki/%C5%9Cerloko_Holmso\n",
            "https://eu.wikipedia.org/wiki/Sherlock_Holmes\n",
            "https://fa.wikipedia.org/wiki/%D8%B4%D8%B1%D9%84%D9%88%DA%A9_%D9%87%D9%88%D9%84%D9%85%D8%B2\n",
            "https://fr.wikipedia.org/wiki/Sherlock_Holmes\n",
            "https://fy.wikipedia.org/wiki/Sherlock_Holmes\n",
            "https://ga.wikipedia.org/wiki/Sherlock_Holmes\n",
            "https://gl.wikipedia.org/wiki/Sherlock_Holmes\n",
            "https://ko.wikipedia.org/wiki/%EC%85%9C%EB%A1%9D_%ED%99%88%EC%A6%88\n",
            "https://hy.wikipedia.org/wiki/%D5%87%D5%A5%D6%80%D5%AC%D5%B8%D6%84_%D5%80%D5%B8%D5%AC%D5%B4%D5%BD\n",
            "https://hi.wikipedia.org/wiki/%E0%A4%B6%E0%A5%87%E0%A4%B0%E0%A4%B2%E0%A5%89%E0%A4%95_%E0%A4%B9%E0%A5%8B%E0%A4%AE%E0%A5%8D%E0%A4%B8\n",
            "https://hsb.wikipedia.org/wiki/Sherlock_Holmes\n"
          ]
        }
      ],
      "source": [
        "list_of_links = sherlock_wiki_html.find_all('a')\n",
        "for link in list_of_links[:100]:\n",
        "    print(link.get('href'))"
      ]
    },
    {
      "cell_type": "markdown",
      "metadata": {
        "id": "LqxOiKC6TPEx"
      },
      "source": [
        "## Extracting text with Beautiful Soup\n",
        "\n",
        "Use the `.get_text()` method on the soup object"
      ]
    },
    {
      "cell_type": "code",
      "execution_count": null,
      "metadata": {
        "id": "BNgYvoUGTPEx",
        "outputId": "97641adb-fc4a-403c-e76b-3c4000ac770b"
      },
      "outputs": [
        {
          "data": {
            "text/plain": [
              "'\\n\\n\\n\\nSherlock Holmes - Wikipedia\\n\\n\\n\\n\\n\\n\\n\\n\\n\\n\\n\\n\\n\\n\\n\\n\\n\\n\\n\\n\\n\\n\\n\\n\\n\\n\\n\\n\\n\\n\\n\\n\\n\\n\\nJump to content\\n\\n\\n\\n\\n\\n\\n\\nMain menu\\n\\n\\n\\n\\n\\nMain menu\\nmove to sidebar\\nhide\\n\\n\\n\\n\\t\\tNavigation\\n\\t\\n\\n\\nMain pageContentsCurrent eventsRandom articleAbout WikipediaContact usDonate\\n\\n\\n\\n\\n\\n\\t\\tContribute\\n\\t\\n\\n\\nHelpLearn to editCommunity portalRecent changesUpload file\\n\\n\\n\\n\\n\\nLanguages\\n\\nLanguage links are at the top of the page across from the title.\\n\\n\\n\\n\\n\\n\\n\\n\\n\\n\\n\\n\\n\\n\\n\\n\\n\\n\\n\\nSearch\\n\\n\\n\\n\\n\\n\\n\\n\\n\\n\\n\\nSearch\\n\\n\\n\\n\\n\\n\\n\\n\\nCreate accountLog in\\n\\n\\n\\n\\n\\n\\nPersonal tools\\n\\n\\n\\n\\n\\n Create account Log in\\n\\n\\n\\n\\n\\n\\t\\tPages for logged out editors learn more\\n\\n\\n\\nContributionsTalk\\n\\n\\n\\n\\n\\n\\n\\n\\n\\n\\n\\n\\n\\n\\n\\n\\n\\n\\n\\n\\n\\n\\n\\n\\n\\n\\n\\nContents\\nmove to sidebar\\nhide\\n\\n\\n\\n\\n(Top)\\n\\n\\n\\n\\n\\n1Inspiration for the character\\n\\n\\n\\n\\n\\n\\n\\n2Fictional character biography\\n\\n\\n\\nToggle Fictional character biography subsection\\n\\n\\n\\n\\n\\n2.1Family and early life\\n\\n\\n\\n\\n\\n\\n\\n2.2Life with Watson\\n\\n\\n\\n\\n\\n\\n\\n2.3Practice\\n\\n\\n\\n\\n\\n\\n\\n2.4The Great Hiatus\\n\\n\\n\\n\\n\\n\\n\\n2.5Retirement\\n\\n\\n\\n\\n\\n\\n\\n\\n\\n3Personality and habits\\n\\n\\n\\nToggle Personality and habits subsection\\n\\n\\n\\n\\n\\n3.1Drug use\\n\\n\\n\\n\\n\\n\\n\\n3.2Finances\\n\\n\\n\\n\\n\\n\\n\\n3.3Attitudes towards women\\n\\n\\n\\n\\n\\n3.3.1Irene Adler\\n\\n\\n\\n\\n\\n\\n\\n\\n\\n\\n\\n4Knowledge and skills\\n\\n\\n\\nToggle Knowledge and skills subsection\\n\\n\\n\\n\\n\\n4.1Holmesian deduction\\n\\n\\n\\n\\n\\n\\n\\n4.2Forensic science\\n\\n\\n\\n\\n\\n\\n\\n4.3Disguises\\n\\n\\n\\n\\n\\n\\n\\n4.4Agents\\n\\n\\n\\n\\n\\n\\n\\n4.5Combat\\n\\n\\n\\n\\n\\n4.5.1Pistols\\n\\n\\n\\n\\n\\n\\n\\n4.5.2Other weapons\\n\\n\\n\\n\\n\\n\\n\\n4.5.3Personal combat\\n\\n\\n\\n\\n\\n\\n\\n\\n\\n\\n\\n5Reception\\n\\n\\n\\nToggle Reception subsection\\n\\n\\n\\n\\n\\n5.1Popularity\\n\\n\\n\\n\\n\\n\\n\\n5.2Honours\\n\\n\\n\\n\\n\\n\\n\\n5.3Societies\\n\\n\\n\\n\\n\\n\\n\\n\\n\\n6Legacy\\n\\n\\n\\nToggle Legacy subsection\\n\\n\\n\\n\\n\\n6.1The detective story\\n\\n\\n\\n\\n\\n\\n\\n6.2\"Elementary, my dear Watson\"\\n\\n\\n\\n\\n\\n\\n\\n6.3The Great Game\\n\\n\\n\\n\\n\\n\\n\\n6.4Museums and special collections\\n\\n\\n\\n\\n\\n\\n\\n6.5Postcolonial criticism\\n\\n\\n\\n\\n\\n\\n\\n\\n\\n7Adaptations and derived works\\n\\n\\n\\nToggle Adaptations and derived works subsection\\n\\n\\n\\n\\n\\n7.1Related and derivative writings\\n\\n\\n\\n\\n\\n\\n\\n7.2Adaptations in other media\\n\\n\\n\\n\\n\\n\\n\\n7.3Copyright issues\\n\\n\\n\\n\\n\\n\\n\\n\\n\\n8Works\\n\\n\\n\\nToggle Works subsection\\n\\n\\n\\n\\n\\n8.1Novels\\n\\n\\n\\n\\n\\n\\n\\n8.2Short story collections\\n\\n\\n\\n\\n\\n\\n\\n\\n\\n9See also\\n\\n\\n\\n\\n\\n\\n\\n10Notes\\n\\n\\n\\n\\n\\n\\n\\n11Sherlock Holmes story r'"
            ]
          },
          "execution_count": 26,
          "metadata": {},
          "output_type": "execute_result"
        }
      ],
      "source": [
        "sherlock_wiki_text = sherlock_wiki_html.get_text()\n",
        "\n",
        "sherlock_wiki_text[:2000]"
      ]
    },
    {
      "cell_type": "code",
      "execution_count": null,
      "metadata": {
        "id": "pyx-nfQnTPEx",
        "outputId": "a470a0f8-df10-427c-ea4c-39352df5dbf2"
      },
      "outputs": [
        {
          "data": {
            "text/plain": [
              "'    Sherlock Holmes - Wikipedia                                   Jump to content        Main menu      Main menu move to sidebar hide    \\t\\tNavigation \\t   Main pageContentsCurrent eventsRandom articleAbout WikipediaContact usDonate      \\t\\tContribute \\t   HelpLearn to editCommunity portalRecent changesUpload file      Languages  Language links are at the top of the page across from the title.                    Search            Search         Create accountLog in       Personal tools       Create account Log in      \\t\\tPages for logged out editors learn more    ContributionsTalk                            Contents move to sidebar hide     (Top)      1Inspiration for the character        2Fictional character biography    Toggle Fictional character biography subsection      2.1Family and early life        2.2Life with Watson        2.3Practice        2.4The Great Hiatus        2.5Retirement          3Personality and habits    Toggle Personality and habits subsection      3.1Drug use        3.2Finances        3.3Attitudes towards women      3.3.1Irene Adler            4Knowledge and skills    Toggle Knowledge and skills subsection      4.1Holmesian deduction        4.2Forensic science        4.3Disguises        4.4Agents        4.5Combat      4.5.1Pistols        4.5.2Other weapons        4.5.3Personal combat            5Reception    Toggle Reception subsection      5.1Popularity        5.2Honours        5.3Societies          6Legacy    Toggle Legacy subsection      6.1The detective story        6.2\"Elementary, my dear Watson\"        6.3The Great Game        6.4Museums and special collections        6.5Postcolonial criticism          7Adaptations and derived works    Toggle Adaptations and derived works subsection      7.1Related and derivative writings        7.2Adaptations in other media        7.3Copyright issues          8Works    Toggle Works subsection      8.1Novels        8.2Short story collections          9See also        10Notes        11Sherlock Holmes story r'"
            ]
          },
          "execution_count": 27,
          "metadata": {},
          "output_type": "execute_result"
        }
      ],
      "source": [
        "sherlock_wiki_no_lines = sherlock_wiki_text.replace(\"\\n\",\" \")\n",
        "sherlock_wiki_no_lines[:2000]"
      ]
    },
    {
      "cell_type": "code",
      "execution_count": null,
      "metadata": {
        "id": "xMF9kzFlTPEx",
        "outputId": "ae972114-f926-4646-dfa9-c1f6c9d0c541"
      },
      "outputs": [
        {
          "data": {
            "text/plain": [
              "'    Sherlock Holmes  -  Wikipedia                                   Jump to content        Main menu      Main menu move to sidebar hide    \\t\\tNavigation \\t   Main pageContentsCurrent eventsRandom articleAbout WikipediaContact usDonate      \\t\\tContribute \\t   HelpLearn to editCommunity portalRecent changesUpload file      Languages  Language links are at the top of the page across from the title .                     Search            Search         Create accountLog in       Personal tools       Create account Log in      \\t\\tPages for logged out editors learn more    ContributionsTalk                            Contents move to sidebar hide      ( Top )       1Inspiration for the character        2Fictional character biography    Toggle Fictional character biography subsection      2 . 1Family and early life        2 . 2Life with Watson        2 . 3Practice        2 . 4The Great Hiatus        2 . 5Retirement          3Personality and habits    Toggle Personality and habits subsection      3 . 1Drug use        3 . 2Finances        3 . 3Attitudes towards women      3 . 3 . 1Irene Adler            4Knowledge and skills    Toggle Knowledge and skills subsection      4 . 1Holmesian deduction        4 . 2Forensic science        4 . 3Disguises        4 . 4Agents        4 . 5Combat      4 . 5 . 1Pistols        4 . 5 . 2Other weapons        4 . 5 . 3Personal combat            5Reception    Toggle Reception subsection      5 . 1Popularity        5 . 2Honours        5 . 3Societies          6Legacy    Toggle Legacy subsection      6 . 1The detective story        6 . 2 \" Elementary ,  my dear Watson \"         6 . 3The Great Game        6 . 4Museums and special collections        6 . 5Postcolonial criticism          7Adaptations and derived works    Toggle Adaptations and derived works subsection      7 . 1Related and derivative writings        7 . 2Adaptations in other media        7 . 3Copyright issues          8Works    Toggle Works subsection      8 . 1Novels        8 . 2Short st'"
            ]
          },
          "execution_count": 28,
          "metadata": {},
          "output_type": "execute_result"
        }
      ],
      "source": [
        "chars_to_separate = [\",\",\"!\",\"?\",\";\",\":\",\"\\\"\",\"\\'\",\"-\",\".\",\"(\",\")\"]\n",
        "\n",
        "for c in chars_to_separate:\n",
        "    sherlock_wiki_no_lines = sherlock_wiki_no_lines.replace(c,\" \"+c+\" \")\n",
        "\n",
        "sherlock_wiki_no_lines[:2000]"
      ]
    },
    {
      "cell_type": "code",
      "execution_count": null,
      "metadata": {
        "id": "E0ISuWjITPEy",
        "outputId": "fa217648-6684-47d6-9caf-c9f865e86134"
      },
      "outputs": [
        {
          "name": "stdout",
          "output_type": "stream",
          "text": [
            "['Sherlock', 'Holmes', '-', 'Wikipedia', 'Jump', 'to', 'content', 'Main', 'menu', 'Main', 'menu', 'move', 'to', 'sidebar', 'hide', 'Navigation', 'Main', 'pageContentsCurrent', 'eventsRandom', 'articleAbout', 'WikipediaContact', 'usDonate', 'Contribute', 'HelpLearn', 'to', 'editCommunity', 'portalRecent', 'changesUpload', 'file', 'Languages', 'Language', 'links', 'are', 'at', 'the', 'top', 'of', 'the', 'page', 'across', 'from', 'the', 'title', '.', 'Search', 'Search', 'Create', 'accountLog', 'in', 'Personal', 'tools', 'Create', 'account', 'Log', 'in', 'Pages', 'for', 'logged', 'out', 'editors', 'learn', 'more', 'ContributionsTalk', 'Contents', 'move', 'to', 'sidebar', 'hide', '(', 'Top', ')', '1Inspiration', 'for', 'the', 'character', '2Fictional', 'character', 'biography', 'Toggle', 'Fictional', 'character', 'biography', 'subsection', '2', '.', '1Family', 'and', 'early', 'life', '2', '.', '2Life', 'with', 'Watson', '2', '.', '3Practice', '2', '.', '4The', 'Great', 'Hiatus', '2', '.', '5Retirement', '3Personality', 'and', 'habits', 'Toggle', 'Personality', 'and', 'habits', 'subsection', '3', '.', '1Drug', 'use', '3', '.', '2Finances', '3', '.', '3Attitudes', 'towards', 'women', '3', '.', '3', '.', '1Irene', 'Adler', '4Knowledge', 'and', 'skills', 'Toggle', 'Knowledge', 'and', 'skills', 'subsection', '4', '.', '1Holmesian', 'deduction', '4', '.', '2Forensic', 'science', '4', '.', '3Disguises', '4', '.', '4Agents', '4', '.', '5Combat', '4', '.', '5', '.', '1Pistols', '4', '.', '5', '.', '2Other', 'weapons', '4', '.', '5', '.', '3Personal', 'combat', '5Reception', 'Toggle', 'Reception', 'subsection', '5', '.', '1Popularity', '5', '.', '2Honours', '5', '.', '3Societies', '6Legacy', 'Toggle', 'Legacy', 'subsection', '6', '.', '1The', 'detective', 'story', '6', '.', '2', '\"', 'Elementary', ',', 'my', 'dear', 'Watson', '\"', '6', '.', '3The', 'Great', 'Game', '6', '.', '4Museums', 'and', 'special', 'collections', '6', '.', '5Postcolonial', 'criticism', '7Adaptations', 'and', 'derived', 'works', 'Toggle', 'Adaptations', 'and', 'derived', 'works', 'subsection', '7', '.', '1Related', 'and', 'derivative', 'writings', '7', '.', '2Adaptations', 'in', 'other', 'media', '7', '.', '3Copyright', 'issues', '8Works', 'Toggle', 'Works', 'subsection', '8', '.', '1Novels', '8', '.', '2Short', 'story', 'collections', '9See', 'also', '10Notes', '11Sherlock', 'Holmes', 'story', 'references', '12Citations', '13Further', 'reading', '14External', 'links', 'Toggle', 'the', 'table', 'of', 'contents', 'Toggle', 'the', 'table', 'of', 'contents', 'Sherlock', 'Holmes', '99', 'languages', 'العربيةঅসমীয়াAsturianuAzərbaycancaবাংলাBân', '-', 'lâm', '-', 'gúБеларускаяБеларуская', '(', 'тарашкевіца', ')', 'Bikol', 'CentralБългарскиBosanskiBrezhonegCatalàЧӑвашлаCebuanoČeštinaCymraegDanskDeutschEestiΕλληνικάEspañolEsperantoEuskaraفارسیFrançaisFryskGaeilgeGalego한국어Հայերենहिन्दीHornjoserbsceHrvatskiBahasa', 'IndonesiaInterlinguaÍslenskaItalianoעבריתಕನ್ನಡქართულიҚазақшаKurdîКыргызчаLatinaLatviešuLëtzebuergeschLietuviųMagyarМакедонскиMalagasyമലയാളംMaltiमराठीمصرىBahasa', 'MelayuМонголမြန်မာဘာသာNāhuatlNederlands日本語Norsk', 'bokmålNorsk', 'nynorskOccitanOʻzbekcha', '/', 'ўзбекчаਪੰਜਾਬੀپنجابیپښتوPolskiPortuguêsRomânăRumantschРусскийScotsShqipSicilianuසිංහලSimple', 'EnglishSlovenčinaSlovenščinaکوردیСрпски', '/', 'srpskiSrpskohrvatski', '/', 'српскохрватскиSuomiSvenskaTagalogதமிழ்Татарча', '/', 'tatarçaไทยТоҷикӣTürkçeУкраїнськаاردوTiếng', 'ViệtWinaray吴语粵語Žemaitėška中文', 'Edit', 'links', 'ArticleTalk', 'English', 'ReadView', 'sourceView', 'history', 'Tools', 'Tools', 'move', 'to', 'sidebar', 'hide', 'Actions', 'ReadView', 'sourceView', 'history', 'General', 'What', 'links', 'hereRelated', 'changesUpload', 'fileSpecial', 'pagesPermanent', 'linkPage', 'informationGet', 'shortened', 'URLCite', 'this', 'pageWikidata', 'item', 'Print/export', 'Download', 'as', 'PDFPrintable', 'version', 'In', 'other', 'projects', 'Wikimedia', 'CommonsWikiquote', 'From', 'Wikipedia', ',', 'the', 'free', 'encyclopedia', 'Fictional', 'character', '(', 'consulting', 'detective', ')', 'created', 'by', 'Sir', 'Arthur', 'Conan', 'Doyle', 'For', 'other', 'uses', ',', 'see', 'Sherlock', 'Holmes', '(', 'disambiguation', ')', '.', 'Fictional', 'character', 'Sherlock', 'HolmesSherlock', 'Holmes', 'characterSherlock', 'Holmes', 'in', 'a', '1904', 'illustration', 'by', 'Sidney', 'PagetFirst', 'appearanceA', 'Study', 'in', 'Scarlet', '(', '1887', ')', 'Last', 'appearance', '\"', 'The', 'Adventure', 'of', 'Shoscombe', 'Old', 'Place', '\"', '(', '1927', ',', 'canon', ')', 'Created', 'bySir', 'Arthur', 'Conan', 'DoyleIn', '-', 'universe', 'informationOccupationConsulting', 'private', 'detectiveFamilyMycroft', 'Holmes', '(', 'brother', ')', 'NationalityBritishBorn1854', 'Sherlock', 'Holmes', '(', '/ˈʃɜːrlɒk', 'ˈhoʊmz/', ')', 'is', 'a', 'fictional', 'detective', 'created', 'by', 'British', 'author', 'Arthur', 'Conan', 'Doyle', '.', 'Referring', 'to', 'himself', 'as', 'a', '\"', 'consulting', 'detective', '\"', 'in', 'the', 'stories', ',', 'Holmes', 'is', 'known', 'for', 'his', 'proficiency', 'with', 'observation', ',', 'deduction', ',', 'forensic', 'science', 'and', 'logical', 'reasoning', 'that', 'borders', 'on', 'the', 'fantastic', ',', 'which', 'he', 'employs', 'when', 'investigating', 'cases', 'for', 'a', 'wide', 'variety', 'of', 'clients', ',', 'including', 'Scotland', 'Yard', '.', 'First']\n"
          ]
        }
      ],
      "source": [
        "sherlock_wiki_tokens = sherlock_wiki_no_lines.split()\n",
        "print(sherlock_wiki_tokens[:500])"
      ]
    },
    {
      "cell_type": "markdown",
      "metadata": {
        "id": "ZyFZXr4QTPEy"
      },
      "source": [
        "## Exercise\n",
        "\n",
        "Suppose you needed to tokenize lots of Wikipedia pages like this. Can you come up with a strategy for jumping straight to the content like we did with the Project Gutenberg book?"
      ]
    },
    {
      "cell_type": "markdown",
      "metadata": {
        "id": "vl42iYQsTPEy"
      },
      "source": [
        "## NLTK Tokenizers\n",
        "\n",
        "NLTK has some tokenizers - the `punkt` tokenizer is the most popular.\n",
        "\n",
        "It can tokenize by words:\n"
      ]
    },
    {
      "cell_type": "code",
      "execution_count": null,
      "metadata": {
        "id": "pWvTV7XTTPEy",
        "outputId": "00185d21-17ba-4a02-9cbb-4d6c348d0662"
      },
      "outputs": [
        {
          "name": "stdout",
          "output_type": "stream",
          "text": [
            "['ï', '»', '¿The', 'Project', 'Gutenberg', 'eBook', 'of', 'The', 'Adventures', 'of', 'Sherlock', 'Holmes', ',', 'by', 'Arthur', 'Conan', 'Doyle', 'This', 'eBook', 'is', 'for', 'the', 'use', 'of', 'anyone', 'anywhere', 'in', 'the', 'United', 'States', 'and', 'most', 'other', 'parts', 'of', 'the', 'world', 'at', 'no', 'cost', 'and', 'with', 'almost', 'no', 'restrictions', 'whatsoever', '.', 'You', 'may', 'copy', 'it', ',', 'give', 'it', 'away', 'or', 're-use', 'it', 'under', 'the', 'terms', 'of', 'the', 'Project', 'Gutenberg', 'License', 'included', 'with', 'this', 'eBook', 'or', 'online', 'at', 'www.gutenberg.org', '.', 'If', 'you', 'are', 'not', 'located', 'in', 'the', 'United', 'States', ',', 'you', 'will', 'have', 'to', 'check', 'the', 'laws', 'of', 'the', 'country', 'where', 'you', 'are', 'located', 'before', 'using', 'this', 'eBook', '.', 'Title', ':', 'The', 'Adventures', 'of', 'Sherlock', 'Holmes', 'Author', ':', 'Arthur', 'Conan', 'Doyle', 'Release', 'Date', ':', 'November', '29', ',', '2002', '[', 'eBook', '#', '1661', ']', '[', 'Most', 'recently', 'updated', ':', 'May', '20', ',', '2019', ']', 'Language', ':', 'English', 'Character', 'set', 'encoding', ':', 'UTF-8', 'Produced', 'by', ':', 'an', 'anonymous', 'Project', 'Gutenberg', 'volunteer', 'and', 'Jose', 'Menendez', '*', '*', '*', 'START', 'OF', 'THE', 'PROJECT', 'GUTENBERG', 'EBOOK', 'THE', 'ADVENTURES', 'OF', 'SHERLOCK', 'HOLMES', '*', '*', '*', 'cover', 'The', 'Adventures', 'of', 'Sherlock', 'Holmes', 'by', 'Arthur', 'Conan', 'Doyle', 'Contents', 'I', '.', 'A', 'Scandal', 'in', 'Bohemia', 'II', '.', 'The', 'Red-Headed', 'League', 'III', '.', 'A', 'Case', 'of', 'Identity', 'IV', '.', 'The', 'Boscombe', 'Valley', 'Mystery', 'V.', 'The', 'Five', 'Orange', 'Pips', 'VI', '.', 'The', 'Man', 'with', 'the', 'Twisted', 'Lip', 'VII', '.', 'The', 'Adventure', 'of', 'the', 'Blue', 'Carbuncle', 'VIII', '.', 'The', 'Adventure', 'of', 'the', 'Speckled', 'Band', 'IX', '.', 'The', 'Adventure', 'of', 'the', 'Engineerâ\\x80\\x99s', 'Thumb', 'X', '.', 'The', 'Adventure', 'of', 'the', 'Noble', 'Bachelor', 'XI', '.', 'The', 'Adventure', 'of', 'the', 'Beryl', 'Coronet', 'XII', '.', 'The', 'Adventure', 'of', 'the', 'Copper', 'Beeches', 'I', '.', 'A', 'SCANDAL', 'IN', 'BOHEMIA', 'I', '.', 'To', 'Sherlock', 'Holmes', 'she', 'is', 'always', '_the_', 'woman', '.', 'I', 'have', 'seldom', 'heard', 'him', 'mention', 'her', 'under', 'any', 'other', 'name', '.', 'In', 'his', 'eyes', 'she', 'eclipses', 'and', 'predominates', 'the', 'whole', 'of', 'her', 'sex', '.', 'It', 'was', 'not', 'that', 'he', 'felt', 'any', 'emotion', 'akin', 'to', 'love', 'for', 'Irene', 'Adler', '.', 'All', 'emotions', ',', 'and', 'that', 'one', 'particularly', ',', 'were', 'abhorrent', 'to', 'his', 'cold', ',', 'precise', 'but', 'admirably', 'balanced', 'mind', '.', 'He', 'was', ',', 'I', 'take', 'it', ',', 'the', 'most', 'perfect', 'reasoning', 'and', 'observing', 'machine', 'that', 'the', 'world', 'has', 'seen', ',', 'but', 'as', 'a', 'lover', 'he', 'would', 'have', 'placed', 'himself', 'in', 'a', 'false', 'position', '.', 'He', 'never', 'spoke', 'of', 'the', 'softer', 'passions', ',', 'save', 'with', 'a', 'gibe', 'and', 'a', 'sneer', '.', 'They', 'were', 'admirable', 'things', 'for', 'the', 'observerâ\\x80\\x94excellent', 'for', 'drawing', 'the', 'veil', 'from', 'menâ\\x80\\x99s', 'motives', 'and', 'actions', '.', 'But', 'for', 'the', 'trained', 'reasoner', 'to', 'admit', 'such', 'intrusions', 'into', 'his', 'own', 'delicate', 'and', 'finely', 'adjusted', 'temperament', 'was', 'to', 'introduce', 'a', 'distracting', 'factor', 'which', 'might', 'throw', 'a', 'doubt', 'upon', 'all', 'his', 'mental', 'results', '.', 'Grit', 'in', 'a', 'sensitive', 'instrument', ',', 'or', 'a', 'crack', 'in', 'one', 'of', 'his', 'own', 'high-power', 'lenses', ',', 'would', 'not', 'be', 'more', 'disturbing', 'than', 'a', 'strong', 'emotion', 'in', 'a', 'nature', 'such', 'as', 'his', '.', 'And', 'yet', 'there', 'was', 'but', 'one', 'woman', 'to', 'him', ',', 'and', 'that', 'woman', 'was', 'the', 'late', 'Irene', 'Adler', ',', 'of', 'dubious', 'and', 'questionable', 'memory', '.', 'I', 'had', 'seen', 'little', 'of', 'Holmes', 'lately', '.', 'My', 'marriage', 'had', 'drifted', 'us', 'away', 'from', 'each', 'other', '.', 'My', 'own', 'complete', 'happiness', ',', 'and', 'the', 'home-centred', 'interests', 'which', 'rise', 'up', 'around', 'the', 'man', 'who', 'first', 'finds', 'himself', 'master', 'of', 'his', 'own', 'establishment', ',', 'were', 'sufficient', 'to', 'absorb', 'all', 'my', 'attention', ',', 'while', 'Holmes', ',', 'who', 'loathed', 'every', 'form', 'of', 'society', 'with', 'his', 'whole', 'Bohemian', 'soul', ',', 'remained', 'in', 'our', 'lodgings', 'in', 'Baker', 'Street', ',', 'buried', 'among', 'his', 'old', 'books', ',', 'and', 'alternating', 'from', 'week', 'to', 'week', 'between', 'cocaine', 'and', 'ambition', ',', 'the', 'drowsiness', 'of', 'the', 'drug', ',', 'and', 'the', 'fierce', 'energy', 'of', 'his', 'own', 'keen', 'nature', '.', 'He', 'was', 'still', ',', 'as', 'ever', ',', 'deeply', 'attracted', 'by', 'the', 'study', 'of', 'crime', ',', 'and', 'occupied', 'his', 'immense', 'faculties', 'and', 'extraordinary', 'powers', 'of', 'observation', 'in', 'following', 'out', 'those', 'clues', ',', 'and', 'clearing', 'up', 'those', 'mysteries', 'which', 'had', 'been', 'abandoned', 'as', 'hopeless', 'by', 'the', 'official', 'police', '.', 'From', 'time', 'to', 'time', 'I', 'heard', 'some', 'vague', 'account', 'of', 'his', 'doings', ':', 'of', 'his', 'summons', 'to', 'Odessa', 'in', 'the', 'case', 'of', 'the', 'Trepoff', 'murder', ',', 'of', 'his', 'clearing', 'up', 'of', 'the', 'singular', 'tragedy', 'of', 'the', 'Atkinson', 'brothers', 'at', 'Trincomalee', ',', 'and', 'finally', 'of', 'the', 'mission', 'which', 'he', 'had', 'accomplished', 'so', 'delicately', 'and', 'successfully', 'for', 'the', 'reigning', 'family', 'of', 'Holland', '.', 'Beyond', 'these', 'signs', 'of', 'his', 'activity', ',', 'however', ',', 'which', 'I', 'merely', 'shared', 'with', 'all', 'the', 'readers', 'of', 'the', 'daily', 'press', ',', 'I', 'knew', 'little', 'of', 'my', 'former', 'friend', 'and', 'companion', '.', 'One', 'nightâ\\x80\\x94it', 'was', 'on', 'the', 'twentieth', 'of', 'March', ',', '1888â\\x80\\x94I', 'was', 'returning', 'from', 'a', 'journey', 'to', 'a', 'patient', '(', 'for', 'I', 'had', 'now', 'returned', 'to', 'civil', 'practice', ')', ',', 'when', 'my', 'way', 'led', 'me', 'through', 'Baker', 'Street', '.', 'As', 'I', 'passed', 'the', 'well-remembered', 'door', ',', 'which', 'must', 'always', 'be', 'associated', 'in', 'my', 'mind', 'with', 'my', 'wooing', ',', 'and', 'with', 'the', 'dark', 'incidents', 'of', 'the', 'Study', 'in', 'Scarlet', ',', 'I', 'was', 'seized', 'with', 'a', 'keen', 'desire', 'to', 'see', 'Holmes', 'again', ',', 'and', 'to', 'know', 'how', 'he', 'was', 'employing', 'his', 'extraordinary', 'powers', '.', 'His', 'rooms', 'were', 'brilliantly', 'lit', ',', 'and', ',', 'even', 'as', 'I', 'looked', 'up', ',', 'I', 'saw', 'his', 'tall', ',', 'spare', 'figure', 'pass', 'twice', 'in', 'a', 'dark', 'silhouette', 'against', 'the', 'blind', '.', 'He', 'was', 'pacing', 'the', 'room', 'swiftly', ',', 'eagerly', ',', 'with', 'his', 'head', 'sunk', 'upon', 'his', 'chest', 'and', 'his', 'hands', 'clasped', 'behind', 'him', '.', 'To', 'me', ',', 'who', 'knew', 'his', 'every', 'mood', 'and', 'habit', ',', 'his', 'attitude', 'and', 'manner', 'told', 'their', 'own', 'story', '.', 'He', 'was', 'at', 'work', 'again', '.', 'He', 'had', 'risen', 'out', 'of', 'his', 'drug-created', 'dreams', 'and', 'was', 'hot', 'upon', 'the', 'scent', 'of', 'some', 'new', 'problem', '.', 'I', 'rang', 'the', 'bell', 'and', 'was', 'shown', 'up', 'to', 'the', 'chamber', 'which', 'had', 'formerly', 'been', 'in', 'part', 'my', 'own', '.', 'His', 'manner', 'was', 'not', 'effusive', '.', 'It', 'seldom', 'was', ';', 'but', 'he', 'was', 'glad', ',', 'I', 'think', ',', 'to', 'see', 'me', '.', 'With', 'hardly', 'a', 'word', 'spoken', ',', 'but', 'with', 'a', 'kindly', 'eye', ',', 'he', 'waved', 'me', 'to']\n"
          ]
        }
      ],
      "source": [
        "import nltk\n",
        "import requests\n",
        "\n",
        "#nltk.download(\"punkt\") #need to do this the first time you run it\n",
        "\n",
        "response = requests.get(\"https://www.gutenberg.org/files/1661/1661-0.txt\")\n",
        "sherlock_raw_text = response.text\n",
        "\n",
        "sherlock_words = nltk.word_tokenize(sherlock_raw_text)\n",
        "print(sherlock_words[:1000])"
      ]
    },
    {
      "cell_type": "markdown",
      "metadata": {
        "id": "xu-m27SeTPEz"
      },
      "source": [
        "or sentences"
      ]
    },
    {
      "cell_type": "code",
      "execution_count": null,
      "metadata": {
        "id": "bTzEXUPGTPEz",
        "outputId": "26e32285-56a6-40fe-a5ab-b7ff3415756b"
      },
      "outputs": [
        {
          "name": "stdout",
          "output_type": "stream",
          "text": [
            "['ï»¿The Project Gutenberg eBook of The Adventures of Sherlock Holmes, by Arthur Conan Doyle\\r\\n\\r\\nThis eBook is for the use of anyone anywhere in the United States and\\r\\nmost other parts of the world at no cost and with almost no restrictions\\r\\nwhatsoever.', 'You may copy it, give it away or re-use it under the terms\\r\\nof the Project Gutenberg License included with this eBook or online at\\r\\nwww.gutenberg.org.', 'If you are not located in the United States, you\\r\\nwill have to check the laws of the country where you are located before\\r\\nusing this eBook.', 'Title: The Adventures of Sherlock Holmes\\r\\n\\r\\nAuthor: Arthur Conan Doyle\\r\\n\\r\\nRelease Date: November 29, 2002 [eBook #1661]\\r\\n[Most recently updated: May 20, 2019]\\r\\n\\r\\nLanguage: English\\r\\n\\r\\nCharacter set encoding: UTF-8\\r\\n\\r\\nProduced by: an anonymous Project Gutenberg volunteer and Jose Menendez\\r\\n\\r\\n*** START OF THE PROJECT GUTENBERG EBOOK THE ADVENTURES OF SHERLOCK HOLMES ***\\r\\n\\r\\ncover\\r\\n\\r\\n\\r\\n\\r\\n\\r\\nThe Adventures of Sherlock Holmes\\r\\n\\r\\nby Arthur Conan Doyle\\r\\n\\r\\n\\r\\nContents\\r\\n\\r\\n   I.', 'A Scandal in Bohemia\\r\\n   II.', 'The Red-Headed League\\r\\n   III.', 'A Case of Identity\\r\\n   IV.', 'The Boscombe Valley Mystery\\r\\n   V.     The Five Orange Pips\\r\\n   VI.', 'The Man with the Twisted Lip\\r\\n   VII.', 'The Adventure of the Blue Carbuncle\\r\\n   VIII.', 'The Adventure of the Speckled Band\\r\\n   IX.', 'The Adventure of the Engineerâ\\x80\\x99s Thumb\\r\\n   X.', 'The Adventure of the Noble Bachelor\\r\\n   XI.', 'The Adventure of the Beryl Coronet\\r\\n   XII.', 'The Adventure of the Copper Beeches\\r\\n\\r\\n\\r\\n\\r\\n\\r\\nI.', 'A SCANDAL IN BOHEMIA\\r\\n\\r\\n\\r\\nI.', 'To Sherlock Holmes she is always _the_ woman.', 'I have seldom heard him\\r\\nmention her under any other name.', 'In his eyes she eclipses and\\r\\npredominates the whole of her sex.', 'It was not that he felt any emotion\\r\\nakin to love for Irene Adler.', 'All emotions, and that one particularly,\\r\\nwere abhorrent to his cold, precise but admirably balanced mind.', 'He\\r\\nwas, I take it, the most perfect reasoning and observing machine that\\r\\nthe world has seen, but as a lover he would have placed himself in a\\r\\nfalse position.', 'He never spoke of the softer passions, save with a gibe\\r\\nand a sneer.', 'They were admirable things for the observerâ\\x80\\x94excellent for\\r\\ndrawing the veil from menâ\\x80\\x99s motives and actions.', 'But for the trained\\r\\nreasoner to admit such intrusions into his own delicate and finely\\r\\nadjusted temperament was to introduce a distracting factor which might\\r\\nthrow a doubt upon all his mental results.', 'Grit in a sensitive\\r\\ninstrument, or a crack in one of his own high-power lenses, would not\\r\\nbe more disturbing than a strong emotion in a nature such as his.', 'And\\r\\nyet there was but one woman to him, and that woman was the late Irene\\r\\nAdler, of dubious and questionable memory.', 'I had seen little of Holmes lately.', 'My marriage had drifted us away\\r\\nfrom each other.', 'My own complete happiness, and the home-centred\\r\\ninterests which rise up around the man who first finds himself master\\r\\nof his own establishment, were sufficient to absorb all my attention,\\r\\nwhile Holmes, who loathed every form of society with his whole Bohemian\\r\\nsoul, remained in our lodgings in Baker Street, buried among his old\\r\\nbooks, and alternating from week to week between cocaine and ambition,\\r\\nthe drowsiness of the drug, and the fierce energy of his own keen\\r\\nnature.', 'He was still, as ever, deeply attracted by the study of crime,\\r\\nand occupied his immense faculties and extraordinary powers of\\r\\nobservation in following out those clues, and clearing up those\\r\\nmysteries which had been abandoned as hopeless by the official police.', 'From time to time I heard some vague account of his doings: of his\\r\\nsummons to Odessa in the case of the Trepoff murder, of his clearing up\\r\\nof the singular tragedy of the Atkinson brothers at Trincomalee, and\\r\\nfinally of the mission which he had accomplished so delicately and\\r\\nsuccessfully for the reigning family of Holland.', 'Beyond these signs of\\r\\nhis activity, however, which I merely shared with all the readers of\\r\\nthe daily press, I knew little of my former friend and companion.', 'One nightâ\\x80\\x94it was on the twentieth of March, 1888â\\x80\\x94I was returning from a\\r\\njourney to a patient (for I had now returned to civil practice), when\\r\\nmy way led me through Baker Street.', 'As I passed the well-remembered\\r\\ndoor, which must always be associated in my mind with my wooing, and\\r\\nwith the dark incidents of the Study in Scarlet, I was seized with a\\r\\nkeen desire to see Holmes again, and to know how he was employing his\\r\\nextraordinary powers.', 'His rooms were brilliantly lit, and, even as I\\r\\nlooked up, I saw his tall, spare figure pass twice in a dark silhouette\\r\\nagainst the blind.', 'He was pacing the room swiftly, eagerly, with his\\r\\nhead sunk upon his chest and his hands clasped behind him.', 'To me, who\\r\\nknew his every mood and habit, his attitude and manner told their own\\r\\nstory.', 'He was at work again.', 'He had risen out of his drug-created\\r\\ndreams and was hot upon the scent of some new problem.', 'I rang the bell\\r\\nand was shown up to the chamber which had formerly been in part my own.', 'His manner was not effusive.', 'It seldom was; but he was glad, I think,\\r\\nto see me.', 'With hardly a word spoken, but with a kindly eye, he waved\\r\\nme to an armchair, threw across his case of cigars, and indicated a\\r\\nspirit case and a gasogene in the corner.', 'Then he stood before the fire\\r\\nand looked me over in his singular introspective fashion.', 'â\\x80\\x9cWedlock suits you,â\\x80\\x9d he remarked.', 'â\\x80\\x9cI think, Watson, that you have put\\r\\non seven and a half pounds since I saw you.â\\x80\\x9d\\r\\n\\r\\nâ\\x80\\x9cSeven!â\\x80\\x9d I answered.', 'â\\x80\\x9cIndeed, I should have thought a little more.', 'Just a trifle more, I\\r\\nfancy, Watson.', 'And in practice again, I observe.', 'You did not tell me\\r\\nthat you intended to go into harness.â\\x80\\x9d\\r\\n\\r\\nâ\\x80\\x9cThen, how do you know?â\\x80\\x9d\\r\\n\\r\\nâ\\x80\\x9cI see it, I deduce it.', 'How do I know that you have been getting\\r\\nyourself very wet lately, and that you have a most clumsy and careless\\r\\nservant girl?â\\x80\\x9d\\r\\n\\r\\nâ\\x80\\x9cMy dear Holmes,â\\x80\\x9d said I, â\\x80\\x9cthis is too much.', 'You would certainly have\\r\\nbeen burned, had you lived a few centuries ago.', 'It is true that I had a\\r\\ncountry walk on Thursday and came home in a dreadful mess, but as I\\r\\nhave changed my clothes I canâ\\x80\\x99t imagine how you deduce it.', 'As to Mary\\r\\nJane, she is incorrigible, and my wife has given her notice, but there,\\r\\nagain, I fail to see how you work it out.â\\x80\\x9d\\r\\n\\r\\nHe chuckled to himself and rubbed his long, nervous hands together.', 'â\\x80\\x9cIt is simplicity itself,â\\x80\\x9d said he; â\\x80\\x9cmy eyes tell me that on the inside\\r\\nof your left shoe, just where the firelight strikes it, the leather is\\r\\nscored by six almost parallel cuts.', 'Obviously they have been caused by\\r\\nsomeone who has very carelessly scraped round the edges of the sole in\\r\\norder to remove crusted mud from it.', 'Hence, you see, my double\\r\\ndeduction that you had been out in vile weather, and that you had a\\r\\nparticularly malignant boot-slitting specimen of the London slavey.', 'As\\r\\nto your practice, if a gentleman walks into my rooms smelling of\\r\\niodoform, with a black mark of nitrate of silver upon his right\\r\\nforefinger, and a bulge on the right side of his top-hat to show where\\r\\nhe has secreted his stethoscope, I must be dull, indeed, if I do not\\r\\npronounce him to be an active member of the medical profession.â\\x80\\x9d\\r\\n\\r\\nI could not help laughing at the ease with which he explained his\\r\\nprocess of deduction.', 'â\\x80\\x9cWhen I hear you give your reasons,â\\x80\\x9d I remarked,\\r\\nâ\\x80\\x9cthe thing always appears to me to be so ridiculously simple that I\\r\\ncould easily do it myself, though at each successive instance of your\\r\\nreasoning I am baffled until you explain your process.', 'And yet I\\r\\nbelieve that my eyes are as good as yours.â\\x80\\x9d\\r\\n\\r\\nâ\\x80\\x9cQuite so,â\\x80\\x9d he answered, lighting a cigarette, and throwing himself\\r\\ndown into an armchair.', 'â\\x80\\x9cYou see, but you do not observe.', 'The\\r\\ndistinction is clear.', 'For example, you have frequently seen the steps\\r\\nwhich lead up from the hall to this room.â\\x80\\x9d\\r\\n\\r\\nâ\\x80\\x9cFrequently.â\\x80\\x9d\\r\\n\\r\\nâ\\x80\\x9cHow often?â\\x80\\x9d\\r\\n\\r\\nâ\\x80\\x9cWell, some hundreds of times.â\\x80\\x9d\\r\\n\\r\\nâ\\x80\\x9cThen how many are there?â\\x80\\x9d\\r\\n\\r\\nâ\\x80\\x9cHow many?', 'I donâ\\x80\\x99t know.â\\x80\\x9d\\r\\n\\r\\nâ\\x80\\x9cQuite so!', 'You have not observed.', 'And yet you have seen.', 'That is just\\r\\nmy point.', 'Now, I know that there are seventeen steps, because I have\\r\\nboth seen and observed.', 'By the way, since you are interested in these\\r\\nlittle problems, and since you are good enough to chronicle one or two\\r\\nof my trifling experiences, you may be interested in this.â\\x80\\x9d He threw\\r\\nover a sheet of thick, pink-tinted notepaper which had been lying open\\r\\nupon the table.', 'â\\x80\\x9cIt came by the last post,â\\x80\\x9d said he.', 'â\\x80\\x9cRead it aloud.â\\x80\\x9d\\r\\n\\r\\nThe note was undated, and without either signature or address.', 'â\\x80\\x9cThere will call upon you to-night, at a quarter to eight oâ\\x80\\x99clock,â\\x80\\x9d it\\r\\nsaid, â\\x80\\x9ca gentleman who desires to consult you upon a matter of the very\\r\\ndeepest moment.', 'Your recent services to one of the royal houses of\\r\\nEurope have shown that you are one who may safely be trusted with\\r\\nmatters which are of an importance which can hardly be exaggerated.', 'This account of you we have from all quarters received.', 'Be in your\\r\\nchamber then at that hour, and do not take it amiss if your visitor\\r\\nwear a mask.â\\x80\\x9d\\r\\n\\r\\nâ\\x80\\x9cThis is indeed a mystery,â\\x80\\x9d I remarked.', 'â\\x80\\x9cWhat do you imagine that it\\r\\nmeans?â\\x80\\x9d\\r\\n\\r\\nâ\\x80\\x9cI have no data yet.', 'It is a capital mistake to theorise before one has\\r\\ndata.', 'Insensibly one begins to twist facts to suit theories, instead of\\r\\ntheories to suit facts.', 'But the note itself.', 'What do you deduce from\\r\\nit?â\\x80\\x9d\\r\\n\\r\\nI carefully examined the writing, and the paper upon which it was\\r\\nwritten.', 'â\\x80\\x9cThe man who wrote it was presumably well to do,â\\x80\\x9d I remarked,\\r\\nendeavouring to imitate my companionâ\\x80\\x99s processes.', 'â\\x80\\x9cSuch paper could not\\r\\nbe bought under half a crown a packet.', 'It is peculiarly strong and\\r\\nstiff.â\\x80\\x9d\\r\\n\\r\\nâ\\x80\\x9cPeculiarâ\\x80\\x94that is the very word,â\\x80\\x9d said Holmes.', 'â\\x80\\x9cIt is not an English\\r\\npaper at all.', 'Hold it up to the light.â\\x80\\x9d\\r\\n\\r\\nI did so, and saw a large â\\x80\\x9cEâ\\x80\\x9d with a small â\\x80\\x9cg,â\\x80\\x9d a â\\x80\\x9cP,â\\x80\\x9d and a large â\\x80\\x9cGâ\\x80\\x9d\\r\\nwith a small â\\x80\\x9ctâ\\x80\\x9d woven into the texture of the paper.', 'â\\x80\\x9cWhat do you make of that?â\\x80\\x9d asked Holmes.', 'â\\x80\\x9cThe name of the maker, no doubt; or his monogram, rather.â\\x80\\x9d\\r\\n\\r\\nâ\\x80\\x9cNot at all.', 'The â\\x80\\x98Gâ\\x80\\x99 with the small â\\x80\\x98tâ\\x80\\x99 stands for â\\x80\\x98Gesellschaft,â\\x80\\x99\\r\\nwhich is the German for â\\x80\\x98Company.â\\x80\\x99 It is a customary contraction like\\r\\nour â\\x80\\x98Co.â\\x80\\x99 â\\x80\\x98P,â\\x80\\x99 of course, stands for â\\x80\\x98Papier.â\\x80\\x99 Now for the â\\x80\\x98Eg.â\\x80\\x99 Let us\\r\\nglance at our Continental Gazetteer.â\\x80\\x9d He took down a heavy brown volume\\r\\nfrom his shelves.', 'â\\x80\\x9cEglow, Eglonitzâ\\x80\\x94here we are, Egria.', 'It is in a\\r\\nGerman-speaking countryâ\\x80\\x94in Bohemia, not far from Carlsbad.', 'â\\x80\\x98Remarkable\\r\\nas being the scene of the death of Wallenstein, and for its numerous\\r\\nglass-factories and paper-mills.â\\x80\\x99 Ha, ha, my boy, what do you make of\\r\\nthat?â\\x80\\x9d His eyes sparkled, and he sent up a great blue triumphant cloud\\r\\nfrom his cigarette.', 'â\\x80\\x9cThe paper was made in Bohemia,â\\x80\\x9d I said.', 'â\\x80\\x9cPrecisely.', 'And the man who wrote the note is a German.', 'Do you note the\\r\\npeculiar construction of the sentenceâ\\x80\\x94â\\x80\\x98This account of you we have from\\r\\nall quarters received.â\\x80\\x99 A Frenchman or Russian could not have written\\r\\nthat.', 'It is the German who is so uncourteous to his verbs.', 'It only\\r\\nremains, therefore, to discover what is wanted by this German who\\r\\nwrites upon Bohemian paper and prefers wearing a mask to showing his\\r\\nface.', 'And here he comes, if I am not mistaken, to resolve all our\\r\\ndoubts.â\\x80\\x9d\\r\\n\\r\\nAs he spoke there was the sharp sound of horsesâ\\x80\\x99 hoofs and grating\\r\\nwheels against the curb, followed by a sharp pull at the bell.', 'Holmes\\r\\nwhistled.']\n"
          ]
        }
      ],
      "source": [
        "import nltk\n",
        "import requests\n",
        "\n",
        "#nltk.download(\"punkt\") #only need to do this once\n",
        "\n",
        "response = requests.get(\"https://www.gutenberg.org/files/1661/1661-0.txt\")\n",
        "sherlock_raw_text = response.text\n",
        "\n",
        "sherlock_sentences = nltk.sent_tokenize(sherlock_raw_text)\n",
        "print(sherlock_sentences[:100])"
      ]
    },
    {
      "cell_type": "markdown",
      "metadata": {
        "id": "jqepl8bzTPEz"
      },
      "source": [
        "## Exercise\n",
        "\n",
        "It seems that there are still some strange characters - can you preprocess the text to fix them before using the NLTK tokenizer?\n",
        "\n",
        "Could you structure the words by sentences like we did earlier?"
      ]
    },
    {
      "cell_type": "markdown",
      "metadata": {
        "id": "_qi315FXTPEz"
      },
      "source": [
        "## Automatic Tokenizers\n",
        "\n",
        "Rather than having to program specific rules for how to tokenize your text, you could learn to do it automatically.\n",
        "\n",
        "Two popular algorithms:\n",
        "* Byte-Pair Encoding tokenization (used by OpenAI's GPT)\n",
        "* WordPiece tokenization (used by Google's BERT)\n",
        "\n",
        "Main idea:\n",
        "* do some normalization and pre-tokenization - like the rule-based tokenization we used to form characters into sequences separated by spaces\n",
        "* start with a vocabulary where each character is a different possible token\n",
        "* find the most frequent consecutive pair, merge them together into a new token\n",
        "* keep going until your vocabulary is a desired size\n",
        "\n",
        "Frequent words - don't break them apart\n",
        "\n",
        "Less-frequent words - represent them as several subwords"
      ]
    },
    {
      "cell_type": "markdown",
      "metadata": {
        "id": "Nysg9IbgTPE0"
      },
      "source": [
        "For WordPiece, `##` represents a partial word"
      ]
    },
    {
      "cell_type": "code",
      "execution_count": null,
      "metadata": {
        "id": "Au4ntQdpTPE0",
        "outputId": "af0dfe1c-9c2a-492e-82b1-8bb4d1b4ad9e"
      },
      "outputs": [
        {
          "name": "stderr",
          "output_type": "stream",
          "text": [
            "Token indices sequence length is longer than the specified maximum sequence length for this model (143279 > 512). Running this sequence through the model will result in indexing errors\n"
          ]
        },
        {
          "name": "stdout",
          "output_type": "stream",
          "text": [
            "['ï', '»', '¿', 'The', 'Project', 'G', '##ute', '##nberg', 'e', '##B', '##ook', 'of', 'The', 'Adventures', 'of', 'Sherlock', 'Holmes', ',', 'by', 'Arthur', 'Conan', 'Doyle', 'This', 'e', '##B', '##ook', 'is', 'for', 'the', 'use', 'of', 'anyone', 'anywhere', 'in', 'the', 'United', 'States', 'and', 'most', 'other', 'parts', 'of', 'the', 'world', 'at', 'no', 'cost', 'and', 'with', 'almost', 'no', 'restrictions', 'whatsoever', '.', 'You', 'may', 'copy', 'it', ',', 'give', 'it', 'away', 'or', 're', '-', 'use', 'it', 'under', 'the', 'terms', 'of', 'the', 'Project', 'G', '##ute', '##nberg', 'License', 'included', 'with', 'this', 'e', '##B', '##ook', 'or', 'online', 'at', 'www', '.', 'gut', '##enberg', '.', 'org', '.', 'If', 'you', 'are', 'not', 'located', 'in', 'the', 'United', 'States', ',', 'you', 'will', 'have', 'to', 'check', 'the', 'laws', 'of', 'the', 'country', 'where', 'you', 'are', 'located', 'before', 'using', 'this', 'e', '##B', '##ook', '.', 'Title', ':', 'The', 'Adventures', 'of', 'Sherlock', 'Holmes', 'Author', ':', 'Arthur', 'Conan', 'Doyle', 'Release', 'Date', ':', 'November', '29', ',', '2002', '[', 'e', '##B', '##ook', '#', '1661', ']', '[', 'Most', 'recently', 'updated', ':', 'May', '20', ',', '2019', ']', 'Language', ':', 'English', 'Character', 'set', 'encoding', ':', 'U', '##TF', '-', '8', 'Produced', 'by', ':', 'an', 'anonymous', 'Project', 'G', '##ute', '##nberg', 'volunteer', 'and', 'Jose', 'Men', '##end', '##ez', '*', '*', '*', 'ST', '##AR', '##T', 'OF', 'THE', 'PR', '##O', '##J', '##EC', '##T', 'G', '##UT', '##EN', '##BE', '##R', '##G', 'E', '##BO', '##OK', 'THE', 'AD', '##VE', '##NT', '##UR', '##ES', 'OF', 'SH', '##ER', '##L', '##OC', '##K', 'H', '##OL', '##ME', '##S', '*', '*', '*', 'cover', 'The', 'Adventures', 'of', 'Sherlock', 'Holmes', 'by', 'Arthur', 'Conan', 'Doyle', 'Content', '##s', 'I', '.', 'A', 'Sc', '##anda', '##l', 'in', 'Bohemia', 'II', '.', 'The', 'Red', '-', 'Head', '##ed', 'League', 'III', '.', 'A', 'Case', 'of', 'Identity', 'IV', '.', 'The', 'Bo', '##sco', '##mbe', 'Valley', 'Mystery', 'V', '.', 'The', 'Five', 'Orange', 'Pi', '##ps', 'VI', '.', 'The', 'Man', 'with', 'the', 'T', '##wi', '##sted', 'Li', '##p', 'VII', '.', 'The', 'Adventure', 'of', 'the', 'Blue', 'Car', '##bu', '##nc', '##le', 'VIII', '.', 'The', 'Adventure', 'of', 'the', 'S', '##pec', '##kled', 'Band', 'IX', '.', 'The', 'Adventure', 'of', 'the', 'Engineer', '##â', '##s', 'T', '##hum', '##b', 'X', '.', 'The', 'Adventure', 'of', 'the', 'Noble', 'Bachelor', 'XI', '.', 'The', 'Adventure', 'of', 'the', 'Be', '##ryl', 'Co', '##rone', '##t', 'XII', '.', 'The', 'Adventure', 'of', 'the', 'Copper', 'Bee', '##ches', 'I', '.', 'A', 'SC', '##AN', '##DA', '##L', 'IN', 'B', '##OH', '##EM', '##IA', 'I', '.', 'To', 'Sherlock', 'Holmes', 'she', 'is', 'always', '_', 'the', '_', 'woman', '.', 'I', 'have', 'seldom', 'heard', 'him', 'mention', 'her', 'under', 'any', 'other', 'name', '.', 'In', 'his', 'eyes', 'she', 'eclipse', '##s', 'and', 'pre', '##dom', '##inate', '##s', 'the', 'whole', 'of', 'her', 'sex', '.', 'It', 'was', 'not', 'that', 'he', 'felt', 'any', 'emotion', 'akin', 'to', 'love', 'for', 'Irene', 'Adler', '.', 'All', 'emotions', ',', 'and', 'that', 'one', 'particularly', ',', 'were', 'a', '##b', '##hor', '##rent', 'to', 'his', 'cold', ',', 'precise', 'but', 'ad', '##mir', '##ably', 'balanced', 'mind', '.', 'He', 'was', ',', 'I', 'take', 'it', ',', 'the', 'most', 'perfect', 'reasoning', 'and', 'observing', 'machine', 'that', 'the', 'world', 'has', 'seen', ',', 'but', 'as', 'a', 'lover', 'he', 'would', 'have', 'placed', 'himself', 'in', 'a', 'false', 'position', '.', 'He', 'never', 'spoke', 'of', 'the', 'softer', 'passion', '##s', ',', 'save', 'with', 'a', 'g', '##ibe', 'and', 'a', 's', '##neer', '.', 'They', 'were', 'ad', '##mir', '##able', 'things', 'for', 'the', 'observer', '##â', '##ex', '##cell', '##ent', 'for', 'drawing', 'the', 'veil', 'from', 'men', '##â', '##s', 'motives', 'and', 'actions', '.', 'But', 'for', 'the', 'trained', 'reason', '##er', 'to', 'admit', 'such', 'in', '##trusion', '##s', 'into', 'his', 'own', 'delicate', 'and', 'finely', 'adjusted', 'temper', '##ament', 'was', 'to', 'introduce', 'a', 'distract', '##ing', 'factor', 'which', 'might', 'throw', 'a', 'doubt', 'upon', 'all', 'his', 'mental', 'results', '.', 'G', '##rit', 'in', 'a', 'sensitive', 'instrument', ',', 'or', 'a', 'crack', 'in', 'one', 'of', 'his', 'own', 'high', '-', 'power', 'lenses', ',', 'would', 'not', 'be', 'more', 'disturbing', 'than', 'a', 'strong', 'emotion', 'in', 'a', 'nature', 'such', 'as', 'his', '.', 'And', 'yet', 'there', 'was', 'but', 'one', 'woman', 'to', 'him', ',', 'and', 'that', 'woman', 'was', 'the', 'late', 'Irene', 'Adler', ',', 'of', 'dubious', 'and', 'questionable', 'memory', '.', 'I', 'had', 'seen', 'little', 'of', 'Holmes', 'lately', '.', 'My', 'marriage', 'had', 'drifted', 'us', 'away', 'from', 'each', 'other', '.', 'My', 'own', 'complete', 'happiness', ',', 'and', 'the', 'home', '-', 'centred', 'interests', 'which', 'rise', 'up', 'around', 'the', 'man', 'who', 'first', 'finds', 'himself', 'master', 'of', 'his', 'own', 'establishment', ',', 'were', 'sufficient', 'to', 'absorb', 'all', 'my', 'attention', ',', 'while', 'Holmes', ',', 'who', 'lo', '##athed', 'every', 'form', 'of', 'society', 'with', 'his', 'whole', 'Bohemian', 'soul', ',', 'remained', 'in', 'our', 'lo', '##dging', '##s', 'in', 'Baker', 'Street', ',', 'buried', 'among', 'his', 'old', 'books', ',', 'and', 'alternating', 'from', 'week', 'to', 'week', 'between', 'cocaine', 'and', 'ambition', ',', 'the', 'd', '##rows', '##iness', 'of', 'the', 'drug', ',', 'and', 'the', 'fierce', 'energy', 'of', 'his', 'own', 'keen', 'nature', '.', 'He', 'was', 'still', ',', 'as', 'ever', ',', 'deeply', 'attracted', 'by', 'the', 'study', 'of', 'crime', ',', 'and', 'occupied', 'his', 'immense', 'faculties', 'and', 'extraordinary', 'powers', 'of', 'observation', 'in', 'following', 'out', 'those', 'clues', ',', 'and', 'clearing', 'up', 'those', 'mysteries', 'which', 'had', 'been', 'abandoned', 'as', 'hopeless', 'by', 'the', 'official', 'police', '.', 'From', 'time', 'to', 'time', 'I', 'heard', 'some', 'vague', 'account', 'of', 'his', 'doing', '##s', ':', 'of', 'his', 'summon', '##s', 'to', 'Odessa', 'in', 'the', 'case', 'of', 'the', 'T', '##re', '##po', '##ff', 'murder', ',', 'of', 'his', 'clearing', 'up', 'of', 'the', 'singular', 'tragedy', 'of', 'the', 'Atkinson', 'brothers', 'at', 'Tri', '##nco', '##mal', '##ee', ',', 'and', 'finally', 'of', 'the', 'mission', 'which', 'he', 'had', 'accomplished', 'so', 'delicate', '##ly', 'and', 'successfully', 'for', 'the', 'reigning', 'family', 'of', 'Holland', '.', 'Beyond', 'these', 'signs', 'of', 'his', 'activity', ',', 'however', ',', 'which', 'I', 'merely', 'shared', 'with', 'all', 'the', 'readers', 'of', 'the', 'daily', 'press', ',', 'I', 'knew', 'little', 'of', 'my', 'former', 'friend', 'and', 'companion', '.', 'One', 'night', '##â', '##it', 'was', 'on', 'the', 'twentieth', 'of', 'March', ',', '1888', '##â', '##I', 'was', 'returning', 'from', 'a', 'journey', 'to', 'a', 'patient', '(', 'for', 'I', 'had', 'now', 'returned', 'to', 'civil', 'practice', ')', ',', 'when', 'my', 'way', 'led', 'me', 'through', 'Baker', 'Street', '.', 'As', 'I', 'passed', 'the', 'well', '-', 'remembered', 'door', ',', 'which', 'must', 'always', 'be', 'associated', 'in', 'my', 'mind', 'with', 'my', 'w', '##oo', '##ing', ',', 'and', 'with', 'the', 'dark', 'incidents', 'of', 'the', 'Study', 'in', 'Scarlet', ',', 'I', 'was', 'seized', 'with', 'a', 'keen', 'desire', 'to', 'see', 'Holmes', 'again', ',', 'and', 'to', 'know', 'how', 'he', 'was', 'employing', 'his', 'extraordinary', 'powers', '.', 'His', 'rooms', 'were', 'brilliant', '##ly', 'lit', ',', 'and', ',', 'even', 'as', 'I', 'looked', 'up', ',', 'I', 'saw', 'his']\n"
          ]
        }
      ],
      "source": [
        "import requests\n",
        "from transformers import AutoTokenizer\n",
        "\n",
        "tokenizer = AutoTokenizer.from_pretrained(\"bert-base-cased\")\n",
        "\n",
        "\n",
        "response = requests.get(\"https://www.gutenberg.org/files/1661/1661-0.txt\")\n",
        "sherlock_raw_text = response.text\n",
        "\n",
        "sherlock_hf_tokens = tokenizer.tokenize( sherlock_raw_text )\n",
        "print(sherlock_hf_tokens[:1000])"
      ]
    },
    {
      "cell_type": "markdown",
      "metadata": {
        "id": "2cwsGwhlTPE0"
      },
      "source": [
        "## Applied Exploration\n",
        "\n",
        "Find some new text, tokenize it according to one or more of the methods discussed here\n",
        "\n",
        "Use it as input for the Markov Chain in the previous set of notes\n",
        "\n",
        "Describe what you did and record notes about your results\n",
        "\n"
      ]
    }
  ],
  "metadata": {
    "celltoolbar": "Slideshow",
    "colab": {
      "provenance": []
    },
    "kernelspec": {
      "display_name": "Python 3 (ipykernel)",
      "language": "python",
      "name": "python3"
    },
    "language_info": {
      "codemirror_mode": {
        "name": "ipython",
        "version": 3
      },
      "file_extension": ".py",
      "mimetype": "text/x-python",
      "name": "python",
      "nbconvert_exporter": "python",
      "pygments_lexer": "ipython3",
      "version": "3.10.6"
    }
  },
  "nbformat": 4,
  "nbformat_minor": 0
}